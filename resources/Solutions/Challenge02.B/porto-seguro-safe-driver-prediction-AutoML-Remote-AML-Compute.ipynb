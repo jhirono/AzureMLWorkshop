{
 "cells": [
  {
   "cell_type": "markdown",
   "metadata": {},
   "source": [
    "# Porto Seguro's Safe Driving Prediction (AutoML Remote AML Compute)\n",
    "\n",
    "Porto Seguro, one of Brazil’s largest auto and homeowner insurance companies, completely agrees. Inaccuracies in car insurance company’s claim predictions raise the cost of insurance for good drivers and reduce the price for bad ones.\n",
    "\n",
    "In the [Porto Seguro Safe Driver Prediction competition](https://www.kaggle.com/c/porto-seguro-safe-driver-prediction), the challenge is to build a model that predicts the probability that a driver will initiate an auto insurance claim in the next year. While Porto Seguro has used machine learning for the past 20 years, they’re looking to Kaggle’s machine learning community to explore new, more powerful methods. A more accurate prediction will allow them to further tailor their prices, and hopefully make auto insurance coverage more accessible to more drivers.\n",
    "\n",
    "Lucky for you, a machine learning model was built to solve the Porto Seguro problem by the data scientist on your team. The solution notebook has steps to load data, split the data into test and train sets, train, evaluate and save a LightGBM model that will be used for the future challenges.\n",
    "\n",
    "#### Hint: use shift + enter to run the code cells below. Once the cell turns from [*] to [#], you can be sure the cell has run. "
   ]
  },
  {
   "cell_type": "markdown",
   "metadata": {},
   "source": [
    "## Import Needed Packages\n",
    "\n",
    "Import the packages needed for this solution notebook. The most widely used package for machine learning is [scikit-learn](https://scikit-learn.org/stable/), [pandas](https://pandas.pydata.org/docs/getting_started/index.html#getting-started), and [numpy](https://numpy.org/). These packages have various features, as well as a lot of clustering, regression and classification algorithms that make it a good choice for data mining and data analysis."
   ]
  },
  {
   "cell_type": "code",
   "execution_count": 2,
   "metadata": {},
   "outputs": [],
   "source": [
    "import os\n",
    "import numpy as np\n",
    "import pandas as pd\n",
    "from sklearn.model_selection import train_test_split\n",
    "import joblib\n",
    "from sklearn import metrics"
   ]
  },
  {
   "cell_type": "markdown",
   "metadata": {},
   "source": [
    "##  Get Azure ML Workspace to use"
   ]
  },
  {
   "cell_type": "code",
   "execution_count": 3,
   "metadata": {},
   "outputs": [],
   "source": [
    "from azureml.core import Workspace, Dataset\n",
    "\n",
    "# Get Workspace defined in by default config.json file\n",
    "ws = Workspace.from_config()"
   ]
  },
  {
   "cell_type": "markdown",
   "metadata": {},
   "source": [
    "## Load data from Azure ML Dataset into Pandas DataFrame"
   ]
  },
  {
   "cell_type": "code",
   "execution_count": 4,
   "metadata": {},
   "outputs": [
    {
     "name": "stdout",
     "output_type": "stream",
     "text": [
      "(595212, 59)\n"
     ]
    },
    {
     "data": {
      "text/html": [
       "<div>\n",
       "<style scoped>\n",
       "    .dataframe tbody tr th:only-of-type {\n",
       "        vertical-align: middle;\n",
       "    }\n",
       "\n",
       "    .dataframe tbody tr th {\n",
       "        vertical-align: top;\n",
       "    }\n",
       "\n",
       "    .dataframe thead th {\n",
       "        text-align: right;\n",
       "    }\n",
       "</style>\n",
       "<table border=\"1\" class=\"dataframe\">\n",
       "  <thead>\n",
       "    <tr style=\"text-align: right;\">\n",
       "      <th></th>\n",
       "      <th>id</th>\n",
       "      <th>target</th>\n",
       "      <th>ps_ind_01</th>\n",
       "      <th>ps_ind_02_cat</th>\n",
       "      <th>ps_ind_03</th>\n",
       "      <th>ps_ind_04_cat</th>\n",
       "      <th>ps_ind_05_cat</th>\n",
       "      <th>ps_ind_06_bin</th>\n",
       "      <th>ps_ind_07_bin</th>\n",
       "      <th>ps_ind_08_bin</th>\n",
       "      <th>...</th>\n",
       "      <th>ps_calc_11</th>\n",
       "      <th>ps_calc_12</th>\n",
       "      <th>ps_calc_13</th>\n",
       "      <th>ps_calc_14</th>\n",
       "      <th>ps_calc_15_bin</th>\n",
       "      <th>ps_calc_16_bin</th>\n",
       "      <th>ps_calc_17_bin</th>\n",
       "      <th>ps_calc_18_bin</th>\n",
       "      <th>ps_calc_19_bin</th>\n",
       "      <th>ps_calc_20_bin</th>\n",
       "    </tr>\n",
       "  </thead>\n",
       "  <tbody>\n",
       "    <tr>\n",
       "      <th>0</th>\n",
       "      <td>7</td>\n",
       "      <td>0</td>\n",
       "      <td>2</td>\n",
       "      <td>2</td>\n",
       "      <td>5</td>\n",
       "      <td>1</td>\n",
       "      <td>0</td>\n",
       "      <td>0</td>\n",
       "      <td>1</td>\n",
       "      <td>0</td>\n",
       "      <td>...</td>\n",
       "      <td>9</td>\n",
       "      <td>1</td>\n",
       "      <td>5</td>\n",
       "      <td>8</td>\n",
       "      <td>0</td>\n",
       "      <td>1</td>\n",
       "      <td>1</td>\n",
       "      <td>0</td>\n",
       "      <td>0</td>\n",
       "      <td>1</td>\n",
       "    </tr>\n",
       "    <tr>\n",
       "      <th>1</th>\n",
       "      <td>9</td>\n",
       "      <td>0</td>\n",
       "      <td>1</td>\n",
       "      <td>1</td>\n",
       "      <td>7</td>\n",
       "      <td>0</td>\n",
       "      <td>0</td>\n",
       "      <td>0</td>\n",
       "      <td>0</td>\n",
       "      <td>1</td>\n",
       "      <td>...</td>\n",
       "      <td>3</td>\n",
       "      <td>1</td>\n",
       "      <td>1</td>\n",
       "      <td>9</td>\n",
       "      <td>0</td>\n",
       "      <td>1</td>\n",
       "      <td>1</td>\n",
       "      <td>0</td>\n",
       "      <td>1</td>\n",
       "      <td>0</td>\n",
       "    </tr>\n",
       "    <tr>\n",
       "      <th>2</th>\n",
       "      <td>13</td>\n",
       "      <td>0</td>\n",
       "      <td>5</td>\n",
       "      <td>4</td>\n",
       "      <td>9</td>\n",
       "      <td>1</td>\n",
       "      <td>0</td>\n",
       "      <td>0</td>\n",
       "      <td>0</td>\n",
       "      <td>1</td>\n",
       "      <td>...</td>\n",
       "      <td>4</td>\n",
       "      <td>2</td>\n",
       "      <td>7</td>\n",
       "      <td>7</td>\n",
       "      <td>0</td>\n",
       "      <td>1</td>\n",
       "      <td>1</td>\n",
       "      <td>0</td>\n",
       "      <td>1</td>\n",
       "      <td>0</td>\n",
       "    </tr>\n",
       "    <tr>\n",
       "      <th>3</th>\n",
       "      <td>16</td>\n",
       "      <td>0</td>\n",
       "      <td>0</td>\n",
       "      <td>1</td>\n",
       "      <td>2</td>\n",
       "      <td>0</td>\n",
       "      <td>0</td>\n",
       "      <td>1</td>\n",
       "      <td>0</td>\n",
       "      <td>0</td>\n",
       "      <td>...</td>\n",
       "      <td>2</td>\n",
       "      <td>2</td>\n",
       "      <td>4</td>\n",
       "      <td>9</td>\n",
       "      <td>0</td>\n",
       "      <td>0</td>\n",
       "      <td>0</td>\n",
       "      <td>0</td>\n",
       "      <td>0</td>\n",
       "      <td>0</td>\n",
       "    </tr>\n",
       "    <tr>\n",
       "      <th>4</th>\n",
       "      <td>17</td>\n",
       "      <td>0</td>\n",
       "      <td>0</td>\n",
       "      <td>2</td>\n",
       "      <td>0</td>\n",
       "      <td>1</td>\n",
       "      <td>0</td>\n",
       "      <td>1</td>\n",
       "      <td>0</td>\n",
       "      <td>0</td>\n",
       "      <td>...</td>\n",
       "      <td>3</td>\n",
       "      <td>1</td>\n",
       "      <td>1</td>\n",
       "      <td>3</td>\n",
       "      <td>0</td>\n",
       "      <td>0</td>\n",
       "      <td>0</td>\n",
       "      <td>1</td>\n",
       "      <td>1</td>\n",
       "      <td>0</td>\n",
       "    </tr>\n",
       "  </tbody>\n",
       "</table>\n",
       "<p>5 rows × 59 columns</p>\n",
       "</div>"
      ],
      "text/plain": [
       "   id  target  ps_ind_01  ps_ind_02_cat  ps_ind_03  ps_ind_04_cat  \\\n",
       "0   7       0          2              2          5              1   \n",
       "1   9       0          1              1          7              0   \n",
       "2  13       0          5              4          9              1   \n",
       "3  16       0          0              1          2              0   \n",
       "4  17       0          0              2          0              1   \n",
       "\n",
       "   ps_ind_05_cat  ps_ind_06_bin  ps_ind_07_bin  ps_ind_08_bin       ...        \\\n",
       "0              0              0              1              0       ...         \n",
       "1              0              0              0              1       ...         \n",
       "2              0              0              0              1       ...         \n",
       "3              0              1              0              0       ...         \n",
       "4              0              1              0              0       ...         \n",
       "\n",
       "   ps_calc_11  ps_calc_12  ps_calc_13  ps_calc_14  ps_calc_15_bin  \\\n",
       "0           9           1           5           8               0   \n",
       "1           3           1           1           9               0   \n",
       "2           4           2           7           7               0   \n",
       "3           2           2           4           9               0   \n",
       "4           3           1           1           3               0   \n",
       "\n",
       "   ps_calc_16_bin  ps_calc_17_bin  ps_calc_18_bin  ps_calc_19_bin  \\\n",
       "0               1               1               0               0   \n",
       "1               1               1               0               1   \n",
       "2               1               1               0               1   \n",
       "3               0               0               0               0   \n",
       "4               0               0               1               1   \n",
       "\n",
       "   ps_calc_20_bin  \n",
       "0               1  \n",
       "1               0  \n",
       "2               0  \n",
       "3               0  \n",
       "4               0  \n",
       "\n",
       "[5 rows x 59 columns]"
      ]
     },
     "execution_count": 4,
     "metadata": {},
     "output_type": "execute_result"
    }
   ],
   "source": [
    "# Load Data\n",
    "aml_dataset = ws.datasets['porto_seguro_safe_driver_prediction_train']\n",
    "\n",
    "# Use Pandas DataFrame just to sneak peak some data and schema\n",
    "data_df = aml_dataset.to_pandas_dataframe()\n",
    "# .to_pandas_dataframe().dropna()\n",
    "print(data_df.shape)\n",
    "data_df.head(5)"
   ]
  },
  {
   "cell_type": "markdown",
   "metadata": {},
   "source": [
    "## Split Data into Train and Validatation AML Tabular Datasets\n",
    "\n",
    "Note that for remote AML Training you need to use AML Datasets, you cannot submit Pandas Dataframes.\n",
    "\n",
    "Partitioning data into training, validation, and holdout sets allows you to develop highly accurate models that are relevant to data that you collect in the future, not just the data the model was trained on. \n",
    "\n",
    "In machine learning, features are the measurable property of the object you’re trying to analyze. Typically, features are the columns of the data that you are training your model with minus the label. In machine learning, a label (categorical) or target (regression) is the output you get from your model after training it."
   ]
  },
  {
   "cell_type": "code",
   "execution_count": 20,
   "metadata": {},
   "outputs": [],
   "source": [
    "# Split in train/validation datasets (Validation=20%, Train=80%)\n",
    "\n",
    "train_dataset, validation_dataset = aml_dataset.random_split(0.8, seed=0)\n",
    "\n",
    "# Use Pandas DF only to check the data\n",
    "train_df = train_dataset.to_pandas_dataframe()\n",
    "validation_df = validation_dataset.to_pandas_dataframe()"
   ]
  },
  {
   "cell_type": "code",
   "execution_count": 21,
   "metadata": {},
   "outputs": [
    {
     "name": "stdout",
     "output_type": "stream",
     "text": [
      "(475857, 59)\n",
      "(119355, 59)\n"
     ]
    }
   ],
   "source": [
    "print(train_df.shape)\n",
    "print(validation_df.shape)"
   ]
  },
  {
   "cell_type": "code",
   "execution_count": 28,
   "metadata": {},
   "outputs": [
    {
     "data": {
      "text/html": [
       "<div>\n",
       "<style scoped>\n",
       "    .dataframe tbody tr th:only-of-type {\n",
       "        vertical-align: middle;\n",
       "    }\n",
       "\n",
       "    .dataframe tbody tr th {\n",
       "        vertical-align: top;\n",
       "    }\n",
       "\n",
       "    .dataframe thead th {\n",
       "        text-align: right;\n",
       "    }\n",
       "</style>\n",
       "<table border=\"1\" class=\"dataframe\">\n",
       "  <thead>\n",
       "    <tr style=\"text-align: right;\">\n",
       "      <th></th>\n",
       "      <th>id</th>\n",
       "      <th>target</th>\n",
       "      <th>ps_ind_01</th>\n",
       "      <th>ps_ind_02_cat</th>\n",
       "      <th>ps_ind_03</th>\n",
       "      <th>ps_ind_04_cat</th>\n",
       "      <th>ps_ind_05_cat</th>\n",
       "      <th>ps_ind_06_bin</th>\n",
       "      <th>ps_ind_07_bin</th>\n",
       "      <th>ps_ind_08_bin</th>\n",
       "      <th>...</th>\n",
       "      <th>ps_calc_11</th>\n",
       "      <th>ps_calc_12</th>\n",
       "      <th>ps_calc_13</th>\n",
       "      <th>ps_calc_14</th>\n",
       "      <th>ps_calc_15_bin</th>\n",
       "      <th>ps_calc_16_bin</th>\n",
       "      <th>ps_calc_17_bin</th>\n",
       "      <th>ps_calc_18_bin</th>\n",
       "      <th>ps_calc_19_bin</th>\n",
       "      <th>ps_calc_20_bin</th>\n",
       "    </tr>\n",
       "  </thead>\n",
       "  <tbody>\n",
       "    <tr>\n",
       "      <th>0</th>\n",
       "      <td>9</td>\n",
       "      <td>0</td>\n",
       "      <td>1</td>\n",
       "      <td>1</td>\n",
       "      <td>7</td>\n",
       "      <td>0</td>\n",
       "      <td>0</td>\n",
       "      <td>0</td>\n",
       "      <td>0</td>\n",
       "      <td>1</td>\n",
       "      <td>...</td>\n",
       "      <td>3</td>\n",
       "      <td>1</td>\n",
       "      <td>1</td>\n",
       "      <td>9</td>\n",
       "      <td>0</td>\n",
       "      <td>1</td>\n",
       "      <td>1</td>\n",
       "      <td>0</td>\n",
       "      <td>1</td>\n",
       "      <td>0</td>\n",
       "    </tr>\n",
       "    <tr>\n",
       "      <th>1</th>\n",
       "      <td>22</td>\n",
       "      <td>0</td>\n",
       "      <td>5</td>\n",
       "      <td>1</td>\n",
       "      <td>4</td>\n",
       "      <td>0</td>\n",
       "      <td>0</td>\n",
       "      <td>1</td>\n",
       "      <td>0</td>\n",
       "      <td>0</td>\n",
       "      <td>...</td>\n",
       "      <td>7</td>\n",
       "      <td>1</td>\n",
       "      <td>3</td>\n",
       "      <td>6</td>\n",
       "      <td>1</td>\n",
       "      <td>0</td>\n",
       "      <td>1</td>\n",
       "      <td>0</td>\n",
       "      <td>1</td>\n",
       "      <td>0</td>\n",
       "    </tr>\n",
       "    <tr>\n",
       "      <th>2</th>\n",
       "      <td>26</td>\n",
       "      <td>0</td>\n",
       "      <td>5</td>\n",
       "      <td>1</td>\n",
       "      <td>3</td>\n",
       "      <td>1</td>\n",
       "      <td>0</td>\n",
       "      <td>0</td>\n",
       "      <td>0</td>\n",
       "      <td>1</td>\n",
       "      <td>...</td>\n",
       "      <td>4</td>\n",
       "      <td>2</td>\n",
       "      <td>1</td>\n",
       "      <td>5</td>\n",
       "      <td>0</td>\n",
       "      <td>1</td>\n",
       "      <td>0</td>\n",
       "      <td>0</td>\n",
       "      <td>0</td>\n",
       "      <td>1</td>\n",
       "    </tr>\n",
       "    <tr>\n",
       "      <th>3</th>\n",
       "      <td>50</td>\n",
       "      <td>0</td>\n",
       "      <td>1</td>\n",
       "      <td>2</td>\n",
       "      <td>1</td>\n",
       "      <td>0</td>\n",
       "      <td>0</td>\n",
       "      <td>0</td>\n",
       "      <td>0</td>\n",
       "      <td>1</td>\n",
       "      <td>...</td>\n",
       "      <td>3</td>\n",
       "      <td>3</td>\n",
       "      <td>1</td>\n",
       "      <td>8</td>\n",
       "      <td>0</td>\n",
       "      <td>0</td>\n",
       "      <td>1</td>\n",
       "      <td>0</td>\n",
       "      <td>0</td>\n",
       "      <td>0</td>\n",
       "    </tr>\n",
       "    <tr>\n",
       "      <th>4</th>\n",
       "      <td>58</td>\n",
       "      <td>0</td>\n",
       "      <td>5</td>\n",
       "      <td>1</td>\n",
       "      <td>6</td>\n",
       "      <td>0</td>\n",
       "      <td>1</td>\n",
       "      <td>1</td>\n",
       "      <td>0</td>\n",
       "      <td>0</td>\n",
       "      <td>...</td>\n",
       "      <td>9</td>\n",
       "      <td>1</td>\n",
       "      <td>3</td>\n",
       "      <td>9</td>\n",
       "      <td>0</td>\n",
       "      <td>1</td>\n",
       "      <td>1</td>\n",
       "      <td>0</td>\n",
       "      <td>0</td>\n",
       "      <td>0</td>\n",
       "    </tr>\n",
       "  </tbody>\n",
       "</table>\n",
       "<p>5 rows × 59 columns</p>\n",
       "</div>"
      ],
      "text/plain": [
       "   id  target  ps_ind_01  ps_ind_02_cat  ps_ind_03  ps_ind_04_cat  \\\n",
       "0   9       0          1              1          7              0   \n",
       "1  22       0          5              1          4              0   \n",
       "2  26       0          5              1          3              1   \n",
       "3  50       0          1              2          1              0   \n",
       "4  58       0          5              1          6              0   \n",
       "\n",
       "   ps_ind_05_cat  ps_ind_06_bin  ps_ind_07_bin  ps_ind_08_bin       ...        \\\n",
       "0              0              0              0              1       ...         \n",
       "1              0              1              0              0       ...         \n",
       "2              0              0              0              1       ...         \n",
       "3              0              0              0              1       ...         \n",
       "4              1              1              0              0       ...         \n",
       "\n",
       "   ps_calc_11  ps_calc_12  ps_calc_13  ps_calc_14  ps_calc_15_bin  \\\n",
       "0           3           1           1           9               0   \n",
       "1           7           1           3           6               1   \n",
       "2           4           2           1           5               0   \n",
       "3           3           3           1           8               0   \n",
       "4           9           1           3           9               0   \n",
       "\n",
       "   ps_calc_16_bin  ps_calc_17_bin  ps_calc_18_bin  ps_calc_19_bin  \\\n",
       "0               1               1               0               1   \n",
       "1               0               1               0               1   \n",
       "2               1               0               0               0   \n",
       "3               0               1               0               0   \n",
       "4               1               1               0               0   \n",
       "\n",
       "   ps_calc_20_bin  \n",
       "0               0  \n",
       "1               0  \n",
       "2               1  \n",
       "3               0  \n",
       "4               0  \n",
       "\n",
       "[5 rows x 59 columns]"
      ]
     },
     "execution_count": 28,
     "metadata": {},
     "output_type": "execute_result"
    }
   ],
   "source": [
    "validation_df.head(5)"
   ]
  },
  {
   "cell_type": "markdown",
   "metadata": {},
   "source": [
    "## Connect to Remote AML Compute (Existing AML cluster)"
   ]
  },
  {
   "cell_type": "code",
   "execution_count": 14,
   "metadata": {},
   "outputs": [
    {
     "name": "stdout",
     "output_type": "stream",
     "text": [
      "Found existing training cluster.\n",
      "Checking cluster status...\n",
      "Succeeded\n",
      "AmlCompute wait for completion finished\n",
      "Minimum number of nodes requested have been provisioned\n"
     ]
    }
   ],
   "source": [
    "# Define remote compute target to use\n",
    "# Further docs on Remote Compute Target: https://docs.microsoft.com/en-us/azure/machine-learning/how-to-auto-train-remote\n",
    "\n",
    "# Choose a name for your cluster.\n",
    "amlcompute_cluster_name = \"cpu-cluster\"\n",
    "\n",
    "found = False\n",
    "# Check if this compute target already exists in the workspace.\n",
    "cts = ws.compute_targets\n",
    "\n",
    "if amlcompute_cluster_name in cts and cts[amlcompute_cluster_name].type == 'AmlCompute':\n",
    "     found = True\n",
    "     print('Found existing training cluster.')\n",
    "     # Get existing cluster\n",
    "     # Method 1:\n",
    "     aml_remote_compute = cts[amlcompute_cluster_name]\n",
    "     # Method 2:\n",
    "     # aml_remote_compute = ComputeTarget(ws, amlcompute_cluster_name)\n",
    "    \n",
    "if not found:\n",
    "     print('Creating a new training cluster...')\n",
    "     provisioning_config = AmlCompute.provisioning_configuration(vm_size = \"STANDARD_D13_V2\", # for GPU, use \"STANDARD_NC12\"\n",
    "                                                                 #vm_priority = 'lowpriority', # optional\n",
    "                                                                 max_nodes = 20)\n",
    "     # Create the cluster.\n",
    "     aml_remote_compute = ComputeTarget.create(ws, amlcompute_cluster_name, provisioning_config)\n",
    "    \n",
    "print('Checking cluster status...')\n",
    "# Can poll for a minimum number of nodes and for a specific timeout.\n",
    "# If no min_node_count is provided, it will use the scale settings for the cluster.\n",
    "aml_remote_compute.wait_for_completion(show_output = True, min_node_count = 0, timeout_in_minutes = 20)"
   ]
  },
  {
   "cell_type": "code",
   "execution_count": 15,
   "metadata": {},
   "outputs": [
    {
     "data": {
      "text/plain": [
       "<azureml.core.compute.amlcompute.AmlComputeStatus at 0x7fe388153e10>"
      ]
     },
     "execution_count": 15,
     "metadata": {},
     "output_type": "execute_result"
    }
   ],
   "source": [
    "# For additional details of current AmlCompute status:\n",
    "aml_remote_compute.get_status()"
   ]
  },
  {
   "cell_type": "markdown",
   "metadata": {},
   "source": [
    "## Train with Azure AutoML automatically searching for the 'best model' (Best algorithms and best hyper-parameters)"
   ]
  },
  {
   "cell_type": "markdown",
   "metadata": {},
   "source": [
    "### List and select primary metric to drive the AutoML classification problem"
   ]
  },
  {
   "cell_type": "code",
   "execution_count": 16,
   "metadata": {},
   "outputs": [
    {
     "data": {
      "text/plain": [
       "['norm_macro_recall',\n",
       " 'precision_score_weighted',\n",
       " 'accuracy',\n",
       " 'average_precision_score_weighted',\n",
       " 'AUC_weighted']"
      ]
     },
     "execution_count": 16,
     "metadata": {},
     "output_type": "execute_result"
    }
   ],
   "source": [
    "from azureml.train import automl\n",
    "\n",
    "# List of possible primary metrics is here:\n",
    "# https://docs.microsoft.com/en-us/azure/machine-learning/how-to-configure-auto-train#primary-metric\n",
    "    \n",
    "# Get a list of valid metrics for your given task\n",
    "automl.utilities.get_primary_metrics('classification')"
   ]
  },
  {
   "cell_type": "markdown",
   "metadata": {},
   "source": [
    "## Define AutoML Experiment settings"
   ]
  },
  {
   "cell_type": "code",
   "execution_count": 24,
   "metadata": {},
   "outputs": [],
   "source": [
    "import logging\n",
    "\n",
    "# You can provide additional settings as a **kwargs parameter for the AutoMLConfig object\n",
    "# automl_settings = {\n",
    "#     \"whitelist_models\": 'XGBoostClassifier'\n",
    "# }\n",
    "\n",
    "from azureml.train.automl import AutoMLConfig\n",
    "\n",
    "automl_config = AutoMLConfig(compute_target=aml_remote_compute,\n",
    "                             task='classification',\n",
    "                             primary_metric='AUC_weighted',\n",
    "                             # experiment_timeout_minutes= 20,                            \n",
    "                             training_data=train_dataset,\n",
    "                             # validation_data=validation_dataset,\n",
    "                             label_column_name=\"target\", \n",
    "                             # blacklist_models='XGBoostClassifier', \n",
    "                             # iteration_timeout_minutes= 5,\n",
    "                             # iterations=2\n",
    "                             max_concurrent_iterations=6,\n",
    "                             enable_early_stopping= True,\n",
    "                             featurization= 'auto',\n",
    "                             debug_log='automated_ml_errors.log',\n",
    "                             verbosity= logging.INFO,\n",
    "                             enable_onnx_compatible_models=False\n",
    "                             # **automl_settings\n",
    "                             )\n",
    "\n",
    "# Explanation of Settings: https://docs.microsoft.com/en-us/azure/machine-learning/how-to-configure-auto-train#configure-your-experiment-settings\n",
    "\n",
    "# AutoMLConfig info on: \n",
    "# https://docs.microsoft.com/en-us/python/api/azureml-train-automl-client/azureml.train.automl.automlconfig.automlconfig"
   ]
  },
  {
   "cell_type": "markdown",
   "metadata": {},
   "source": [
    "## Run Experiment (on remote AML Compute) with multiple child runs under the covers"
   ]
  },
  {
   "cell_type": "code",
   "execution_count": 25,
   "metadata": {},
   "outputs": [
    {
     "name": "stdout",
     "output_type": "stream",
     "text": [
      "SDK_remote_porto_seguro_driver_pred\n",
      "Running on remote compute: cpu-cluster\n",
      "Parent Run ID: AutoML_ad93b312-3aeb-427d-bffb-35b9807e6e82\n",
      "\n",
      "Current status: FeaturesGeneration. Generating features for the dataset.\n",
      "Current status: ModelSelection. Beginning model selection.\n",
      "\n",
      "****************************************************************************************************\n",
      "ITERATION: The iteration being evaluated.\n",
      "PIPELINE: A summary description of the pipeline being evaluated.\n",
      "DURATION: Time taken for the current iteration.\n",
      "METRIC: The result of computing score on the fitted pipeline.\n",
      "BEST: The best observed score thus far.\n",
      "****************************************************************************************************\n",
      "\n",
      " ITERATION   PIPELINE                                       DURATION      METRIC      BEST\n",
      "         0   StandardScalerWrapper SGD                      0:01:49       0.5961    0.5961\n",
      "         1   StandardScalerWrapper SGD                      0:01:43       0.5789    0.5961\n",
      "         2   MinMaxScaler LightGBM                          0:01:49       0.6443    0.6443\n",
      "         3   StandardScalerWrapper SGD                      0:01:43       0.6140    0.6443\n",
      "         4   StandardScalerWrapper ExtremeRandomTrees       0:02:07       0.6218    0.6443\n",
      "         5   MinMaxScaler SGD                               0:01:44       0.5907    0.6443\n",
      "         6   StandardScalerWrapper LightGBM                 0:01:45       0.6440    0.6443\n",
      "         7   StandardScalerWrapper ExtremeRandomTrees       0:01:42       0.5852    0.6443\n",
      "         8   StandardScalerWrapper SGD                      0:01:37       0.5676    0.6443\n",
      "         9   RobustScaler ExtremeRandomTrees                0:01:50       0.5792    0.6443\n",
      "        10   MinMaxScaler RandomForest                      0:01:52       0.6194    0.6443\n",
      "        11   StandardScalerWrapper SGD                      0:01:39       0.6261    0.6443\n",
      "        12   MinMaxScaler SGD                               0:01:45       0.6023    0.6443\n",
      "        13   StandardScalerWrapper RandomForest             0:01:50       0.6076    0.6443\n",
      "        14   MinMaxScaler ExtremeRandomTrees                0:01:56       0.6035    0.6443\n",
      "        15   MinMaxScaler SGD                               0:01:44       0.6025    0.6443\n",
      "        16   StandardScalerWrapper ExtremeRandomTrees       0:01:56       0.6035    0.6443\n",
      "        17   MinMaxScaler RandomForest                      0:01:45       0.6206    0.6443\n",
      "        18   MaxAbsScaler LightGBM                          0:01:41       0.6413    0.6443\n",
      "        19   MinMaxScaler BernoulliNaiveBayes               0:01:38       0.5997    0.6443\n",
      "        20   StandardScalerWrapper LightGBM                 0:02:22       0.6496    0.6496\n",
      "        21   MaxAbsScaler LogisticRegression                0:02:22       0.6321    0.6496\n",
      "        22   MaxAbsScaler LogisticRegression                0:01:52       0.6321    0.6496\n",
      "        23   SparseNormalizer LightGBM                      0:02:34       0.6406    0.6496\n",
      "        24   StandardScalerWrapper LightGBM                 0:01:40       0.6417    0.6496\n",
      "        25   MaxAbsScaler LightGBM                          0:02:02       0.6521    0.6521\n",
      "        26   StandardScalerWrapper LogisticRegression       0:02:07       0.6321    0.6521\n",
      "        27   StandardScalerWrapper LogisticRegression       0:03:08       0.6340    0.6521\n",
      "        28   RobustScaler LightGBM                          0:02:34       0.6483    0.6521\n",
      "        29   StandardScalerWrapper GradientBoosting         0:02:17       0.6282    0.6521\n",
      "        30   MinMaxScaler LightGBM                          0:01:59       0.6492    0.6521\n",
      "        31   RobustScaler LightGBM                          0:02:42       0.6457    0.6521\n",
      "        32   SparseNormalizer ExtremeRandomTrees            0:02:06       0.5000    0.6521\n",
      "        33   MinMaxScaler LightGBM                          0:01:51       0.6504    0.6521\n",
      "        34   StandardScalerWrapper RandomForest             0:06:41       0.6336    0.6521\n",
      "        35   StandardScalerWrapper LightGBM                 0:02:15       0.6495    0.6521\n",
      "        36    VotingEnsemble                                0:02:02       0.6536    0.6536\n",
      "        37    StackEnsemble                                 0:04:33       0.6531    0.6536\n",
      "Manual run timing: --- 5324.870251893997 seconds needed for running the whole Remote AutoML Experiment ---\n"
     ]
    }
   ],
   "source": [
    "from azureml.core import Experiment\n",
    "\n",
    "experiment_name = \"SDK_remote_porto_seguro_driver_pred\"\n",
    "print(experiment_name)\n",
    "\n",
    "experiment = Experiment(workspace=ws, \n",
    "                        name=experiment_name)\n",
    "\n",
    "import time\n",
    "start_time = time.time()\n",
    "            \n",
    "run = experiment.submit(automl_config, show_output=True)\n",
    "\n",
    "print('Manual run timing: --- %s seconds needed for running the whole Remote AutoML Experiment ---' % (time.time() - start_time))\n"
   ]
  },
  {
   "cell_type": "markdown",
   "metadata": {},
   "source": [
    "## Explore results with Widget"
   ]
  },
  {
   "cell_type": "code",
   "execution_count": 26,
   "metadata": {},
   "outputs": [
    {
     "data": {
      "application/vnd.jupyter.widget-view+json": {
       "model_id": "ddc8dae32bf846f8a9aef4ad5758ddc6",
       "version_major": 2,
       "version_minor": 0
      },
      "text/plain": [
       "_AutoMLWidget(widget_settings={'childWidgetDisplay': 'popup', 'send_telemetry': False, 'log_level': 'NOTSET', …"
      ]
     },
     "metadata": {},
     "output_type": "display_data"
    },
    {
     "data": {
      "application/aml.mini.widget.v1": "{\"status\": \"Completed\", \"workbench_run_details_uri\": \"https://ml.azure.com/experiments/SDK_remote_porto_seguro_driver_pred/runs/AutoML_ad93b312-3aeb-427d-bffb-35b9807e6e82?wsid=/subscriptions/102a16c3-37d3-48a8-9237-4c9b1e8e80e0/resourcegroups/automlpmdemo/workspaces/cesardl-automl-northcentralus-ws\", \"run_id\": \"AutoML_ad93b312-3aeb-427d-bffb-35b9807e6e82\", \"run_properties\": {\"run_id\": \"AutoML_ad93b312-3aeb-427d-bffb-35b9807e6e82\", \"created_utc\": \"2020-02-16T22:28:07.575874Z\", \"properties\": {\"num_iterations\": \"1000\", \"training_type\": \"TrainFull\", \"acquisition_function\": \"EI\", \"primary_metric\": \"AUC_weighted\", \"train_split\": \"0\", \"MaxTimeSeconds\": \"0\", \"acquisition_parameter\": \"0\", \"num_cross_validation\": null, \"target\": \"cpu-cluster\", \"RawAMLSettingsString\": \"{'name': 'SDK_remote_porto_seguro_driver_pred', 'path': None, 'subscription_id': '102a16c3-37d3-48a8-9237-4c9b1e8e80e0', 'resource_group': 'automlpmdemo', 'workspace_name': 'cesardl-automl-northcentralus-ws', 'region': 'northcentralus', 'compute_target': 'cpu-cluster', 'spark_service': None, 'azure_service': None, 'iterations': 1000, 'primary_metric': 'AUC_weighted', 'task_type': 'classification', 'data_script': None, 'validation_size': 0.0, 'n_cross_validations': None, 'y_min': None, 'y_max': None, 'num_classes': None, 'featurization': 'auto', 'preprocess': True, 'lag_length': 0, 'is_timeseries': False, 'max_cores_per_iteration': 1, 'max_concurrent_iterations': 1, 'iteration_timeout_minutes': None, 'mem_in_mb': None, 'enforce_time_on_windows': False, 'experiment_timeout_minutes': None, 'experiment_exit_score': None, 'whitelist_models': None, 'blacklist_algos': ['XGBoostClassifier', 'Prophet'], 'supported_models': ['LightGBM', 'SGD', 'TensorFlowDNN', 'KNN', 'SVM', 'XGBoostClassifier', 'ExtremeRandomTrees', 'BernoulliNaiveBayes', 'AveragedPerceptronClassifier', 'LinearSVMClassifier', 'DecisionTree', 'TensorFlowLinearClassifier', 'GradientBoosting', 'RandomForest', 'LogisticRegression', 'LinearSVM', 'MultinomialNaiveBayes'], 'auto_blacklist': True, 'blacklist_samples_reached': False, 'exclude_nan_labels': True, 'verbosity': 20, 'debug_log': 'azureml_automl.log', 'show_warnings': False, 'model_explainability': False, 'service_url': None, 'sdk_url': None, 'sdk_packages': None, 'enable_onnx_compatible_models': False, 'enable_split_onnx_featurizer_estimator_models': False, 'vm_type': 'STANDARD_D13_V2', 'telemetry_verbosity': 'NOTSET', 'send_telemetry': False, 'enable_dnn': False, 'enable_feature_sweeping': True, 'enable_early_stopping': True, 'early_stopping_n_iters': 10, 'metrics': None, 'enable_ensembling': True, 'enable_stack_ensembling': True, 'ensemble_iterations': 15, 'enable_tf': False, 'enable_cache': True, 'enable_subsampling': None, 'subsample_seed': None, 'enable_nimbusml': False, 'enable_streaming': False, 'label_column_name': 'target', 'weight_column_name': None, 'cost_mode': 0, 'metric_operation': 'maximize'}\", \"AMLSettingsJsonString\": \"{\\\"name\\\": \\\"SDK_remote_porto_seguro_driver_pred\\\", \\\"path\\\": null, \\\"subscription_id\\\": \\\"102a16c3-37d3-48a8-9237-4c9b1e8e80e0\\\", \\\"resource_group\\\": \\\"automlpmdemo\\\", \\\"workspace_name\\\": \\\"cesardl-automl-northcentralus-ws\\\", \\\"region\\\": \\\"northcentralus\\\", \\\"compute_target\\\": \\\"cpu-cluster\\\", \\\"spark_service\\\": null, \\\"azure_service\\\": null, \\\"iterations\\\": 1000, \\\"primary_metric\\\": \\\"AUC_weighted\\\", \\\"task_type\\\": \\\"classification\\\", \\\"data_script\\\": null, \\\"validation_size\\\": 0.0, \\\"n_cross_validations\\\": null, \\\"y_min\\\": null, \\\"y_max\\\": null, \\\"num_classes\\\": null, \\\"featurization\\\": \\\"auto\\\", \\\"preprocess\\\": true, \\\"lag_length\\\": 0, \\\"is_timeseries\\\": false, \\\"max_cores_per_iteration\\\": 1, \\\"max_concurrent_iterations\\\": 1, \\\"iteration_timeout_minutes\\\": null, \\\"mem_in_mb\\\": null, \\\"enforce_time_on_windows\\\": false, \\\"experiment_timeout_minutes\\\": null, \\\"experiment_exit_score\\\": null, \\\"whitelist_models\\\": null, \\\"blacklist_algos\\\": [\\\"XGBoostClassifier\\\", \\\"Prophet\\\"], \\\"supported_models\\\": [\\\"LightGBM\\\", \\\"SGD\\\", \\\"TensorFlowDNN\\\", \\\"KNN\\\", \\\"SVM\\\", \\\"XGBoostClassifier\\\", \\\"ExtremeRandomTrees\\\", \\\"BernoulliNaiveBayes\\\", \\\"AveragedPerceptronClassifier\\\", \\\"LinearSVMClassifier\\\", \\\"DecisionTree\\\", \\\"TensorFlowLinearClassifier\\\", \\\"GradientBoosting\\\", \\\"RandomForest\\\", \\\"LogisticRegression\\\", \\\"LinearSVM\\\", \\\"MultinomialNaiveBayes\\\"], \\\"auto_blacklist\\\": true, \\\"blacklist_samples_reached\\\": false, \\\"exclude_nan_labels\\\": true, \\\"verbosity\\\": 20, \\\"debug_log\\\": \\\"azureml_automl.log\\\", \\\"show_warnings\\\": false, \\\"model_explainability\\\": false, \\\"service_url\\\": null, \\\"sdk_url\\\": null, \\\"sdk_packages\\\": null, \\\"enable_onnx_compatible_models\\\": false, \\\"enable_split_onnx_featurizer_estimator_models\\\": false, \\\"vm_type\\\": \\\"STANDARD_D13_V2\\\", \\\"telemetry_verbosity\\\": \\\"NOTSET\\\", \\\"send_telemetry\\\": false, \\\"enable_dnn\\\": false, \\\"enable_feature_sweeping\\\": true, \\\"enable_early_stopping\\\": true, \\\"early_stopping_n_iters\\\": 10, \\\"metrics\\\": null, \\\"enable_ensembling\\\": true, \\\"enable_stack_ensembling\\\": true, \\\"ensemble_iterations\\\": 15, \\\"enable_tf\\\": false, \\\"enable_cache\\\": true, \\\"enable_subsampling\\\": null, \\\"subsample_seed\\\": null, \\\"enable_nimbusml\\\": false, \\\"enable_streaming\\\": false, \\\"label_column_name\\\": \\\"target\\\", \\\"weight_column_name\\\": null, \\\"cost_mode\\\": 0, \\\"metric_operation\\\": \\\"maximize\\\"}\", \"DataPrepJsonString\": \"{\\\\\\\"training_data\\\\\\\": \\\\\\\"{\\\\\\\\\\\\\\\"blocks\\\\\\\\\\\\\\\": [{\\\\\\\\\\\\\\\"id\\\\\\\\\\\\\\\": \\\\\\\\\\\\\\\"abe123de-85bb-42fe-a59b-47ee6d1e0113\\\\\\\\\\\\\\\", \\\\\\\\\\\\\\\"type\\\\\\\\\\\\\\\": \\\\\\\\\\\\\\\"Microsoft.DPrep.GetDatastoreFilesBlock\\\\\\\\\\\\\\\", \\\\\\\\\\\\\\\"arguments\\\\\\\\\\\\\\\": {\\\\\\\\\\\\\\\"datastores\\\\\\\\\\\\\\\": [{\\\\\\\\\\\\\\\"datastoreName\\\\\\\\\\\\\\\": \\\\\\\\\\\\\\\"workspaceblobstore\\\\\\\\\\\\\\\", \\\\\\\\\\\\\\\"path\\\\\\\\\\\\\\\": \\\\\\\\\\\\\\\"UI/02-16-2020_075606_UTC/porto_seguro_safe_driver_prediction_train.csv\\\\\\\\\\\\\\\", \\\\\\\\\\\\\\\"resourceGroup\\\\\\\\\\\\\\\": \\\\\\\\\\\\\\\"automlpmdemo\\\\\\\\\\\\\\\", \\\\\\\\\\\\\\\"subscription\\\\\\\\\\\\\\\": \\\\\\\\\\\\\\\"102a16c3-37d3-48a8-9237-4c9b1e8e80e0\\\\\\\\\\\\\\\", \\\\\\\\\\\\\\\"workspaceName\\\\\\\\\\\\\\\": \\\\\\\\\\\\\\\"cesardl-automl-northcentralus-ws\\\\\\\\\\\\\\\"}]}, \\\\\\\\\\\\\\\"localData\\\\\\\\\\\\\\\": {}, \\\\\\\\\\\\\\\"isEnabled\\\\\\\\\\\\\\\": true, \\\\\\\\\\\\\\\"name\\\\\\\\\\\\\\\": null, \\\\\\\\\\\\\\\"annotation\\\\\\\\\\\\\\\": null}, {\\\\\\\\\\\\\\\"id\\\\\\\\\\\\\\\": \\\\\\\\\\\\\\\"a1197d8c-5bf6-43e5-80b6-ad42512a23f3\\\\\\\\\\\\\\\", \\\\\\\\\\\\\\\"type\\\\\\\\\\\\\\\": \\\\\\\\\\\\\\\"Microsoft.DPrep.ParseDelimitedBlock\\\\\\\\\\\\\\\", \\\\\\\\\\\\\\\"arguments\\\\\\\\\\\\\\\": {\\\\\\\\\\\\\\\"columnHeadersMode\\\\\\\\\\\\\\\": 1, \\\\\\\\\\\\\\\"commentLineCharacter\\\\\\\\\\\\\\\": \\\\\\\\\\\\\\\"\\\\\\\\\\\\\\\\u0000\\\\\\\\\\\\\\\", \\\\\\\\\\\\\\\"fileEncoding\\\\\\\\\\\\\\\": 0, \\\\\\\\\\\\\\\"handleQuotedLineBreaks\\\\\\\\\\\\\\\": false, \\\\\\\\\\\\\\\"preview\\\\\\\\\\\\\\\": false, \\\\\\\\\\\\\\\"separator\\\\\\\\\\\\\\\": \\\\\\\\\\\\\\\",\\\\\\\\\\\\\\\", \\\\\\\\\\\\\\\"skipRows\\\\\\\\\\\\\\\": 0, \\\\\\\\\\\\\\\"skipRowsMode\\\\\\\\\\\\\\\": 0}, \\\\\\\\\\\\\\\"localData\\\\\\\\\\\\\\\": {}, \\\\\\\\\\\\\\\"isEnabled\\\\\\\\\\\\\\\": true, \\\\\\\\\\\\\\\"name\\\\\\\\\\\\\\\": null, \\\\\\\\\\\\\\\"annotation\\\\\\\\\\\\\\\": null}, {\\\\\\\\\\\\\\\"id\\\\\\\\\\\\\\\": \\\\\\\\\\\\\\\"aeab5524-ba92-47d8-8017-13e14b22eac1\\\\\\\\\\\\\\\", \\\\\\\\\\\\\\\"type\\\\\\\\\\\\\\\": \\\\\\\\\\\\\\\"Microsoft.DPrep.DropColumnsBlock\\\\\\\\\\\\\\\", \\\\\\\\\\\\\\\"arguments\\\\\\\\\\\\\\\": {\\\\\\\\\\\\\\\"columns\\\\\\\\\\\\\\\": {\\\\\\\\\\\\\\\"type\\\\\\\\\\\\\\\": 0, \\\\\\\\\\\\\\\"details\\\\\\\\\\\\\\\": {\\\\\\\\\\\\\\\"selectedColumns\\\\\\\\\\\\\\\": [\\\\\\\\\\\\\\\"Path\\\\\\\\\\\\\\\"]}}}, \\\\\\\\\\\\\\\"localData\\\\\\\\\\\\\\\": {}, \\\\\\\\\\\\\\\"isEnabled\\\\\\\\\\\\\\\": true, \\\\\\\\\\\\\\\"name\\\\\\\\\\\\\\\": null, \\\\\\\\\\\\\\\"annotation\\\\\\\\\\\\\\\": null}, {\\\\\\\\\\\\\\\"id\\\\\\\\\\\\\\\": \\\\\\\\\\\\\\\"403b1316-380b-4948-be39-6fc8253d78aa\\\\\\\\\\\\\\\", \\\\\\\\\\\\\\\"type\\\\\\\\\\\\\\\": \\\\\\\\\\\\\\\"Microsoft.DPrep.SetColumnTypesBlock\\\\\\\\\\\\\\\", \\\\\\\\\\\\\\\"arguments\\\\\\\\\\\\\\\": {\\\\\\\\\\\\\\\"columnConversion\\\\\\\\\\\\\\\": [{\\\\\\\\\\\\\\\"column\\\\\\\\\\\\\\\": {\\\\\\\\\\\\\\\"type\\\\\\\\\\\\\\\": 2, \\\\\\\\\\\\\\\"details\\\\\\\\\\\\\\\": {\\\\\\\\\\\\\\\"selectedColumn\\\\\\\\\\\\\\\": \\\\\\\\\\\\\\\"Path\\\\\\\\\\\\\\\"}}, \\\\\\\\\\\\\\\"typeProperty\\\\\\\\\\\\\\\": 0}, {\\\\\\\\\\\\\\\"column\\\\\\\\\\\\\\\": {\\\\\\\\\\\\\\\"type\\\\\\\\\\\\\\\": 2, \\\\\\\\\\\\\\\"details\\\\\\\\\\\\\\\": {\\\\\\\\\\\\\\\"selectedColumn\\\\\\\\\\\\\\\": \\\\\\\\\\\\\\\"id\\\\\\\\\\\\\\\"}}, \\\\\\\\\\\\\\\"typeProperty\\\\\\\\\\\\\\\": 2}, {\\\\\\\\\\\\\\\"column\\\\\\\\\\\\\\\": {\\\\\\\\\\\\\\\"type\\\\\\\\\\\\\\\": 2, \\\\\\\\\\\\\\\"details\\\\\\\\\\\\\\\": {\\\\\\\\\\\\\\\"selectedColumn\\\\\\\\\\\\\\\": \\\\\\\\\\\\\\\"target\\\\\\\\\\\\\\\"}}, \\\\\\\\\\\\\\\"typeProperty\\\\\\\\\\\\\\\": 2}, {\\\\\\\\\\\\\\\"column\\\\\\\\\\\\\\\": {\\\\\\\\\\\\\\\"type\\\\\\\\\\\\\\\": 2, \\\\\\\\\\\\\\\"details\\\\\\\\\\\\\\\": {\\\\\\\\\\\\\\\"selectedColumn\\\\\\\\\\\\\\\": \\\\\\\\\\\\\\\"ps_ind_01\\\\\\\\\\\\\\\"}}, \\\\\\\\\\\\\\\"typeProperty\\\\\\\\\\\\\\\": 2}, {\\\\\\\\\\\\\\\"column\\\\\\\\\\\\\\\": {\\\\\\\\\\\\\\\"type\\\\\\\\\\\\\\\": 2, \\\\\\\\\\\\\\\"details\\\\\\\\\\\\\\\": {\\\\\\\\\\\\\\\"selectedColumn\\\\\\\\\\\\\\\": \\\\\\\\\\\\\\\"ps_ind_02_cat\\\\\\\\\\\\\\\"}}, \\\\\\\\\\\\\\\"typeProperty\\\\\\\\\\\\\\\": 2}, {\\\\\\\\\\\\\\\"column\\\\\\\\\\\\\\\": {\\\\\\\\\\\\\\\"type\\\\\\\\\\\\\\\": 2, \\\\\\\\\\\\\\\"details\\\\\\\\\\\\\\\": {\\\\\\\\\\\\\\\"selectedColumn\\\\\\\\\\\\\\\": \\\\\\\\\\\\\\\"ps_ind_03\\\\\\\\\\\\\\\"}}, \\\\\\\\\\\\\\\"typeProperty\\\\\\\\\\\\\\\": 2}, {\\\\\\\\\\\\\\\"column\\\\\\\\\\\\\\\": {\\\\\\\\\\\\\\\"type\\\\\\\\\\\\\\\": 2, \\\\\\\\\\\\\\\"details\\\\\\\\\\\\\\\": {\\\\\\\\\\\\\\\"selectedColumn\\\\\\\\\\\\\\\": \\\\\\\\\\\\\\\"ps_ind_04_cat\\\\\\\\\\\\\\\"}}, \\\\\\\\\\\\\\\"typeProperty\\\\\\\\\\\\\\\": 2}, {\\\\\\\\\\\\\\\"column\\\\\\\\\\\\\\\": {\\\\\\\\\\\\\\\"type\\\\\\\\\\\\\\\": 2, \\\\\\\\\\\\\\\"details\\\\\\\\\\\\\\\": {\\\\\\\\\\\\\\\"selectedColumn\\\\\\\\\\\\\\\": \\\\\\\\\\\\\\\"ps_ind_05_cat\\\\\\\\\\\\\\\"}}, \\\\\\\\\\\\\\\"typeProperty\\\\\\\\\\\\\\\": 2}, {\\\\\\\\\\\\\\\"column\\\\\\\\\\\\\\\": {\\\\\\\\\\\\\\\"type\\\\\\\\\\\\\\\": 2, \\\\\\\\\\\\\\\"details\\\\\\\\\\\\\\\": {\\\\\\\\\\\\\\\"selectedColumn\\\\\\\\\\\\\\\": \\\\\\\\\\\\\\\"ps_ind_06_bin\\\\\\\\\\\\\\\"}}, \\\\\\\\\\\\\\\"typeProperty\\\\\\\\\\\\\\\": 2}, {\\\\\\\\\\\\\\\"column\\\\\\\\\\\\\\\": {\\\\\\\\\\\\\\\"type\\\\\\\\\\\\\\\": 2, \\\\\\\\\\\\\\\"details\\\\\\\\\\\\\\\": {\\\\\\\\\\\\\\\"selectedColumn\\\\\\\\\\\\\\\": \\\\\\\\\\\\\\\"ps_ind_07_bin\\\\\\\\\\\\\\\"}}, \\\\\\\\\\\\\\\"typeProperty\\\\\\\\\\\\\\\": 2}, {\\\\\\\\\\\\\\\"column\\\\\\\\\\\\\\\": {\\\\\\\\\\\\\\\"type\\\\\\\\\\\\\\\": 2, \\\\\\\\\\\\\\\"details\\\\\\\\\\\\\\\": {\\\\\\\\\\\\\\\"selectedColumn\\\\\\\\\\\\\\\": \\\\\\\\\\\\\\\"ps_ind_08_bin\\\\\\\\\\\\\\\"}}, \\\\\\\\\\\\\\\"typeProperty\\\\\\\\\\\\\\\": 2}, {\\\\\\\\\\\\\\\"column\\\\\\\\\\\\\\\": {\\\\\\\\\\\\\\\"type\\\\\\\\\\\\\\\": 2, \\\\\\\\\\\\\\\"details\\\\\\\\\\\\\\\": {\\\\\\\\\\\\\\\"selectedColumn\\\\\\\\\\\\\\\": \\\\\\\\\\\\\\\"ps_ind_09_bin\\\\\\\\\\\\\\\"}}, \\\\\\\\\\\\\\\"typeProperty\\\\\\\\\\\\\\\": 2}, {\\\\\\\\\\\\\\\"column\\\\\\\\\\\\\\\": {\\\\\\\\\\\\\\\"type\\\\\\\\\\\\\\\": 2, \\\\\\\\\\\\\\\"details\\\\\\\\\\\\\\\": {\\\\\\\\\\\\\\\"selectedColumn\\\\\\\\\\\\\\\": \\\\\\\\\\\\\\\"ps_ind_10_bin\\\\\\\\\\\\\\\"}}, \\\\\\\\\\\\\\\"typeProperty\\\\\\\\\\\\\\\": 2}, {\\\\\\\\\\\\\\\"column\\\\\\\\\\\\\\\": {\\\\\\\\\\\\\\\"type\\\\\\\\\\\\\\\": 2, \\\\\\\\\\\\\\\"details\\\\\\\\\\\\\\\": {\\\\\\\\\\\\\\\"selectedColumn\\\\\\\\\\\\\\\": \\\\\\\\\\\\\\\"ps_ind_11_bin\\\\\\\\\\\\\\\"}}, \\\\\\\\\\\\\\\"typeProperty\\\\\\\\\\\\\\\": 2}, {\\\\\\\\\\\\\\\"column\\\\\\\\\\\\\\\": {\\\\\\\\\\\\\\\"type\\\\\\\\\\\\\\\": 2, \\\\\\\\\\\\\\\"details\\\\\\\\\\\\\\\": {\\\\\\\\\\\\\\\"selectedColumn\\\\\\\\\\\\\\\": \\\\\\\\\\\\\\\"ps_ind_12_bin\\\\\\\\\\\\\\\"}}, \\\\\\\\\\\\\\\"typeProperty\\\\\\\\\\\\\\\": 2}, {\\\\\\\\\\\\\\\"column\\\\\\\\\\\\\\\": {\\\\\\\\\\\\\\\"type\\\\\\\\\\\\\\\": 2, \\\\\\\\\\\\\\\"details\\\\\\\\\\\\\\\": {\\\\\\\\\\\\\\\"selectedColumn\\\\\\\\\\\\\\\": \\\\\\\\\\\\\\\"ps_ind_13_bin\\\\\\\\\\\\\\\"}}, \\\\\\\\\\\\\\\"typeProperty\\\\\\\\\\\\\\\": 2}, {\\\\\\\\\\\\\\\"column\\\\\\\\\\\\\\\": {\\\\\\\\\\\\\\\"type\\\\\\\\\\\\\\\": 2, \\\\\\\\\\\\\\\"details\\\\\\\\\\\\\\\": {\\\\\\\\\\\\\\\"selectedColumn\\\\\\\\\\\\\\\": \\\\\\\\\\\\\\\"ps_ind_14\\\\\\\\\\\\\\\"}}, \\\\\\\\\\\\\\\"typeProperty\\\\\\\\\\\\\\\": 2}, {\\\\\\\\\\\\\\\"column\\\\\\\\\\\\\\\": {\\\\\\\\\\\\\\\"type\\\\\\\\\\\\\\\": 2, \\\\\\\\\\\\\\\"details\\\\\\\\\\\\\\\": {\\\\\\\\\\\\\\\"selectedColumn\\\\\\\\\\\\\\\": \\\\\\\\\\\\\\\"ps_ind_15\\\\\\\\\\\\\\\"}}, \\\\\\\\\\\\\\\"typeProperty\\\\\\\\\\\\\\\": 2}, {\\\\\\\\\\\\\\\"column\\\\\\\\\\\\\\\": {\\\\\\\\\\\\\\\"type\\\\\\\\\\\\\\\": 2, \\\\\\\\\\\\\\\"details\\\\\\\\\\\\\\\": {\\\\\\\\\\\\\\\"selectedColumn\\\\\\\\\\\\\\\": \\\\\\\\\\\\\\\"ps_ind_16_bin\\\\\\\\\\\\\\\"}}, \\\\\\\\\\\\\\\"typeProperty\\\\\\\\\\\\\\\": 2}, {\\\\\\\\\\\\\\\"column\\\\\\\\\\\\\\\": {\\\\\\\\\\\\\\\"type\\\\\\\\\\\\\\\": 2, \\\\\\\\\\\\\\\"details\\\\\\\\\\\\\\\": {\\\\\\\\\\\\\\\"selectedColumn\\\\\\\\\\\\\\\": \\\\\\\\\\\\\\\"ps_ind_17_bin\\\\\\\\\\\\\\\"}}, \\\\\\\\\\\\\\\"typeProperty\\\\\\\\\\\\\\\": 2}, {\\\\\\\\\\\\\\\"column\\\\\\\\\\\\\\\": {\\\\\\\\\\\\\\\"type\\\\\\\\\\\\\\\": 2, \\\\\\\\\\\\\\\"details\\\\\\\\\\\\\\\": {\\\\\\\\\\\\\\\"selectedColumn\\\\\\\\\\\\\\\": \\\\\\\\\\\\\\\"ps_ind_18_bin\\\\\\\\\\\\\\\"}}, \\\\\\\\\\\\\\\"typeProperty\\\\\\\\\\\\\\\": 2}, {\\\\\\\\\\\\\\\"column\\\\\\\\\\\\\\\": {\\\\\\\\\\\\\\\"type\\\\\\\\\\\\\\\": 2, \\\\\\\\\\\\\\\"details\\\\\\\\\\\\\\\": {\\\\\\\\\\\\\\\"selectedColumn\\\\\\\\\\\\\\\": \\\\\\\\\\\\\\\"ps_reg_01\\\\\\\\\\\\\\\"}}, \\\\\\\\\\\\\\\"typeProperty\\\\\\\\\\\\\\\": 3}, {\\\\\\\\\\\\\\\"column\\\\\\\\\\\\\\\": {\\\\\\\\\\\\\\\"type\\\\\\\\\\\\\\\": 2, \\\\\\\\\\\\\\\"details\\\\\\\\\\\\\\\": {\\\\\\\\\\\\\\\"selectedColumn\\\\\\\\\\\\\\\": \\\\\\\\\\\\\\\"ps_reg_02\\\\\\\\\\\\\\\"}}, \\\\\\\\\\\\\\\"typeProperty\\\\\\\\\\\\\\\": 3}, {\\\\\\\\\\\\\\\"column\\\\\\\\\\\\\\\": {\\\\\\\\\\\\\\\"type\\\\\\\\\\\\\\\": 2, \\\\\\\\\\\\\\\"details\\\\\\\\\\\\\\\": {\\\\\\\\\\\\\\\"selectedColumn\\\\\\\\\\\\\\\": \\\\\\\\\\\\\\\"ps_reg_03\\\\\\\\\\\\\\\"}}, \\\\\\\\\\\\\\\"typeProperty\\\\\\\\\\\\\\\": 3}, {\\\\\\\\\\\\\\\"column\\\\\\\\\\\\\\\": {\\\\\\\\\\\\\\\"type\\\\\\\\\\\\\\\": 2, \\\\\\\\\\\\\\\"details\\\\\\\\\\\\\\\": {\\\\\\\\\\\\\\\"selectedColumn\\\\\\\\\\\\\\\": \\\\\\\\\\\\\\\"ps_car_01_cat\\\\\\\\\\\\\\\"}}, \\\\\\\\\\\\\\\"typeProperty\\\\\\\\\\\\\\\": 2}, {\\\\\\\\\\\\\\\"column\\\\\\\\\\\\\\\": {\\\\\\\\\\\\\\\"type\\\\\\\\\\\\\\\": 2, \\\\\\\\\\\\\\\"details\\\\\\\\\\\\\\\": {\\\\\\\\\\\\\\\"selectedColumn\\\\\\\\\\\\\\\": \\\\\\\\\\\\\\\"ps_car_02_cat\\\\\\\\\\\\\\\"}}, \\\\\\\\\\\\\\\"typeProperty\\\\\\\\\\\\\\\": 2}, {\\\\\\\\\\\\\\\"column\\\\\\\\\\\\\\\": {\\\\\\\\\\\\\\\"type\\\\\\\\\\\\\\\": 2, \\\\\\\\\\\\\\\"details\\\\\\\\\\\\\\\": {\\\\\\\\\\\\\\\"selectedColumn\\\\\\\\\\\\\\\": \\\\\\\\\\\\\\\"ps_car_03_cat\\\\\\\\\\\\\\\"}}, \\\\\\\\\\\\\\\"typeProperty\\\\\\\\\\\\\\\": 2}, {\\\\\\\\\\\\\\\"column\\\\\\\\\\\\\\\": {\\\\\\\\\\\\\\\"type\\\\\\\\\\\\\\\": 2, \\\\\\\\\\\\\\\"details\\\\\\\\\\\\\\\": {\\\\\\\\\\\\\\\"selectedColumn\\\\\\\\\\\\\\\": \\\\\\\\\\\\\\\"ps_car_04_cat\\\\\\\\\\\\\\\"}}, \\\\\\\\\\\\\\\"typeProperty\\\\\\\\\\\\\\\": 2}, {\\\\\\\\\\\\\\\"column\\\\\\\\\\\\\\\": {\\\\\\\\\\\\\\\"type\\\\\\\\\\\\\\\": 2, \\\\\\\\\\\\\\\"details\\\\\\\\\\\\\\\": {\\\\\\\\\\\\\\\"selectedColumn\\\\\\\\\\\\\\\": \\\\\\\\\\\\\\\"ps_car_05_cat\\\\\\\\\\\\\\\"}}, \\\\\\\\\\\\\\\"typeProperty\\\\\\\\\\\\\\\": 2}, {\\\\\\\\\\\\\\\"column\\\\\\\\\\\\\\\": {\\\\\\\\\\\\\\\"type\\\\\\\\\\\\\\\": 2, \\\\\\\\\\\\\\\"details\\\\\\\\\\\\\\\": {\\\\\\\\\\\\\\\"selectedColumn\\\\\\\\\\\\\\\": \\\\\\\\\\\\\\\"ps_car_06_cat\\\\\\\\\\\\\\\"}}, \\\\\\\\\\\\\\\"typeProperty\\\\\\\\\\\\\\\": 2}, {\\\\\\\\\\\\\\\"column\\\\\\\\\\\\\\\": {\\\\\\\\\\\\\\\"type\\\\\\\\\\\\\\\": 2, \\\\\\\\\\\\\\\"details\\\\\\\\\\\\\\\": {\\\\\\\\\\\\\\\"selectedColumn\\\\\\\\\\\\\\\": \\\\\\\\\\\\\\\"ps_car_07_cat\\\\\\\\\\\\\\\"}}, \\\\\\\\\\\\\\\"typeProperty\\\\\\\\\\\\\\\": 2}, {\\\\\\\\\\\\\\\"column\\\\\\\\\\\\\\\": {\\\\\\\\\\\\\\\"type\\\\\\\\\\\\\\\": 2, \\\\\\\\\\\\\\\"details\\\\\\\\\\\\\\\": {\\\\\\\\\\\\\\\"selectedColumn\\\\\\\\\\\\\\\": \\\\\\\\\\\\\\\"ps_car_08_cat\\\\\\\\\\\\\\\"}}, \\\\\\\\\\\\\\\"typeProperty\\\\\\\\\\\\\\\": 2}, {\\\\\\\\\\\\\\\"column\\\\\\\\\\\\\\\": {\\\\\\\\\\\\\\\"type\\\\\\\\\\\\\\\": 2, \\\\\\\\\\\\\\\"details\\\\\\\\\\\\\\\": {\\\\\\\\\\\\\\\"selectedColumn\\\\\\\\\\\\\\\": \\\\\\\\\\\\\\\"ps_car_09_cat\\\\\\\\\\\\\\\"}}, \\\\\\\\\\\\\\\"typeProperty\\\\\\\\\\\\\\\": 2}, {\\\\\\\\\\\\\\\"column\\\\\\\\\\\\\\\": {\\\\\\\\\\\\\\\"type\\\\\\\\\\\\\\\": 2, \\\\\\\\\\\\\\\"details\\\\\\\\\\\\\\\": {\\\\\\\\\\\\\\\"selectedColumn\\\\\\\\\\\\\\\": \\\\\\\\\\\\\\\"ps_car_10_cat\\\\\\\\\\\\\\\"}}, \\\\\\\\\\\\\\\"typeProperty\\\\\\\\\\\\\\\": 2}, {\\\\\\\\\\\\\\\"column\\\\\\\\\\\\\\\": {\\\\\\\\\\\\\\\"type\\\\\\\\\\\\\\\": 2, \\\\\\\\\\\\\\\"details\\\\\\\\\\\\\\\": {\\\\\\\\\\\\\\\"selectedColumn\\\\\\\\\\\\\\\": \\\\\\\\\\\\\\\"ps_car_11_cat\\\\\\\\\\\\\\\"}}, \\\\\\\\\\\\\\\"typeProperty\\\\\\\\\\\\\\\": 2}, {\\\\\\\\\\\\\\\"column\\\\\\\\\\\\\\\": {\\\\\\\\\\\\\\\"type\\\\\\\\\\\\\\\": 2, \\\\\\\\\\\\\\\"details\\\\\\\\\\\\\\\": {\\\\\\\\\\\\\\\"selectedColumn\\\\\\\\\\\\\\\": \\\\\\\\\\\\\\\"ps_car_11\\\\\\\\\\\\\\\"}}, \\\\\\\\\\\\\\\"typeProperty\\\\\\\\\\\\\\\": 2}, {\\\\\\\\\\\\\\\"column\\\\\\\\\\\\\\\": {\\\\\\\\\\\\\\\"type\\\\\\\\\\\\\\\": 2, \\\\\\\\\\\\\\\"details\\\\\\\\\\\\\\\": {\\\\\\\\\\\\\\\"selectedColumn\\\\\\\\\\\\\\\": \\\\\\\\\\\\\\\"ps_car_12\\\\\\\\\\\\\\\"}}, \\\\\\\\\\\\\\\"typeProperty\\\\\\\\\\\\\\\": 3}, {\\\\\\\\\\\\\\\"column\\\\\\\\\\\\\\\": {\\\\\\\\\\\\\\\"type\\\\\\\\\\\\\\\": 2, \\\\\\\\\\\\\\\"details\\\\\\\\\\\\\\\": {\\\\\\\\\\\\\\\"selectedColumn\\\\\\\\\\\\\\\": \\\\\\\\\\\\\\\"ps_car_13\\\\\\\\\\\\\\\"}}, \\\\\\\\\\\\\\\"typeProperty\\\\\\\\\\\\\\\": 3}, {\\\\\\\\\\\\\\\"column\\\\\\\\\\\\\\\": {\\\\\\\\\\\\\\\"type\\\\\\\\\\\\\\\": 2, \\\\\\\\\\\\\\\"details\\\\\\\\\\\\\\\": {\\\\\\\\\\\\\\\"selectedColumn\\\\\\\\\\\\\\\": \\\\\\\\\\\\\\\"ps_car_14\\\\\\\\\\\\\\\"}}, \\\\\\\\\\\\\\\"typeProperty\\\\\\\\\\\\\\\": 3}, {\\\\\\\\\\\\\\\"column\\\\\\\\\\\\\\\": {\\\\\\\\\\\\\\\"type\\\\\\\\\\\\\\\": 2, \\\\\\\\\\\\\\\"details\\\\\\\\\\\\\\\": {\\\\\\\\\\\\\\\"selectedColumn\\\\\\\\\\\\\\\": \\\\\\\\\\\\\\\"ps_car_15\\\\\\\\\\\\\\\"}}, \\\\\\\\\\\\\\\"typeProperty\\\\\\\\\\\\\\\": 3}, {\\\\\\\\\\\\\\\"column\\\\\\\\\\\\\\\": {\\\\\\\\\\\\\\\"type\\\\\\\\\\\\\\\": 2, \\\\\\\\\\\\\\\"details\\\\\\\\\\\\\\\": {\\\\\\\\\\\\\\\"selectedColumn\\\\\\\\\\\\\\\": \\\\\\\\\\\\\\\"ps_calc_01\\\\\\\\\\\\\\\"}}, \\\\\\\\\\\\\\\"typeProperty\\\\\\\\\\\\\\\": 3}, {\\\\\\\\\\\\\\\"column\\\\\\\\\\\\\\\": {\\\\\\\\\\\\\\\"type\\\\\\\\\\\\\\\": 2, \\\\\\\\\\\\\\\"details\\\\\\\\\\\\\\\": {\\\\\\\\\\\\\\\"selectedColumn\\\\\\\\\\\\\\\": \\\\\\\\\\\\\\\"ps_calc_02\\\\\\\\\\\\\\\"}}, \\\\\\\\\\\\\\\"typeProperty\\\\\\\\\\\\\\\": 3}, {\\\\\\\\\\\\\\\"column\\\\\\\\\\\\\\\": {\\\\\\\\\\\\\\\"type\\\\\\\\\\\\\\\": 2, \\\\\\\\\\\\\\\"details\\\\\\\\\\\\\\\": {\\\\\\\\\\\\\\\"selectedColumn\\\\\\\\\\\\\\\": \\\\\\\\\\\\\\\"ps_calc_03\\\\\\\\\\\\\\\"}}, \\\\\\\\\\\\\\\"typeProperty\\\\\\\\\\\\\\\": 3}, {\\\\\\\\\\\\\\\"column\\\\\\\\\\\\\\\": {\\\\\\\\\\\\\\\"type\\\\\\\\\\\\\\\": 2, \\\\\\\\\\\\\\\"details\\\\\\\\\\\\\\\": {\\\\\\\\\\\\\\\"selectedColumn\\\\\\\\\\\\\\\": \\\\\\\\\\\\\\\"ps_calc_04\\\\\\\\\\\\\\\"}}, \\\\\\\\\\\\\\\"typeProperty\\\\\\\\\\\\\\\": 2}, {\\\\\\\\\\\\\\\"column\\\\\\\\\\\\\\\": {\\\\\\\\\\\\\\\"type\\\\\\\\\\\\\\\": 2, \\\\\\\\\\\\\\\"details\\\\\\\\\\\\\\\": {\\\\\\\\\\\\\\\"selectedColumn\\\\\\\\\\\\\\\": \\\\\\\\\\\\\\\"ps_calc_05\\\\\\\\\\\\\\\"}}, \\\\\\\\\\\\\\\"typeProperty\\\\\\\\\\\\\\\": 2}, {\\\\\\\\\\\\\\\"column\\\\\\\\\\\\\\\": {\\\\\\\\\\\\\\\"type\\\\\\\\\\\\\\\": 2, \\\\\\\\\\\\\\\"details\\\\\\\\\\\\\\\": {\\\\\\\\\\\\\\\"selectedColumn\\\\\\\\\\\\\\\": \\\\\\\\\\\\\\\"ps_calc_06\\\\\\\\\\\\\\\"}}, \\\\\\\\\\\\\\\"typeProperty\\\\\\\\\\\\\\\": 2}, {\\\\\\\\\\\\\\\"column\\\\\\\\\\\\\\\": {\\\\\\\\\\\\\\\"type\\\\\\\\\\\\\\\": 2, \\\\\\\\\\\\\\\"details\\\\\\\\\\\\\\\": {\\\\\\\\\\\\\\\"selectedColumn\\\\\\\\\\\\\\\": \\\\\\\\\\\\\\\"ps_calc_07\\\\\\\\\\\\\\\"}}, \\\\\\\\\\\\\\\"typeProperty\\\\\\\\\\\\\\\": 2}, {\\\\\\\\\\\\\\\"column\\\\\\\\\\\\\\\": {\\\\\\\\\\\\\\\"type\\\\\\\\\\\\\\\": 2, \\\\\\\\\\\\\\\"details\\\\\\\\\\\\\\\": {\\\\\\\\\\\\\\\"selectedColumn\\\\\\\\\\\\\\\": \\\\\\\\\\\\\\\"ps_calc_08\\\\\\\\\\\\\\\"}}, \\\\\\\\\\\\\\\"typeProperty\\\\\\\\\\\\\\\": 2}, {\\\\\\\\\\\\\\\"column\\\\\\\\\\\\\\\": {\\\\\\\\\\\\\\\"type\\\\\\\\\\\\\\\": 2, \\\\\\\\\\\\\\\"details\\\\\\\\\\\\\\\": {\\\\\\\\\\\\\\\"selectedColumn\\\\\\\\\\\\\\\": \\\\\\\\\\\\\\\"ps_calc_09\\\\\\\\\\\\\\\"}}, \\\\\\\\\\\\\\\"typeProperty\\\\\\\\\\\\\\\": 2}, {\\\\\\\\\\\\\\\"column\\\\\\\\\\\\\\\": {\\\\\\\\\\\\\\\"type\\\\\\\\\\\\\\\": 2, \\\\\\\\\\\\\\\"details\\\\\\\\\\\\\\\": {\\\\\\\\\\\\\\\"selectedColumn\\\\\\\\\\\\\\\": \\\\\\\\\\\\\\\"ps_calc_10\\\\\\\\\\\\\\\"}}, \\\\\\\\\\\\\\\"typeProperty\\\\\\\\\\\\\\\": 2}, {\\\\\\\\\\\\\\\"column\\\\\\\\\\\\\\\": {\\\\\\\\\\\\\\\"type\\\\\\\\\\\\\\\": 2, \\\\\\\\\\\\\\\"details\\\\\\\\\\\\\\\": {\\\\\\\\\\\\\\\"selectedColumn\\\\\\\\\\\\\\\": \\\\\\\\\\\\\\\"ps_calc_11\\\\\\\\\\\\\\\"}}, \\\\\\\\\\\\\\\"typeProperty\\\\\\\\\\\\\\\": 2}, {\\\\\\\\\\\\\\\"column\\\\\\\\\\\\\\\": {\\\\\\\\\\\\\\\"type\\\\\\\\\\\\\\\": 2, \\\\\\\\\\\\\\\"details\\\\\\\\\\\\\\\": {\\\\\\\\\\\\\\\"selectedColumn\\\\\\\\\\\\\\\": \\\\\\\\\\\\\\\"ps_calc_12\\\\\\\\\\\\\\\"}}, \\\\\\\\\\\\\\\"typeProperty\\\\\\\\\\\\\\\": 2}, {\\\\\\\\\\\\\\\"column\\\\\\\\\\\\\\\": {\\\\\\\\\\\\\\\"type\\\\\\\\\\\\\\\": 2, \\\\\\\\\\\\\\\"details\\\\\\\\\\\\\\\": {\\\\\\\\\\\\\\\"selectedColumn\\\\\\\\\\\\\\\": \\\\\\\\\\\\\\\"ps_calc_13\\\\\\\\\\\\\\\"}}, \\\\\\\\\\\\\\\"typeProperty\\\\\\\\\\\\\\\": 2}, {\\\\\\\\\\\\\\\"column\\\\\\\\\\\\\\\": {\\\\\\\\\\\\\\\"type\\\\\\\\\\\\\\\": 2, \\\\\\\\\\\\\\\"details\\\\\\\\\\\\\\\": {\\\\\\\\\\\\\\\"selectedColumn\\\\\\\\\\\\\\\": \\\\\\\\\\\\\\\"ps_calc_14\\\\\\\\\\\\\\\"}}, \\\\\\\\\\\\\\\"typeProperty\\\\\\\\\\\\\\\": 2}, {\\\\\\\\\\\\\\\"column\\\\\\\\\\\\\\\": {\\\\\\\\\\\\\\\"type\\\\\\\\\\\\\\\": 2, \\\\\\\\\\\\\\\"details\\\\\\\\\\\\\\\": {\\\\\\\\\\\\\\\"selectedColumn\\\\\\\\\\\\\\\": \\\\\\\\\\\\\\\"ps_calc_15_bin\\\\\\\\\\\\\\\"}}, \\\\\\\\\\\\\\\"typeProperty\\\\\\\\\\\\\\\": 2}, {\\\\\\\\\\\\\\\"column\\\\\\\\\\\\\\\": {\\\\\\\\\\\\\\\"type\\\\\\\\\\\\\\\": 2, \\\\\\\\\\\\\\\"details\\\\\\\\\\\\\\\": {\\\\\\\\\\\\\\\"selectedColumn\\\\\\\\\\\\\\\": \\\\\\\\\\\\\\\"ps_calc_16_bin\\\\\\\\\\\\\\\"}}, \\\\\\\\\\\\\\\"typeProperty\\\\\\\\\\\\\\\": 2}, {\\\\\\\\\\\\\\\"column\\\\\\\\\\\\\\\": {\\\\\\\\\\\\\\\"type\\\\\\\\\\\\\\\": 2, \\\\\\\\\\\\\\\"details\\\\\\\\\\\\\\\": {\\\\\\\\\\\\\\\"selectedColumn\\\\\\\\\\\\\\\": \\\\\\\\\\\\\\\"ps_calc_17_bin\\\\\\\\\\\\\\\"}}, \\\\\\\\\\\\\\\"typeProperty\\\\\\\\\\\\\\\": 2}, {\\\\\\\\\\\\\\\"column\\\\\\\\\\\\\\\": {\\\\\\\\\\\\\\\"type\\\\\\\\\\\\\\\": 2, \\\\\\\\\\\\\\\"details\\\\\\\\\\\\\\\": {\\\\\\\\\\\\\\\"selectedColumn\\\\\\\\\\\\\\\": \\\\\\\\\\\\\\\"ps_calc_18_bin\\\\\\\\\\\\\\\"}}, \\\\\\\\\\\\\\\"typeProperty\\\\\\\\\\\\\\\": 2}, {\\\\\\\\\\\\\\\"column\\\\\\\\\\\\\\\": {\\\\\\\\\\\\\\\"type\\\\\\\\\\\\\\\": 2, \\\\\\\\\\\\\\\"details\\\\\\\\\\\\\\\": {\\\\\\\\\\\\\\\"selectedColumn\\\\\\\\\\\\\\\": \\\\\\\\\\\\\\\"ps_calc_19_bin\\\\\\\\\\\\\\\"}}, \\\\\\\\\\\\\\\"typeProperty\\\\\\\\\\\\\\\": 2}, {\\\\\\\\\\\\\\\"column\\\\\\\\\\\\\\\": {\\\\\\\\\\\\\\\"type\\\\\\\\\\\\\\\": 2, \\\\\\\\\\\\\\\"details\\\\\\\\\\\\\\\": {\\\\\\\\\\\\\\\"selectedColumn\\\\\\\\\\\\\\\": \\\\\\\\\\\\\\\"ps_calc_20_bin\\\\\\\\\\\\\\\"}}, \\\\\\\\\\\\\\\"typeProperty\\\\\\\\\\\\\\\": 2}]}, \\\\\\\\\\\\\\\"localData\\\\\\\\\\\\\\\": {}, \\\\\\\\\\\\\\\"isEnabled\\\\\\\\\\\\\\\": true, \\\\\\\\\\\\\\\"name\\\\\\\\\\\\\\\": null, \\\\\\\\\\\\\\\"annotation\\\\\\\\\\\\\\\": null}, {\\\\\\\\\\\\\\\"id\\\\\\\\\\\\\\\": \\\\\\\\\\\\\\\"623e2f38-1ae6-4571-a9bf-4f89257ccaa0\\\\\\\\\\\\\\\", \\\\\\\\\\\\\\\"type\\\\\\\\\\\\\\\": \\\\\\\\\\\\\\\"Microsoft.DPrep.RandomSplitBlock\\\\\\\\\\\\\\\", \\\\\\\\\\\\\\\"arguments\\\\\\\\\\\\\\\": {\\\\\\\\\\\\\\\"probability\\\\\\\\\\\\\\\": 0.8, \\\\\\\\\\\\\\\"seed\\\\\\\\\\\\\\\": 1724651130}, \\\\\\\\\\\\\\\"localData\\\\\\\\\\\\\\\": {}, \\\\\\\\\\\\\\\"isEnabled\\\\\\\\\\\\\\\": true, \\\\\\\\\\\\\\\"name\\\\\\\\\\\\\\\": null, \\\\\\\\\\\\\\\"annotation\\\\\\\\\\\\\\\": null}], \\\\\\\\\\\\\\\"inspectors\\\\\\\\\\\\\\\": [], \\\\\\\\\\\\\\\"meta\\\\\\\\\\\\\\\": {\\\\\\\\\\\\\\\"savedDatasetId\\\\\\\\\\\\\\\": \\\\\\\\\\\\\\\"a219b444-bc05-4f0f-bb3a-91e50508d40a\\\\\\\\\\\\\\\", \\\\\\\\\\\\\\\"datasetType\\\\\\\\\\\\\\\": \\\\\\\\\\\\\\\"tabular\\\\\\\\\\\\\\\", \\\\\\\\\\\\\\\"subscriptionId\\\\\\\\\\\\\\\": \\\\\\\\\\\\\\\"102a16c3-37d3-48a8-9237-4c9b1e8e80e0\\\\\\\\\\\\\\\", \\\\\\\\\\\\\\\"workspaceId\\\\\\\\\\\\\\\": \\\\\\\\\\\\\\\"97742b8e-05a1-43f1-8d21-4c2ea62ef8bf\\\\\\\\\\\\\\\", \\\\\\\\\\\\\\\"workspaceLocation\\\\\\\\\\\\\\\": \\\\\\\\\\\\\\\"northcentralus\\\\\\\\\\\\\\\"}}\\\\\\\", \\\\\\\"activities\\\\\\\": 0}\", \"EnableSubsampling\": null, \"Properties\": \"\", \"runTemplate\": \"AutoML\", \"azureml.runsource\": \"automl\", \"ClientType\": \"SDK\", \"ClientSdkVersion\": \"1.0.76\", \"display_task_type\": \"classification\", \"dependencies_versions\": \"{\\\"azureml-widgets\\\": \\\"1.0.76\\\", \\\"azureml-train\\\": \\\"1.0.76\\\", \\\"azureml-train-restclients-hyperdrive\\\": \\\"1.0.76\\\", \\\"azureml-train-core\\\": \\\"1.0.76\\\", \\\"azureml-train-automl\\\": \\\"1.0.76\\\", \\\"azureml-train-automl-runtime\\\": \\\"1.0.76.1\\\", \\\"azureml-train-automl-client\\\": \\\"1.0.76\\\", \\\"azureml-tensorboard\\\": \\\"1.0.76\\\", \\\"azureml-telemetry\\\": \\\"1.0.76\\\", \\\"azureml-sdk\\\": \\\"1.0.76\\\", \\\"azureml-samples\\\": \\\"0+unknown\\\", \\\"azureml-pipeline\\\": \\\"1.0.76\\\", \\\"azureml-pipeline-steps\\\": \\\"1.0.76\\\", \\\"azureml-pipeline-core\\\": \\\"1.0.76\\\", \\\"azureml-opendatasets\\\": \\\"1.0.76\\\", \\\"azureml-model-management-sdk\\\": \\\"1.0.1b6.post1\\\", \\\"azureml-mlflow\\\": \\\"1.0.76\\\", \\\"azureml-interpret\\\": \\\"1.0.83\\\", \\\"azureml-explain-model\\\": \\\"1.0.76\\\", \\\"azureml-defaults\\\": \\\"1.0.76\\\", \\\"azureml-dataprep\\\": \\\"1.1.31\\\", \\\"azureml-dataprep-native\\\": \\\"13.1.0\\\", \\\"azureml-datadrift\\\": \\\"1.0.76\\\", \\\"azureml-core\\\": \\\"1.0.76\\\", \\\"azureml-contrib-services\\\": \\\"1.0.76\\\", \\\"azureml-contrib-server\\\": \\\"1.0.76\\\", \\\"azureml-contrib-reinforcementlearning\\\": \\\"1.0.76\\\", \\\"azureml-contrib-pipeline-steps\\\": \\\"1.0.76\\\", \\\"azureml-contrib-notebook\\\": \\\"1.0.76\\\", \\\"azureml-contrib-interpret\\\": \\\"1.0.83\\\", \\\"azureml-contrib-datadrift\\\": \\\"1.0.76\\\", \\\"azureml-automl-runtime\\\": \\\"1.0.76.1\\\", \\\"azureml-automl-core\\\": \\\"1.0.76\\\"}\", \"snapshotId\": \"\", \"SetupRunId\": \"AutoML_ad93b312-3aeb-427d-bffb-35b9807e6e82_setup\", \"ProblemInfoJsonString\": \"{\\\"dataset_num_categorical\\\": 0, \\\"is_sparse\\\": false, \\\"subsampling\\\": false, \\\"dataset_classes\\\": 2, \\\"dataset_features\\\": 58, \\\"dataset_samples\\\": 428271, \\\"single_frequency_class_detected\\\": false}\", \"azureml.git.repository_uri\": \"https://github.com/CESARDELATORRE/DataScienceDevOps.git\", \"mlflow.source.git.repoURL\": \"https://github.com/CESARDELATORRE/DataScienceDevOps.git\", \"azureml.git.branch\": \"master\", \"mlflow.source.git.branch\": \"master\", \"azureml.git.commit\": \"dc186aae0fbaf6bda203a02d50cd7b5bc051f13e\", \"mlflow.source.git.commit\": \"dc186aae0fbaf6bda203a02d50cd7b5bc051f13e\", \"azureml.git.dirty\": \"True\"}, \"tags\": {\"model_explain_run\": \"best_run\", \"experiment_status\": \"ModelSelection\", \"experiment_status_descr\": \"Beginning model selection.\", \"pipeline_id\": \"<f2f08837edc96ada39aee31331227c92b06f8bd7>;<f873311e8cfb2bcdbeb6c20367cf912f4ee6733e>;<3fcd5994fbc5693af6cf93d54810a746b5646707>;<ec792268422094a3dbe09a0d94ec727a8057c203>;<dbbac62423083471f5eb230f41e6763e90defcdf>;<75cc4131135a51744d748dedb03da83cafd8f63d>;<c28c67900f2431c7fba35813a772eb634ed9e8c2>;<fc458caef1af1a907c9958484a5909cf538b016d>;<47ed65de3ecdba5de05d461c51f642b6b6932965>;<b9a9758dc56d63d5ec8e267e495dee03cefac61c>;<a5d861aefb105396a929c0817e3a3db317462f77>;<b2e4fba732ac46c06ea06debe11392b92416b97d>;<bb4b825b2e1f80e2b1eb1dcaa93171bfce10c4a5>;<8a1ddc2a681ae3757a422f88e7903b24c3b74a18>;<59dc38673c6cec5b60ee6d97376815f22e670c99>;<d9be42186dd2ac9ef8b4e7d32d05996b7fda61e8>;<8291d61f356e12e392880f6a3c7422ced1a2e9b8>;<b19eeb61727e9c4fbb5aa45fb6e9fe3fab5b1f04>;<5bf6f8493d8ee69b2c3499b4cd8ae10b35c33435>;<547fc2c2b8d9f1175e274ddc635c4380571c55d3>;<ded926178e9d132265a442472d3f4a910ab53fca>;<02c8df697c95821a9c09118cb0c5b22e6aefafb5>;<1cbdd8643b7e965f566bffd2c0bfcaa05527dccf>;<812ef5aa7420c47b26d504b9787a7d1c2976a731>;<f651819ffcda6b4441915e82e21ad38e70c44eb2>;<fd4799d71a10fa35abeab89a1c3036883f4fed9a>;<725f41dd1e35f08aa4e345d01747b3a96c16ce4f>;<0f61b8fedb12f6f589fe2e9224a7f22672d2c09a>;<dda0b553c570e88518b4849b69a32f128d6d3f87>;<75a594f0d59f42a99ea8cb781165974a17e784fc>;<30300d078e631269cc486ae81131f5d4b14f6d2f>;<5e676d4e812a46f454931a52e34962ebff461812>;<c6e0a385bb0a443bc9aa876a093503cce42658c7>;<4030d99144b65cd0ecc53ca73533927dd2cc926f>;<8946fc9e20a71622651f72aa5ddeecb3e48b7c23>;<fce1361a397f66bd9ed709bafb8e8f023ecfafdf>;<__AutoML_Ensemble__>;<__AutoML_Stack_Ensemble__>;\", \"score\": \"<0.596071844220105>;<0.578935025354748>;<0.644342447554306>;<0.614034528890072>;<0.62178643043352>;<0.590653767911664>;<0.643968369117801>;<0.585211159198135>;<0.567629297182321>;<0.579153128088488>;<0.619425496702855>;<0.626090707972367>;<0.602258473018867>;<0.607584129727659>;<0.603540990051151>;<0.602463419513905>;<0.603533631583196>;<0.620553573658139>;<0.641323100173946>;<0.599676603481621>;<0.649550005239931>;<0.632137563487157>;<0.632137601094318>;<0.640590111522784>;<0.641705552471768>;<0.652077206499922>;<0.632137701380082>;<0.634023800820438>;<0.648334817562645>;<0.628164329256216>;<0.649194128669644>;<0.645726923869566>;<0.5>;<0.650421576281614>;<0.633556538105331>;<0.649522614690561>;<0.653636900848969>;<0.653056346559521>;\", \"predicted_cost\": \"<0.5>;<2.055342>;<2.09488239763208>;<2.50364586252492>;<2.72130611252411>;<3.05850516457441>;<4.45152116833824>;<4.22648229966456>;<2.44019132507717>;<4.69283935415804>;<5.40472314253571>;<2.2134893860499>;<3.85032189683133>;<5.49199215558971>;<7.02557133716594>;<3.6597629721038>;<7.75525728402308>;<7.80434014446631>;<5.64205143343399>;<3.29993973901618>;<6.60904318067033>;<0.253646562362764>;<16.7621362401934>;<11.247780350309>;<7.24607828666643>;<8.44658146857909>;<7.39320987275564>;<12.346042118495>;<14.8702395688079>;<10.1444652866472>;<11.4571499202427>;<19.1924215715136>;<6.99209300231849>;<13.3026815450549>;<67.6446086476516>;<27.3648221364079>;<0>;<0>;\", \"fit_time\": \"<2.055342>;<2.133601>;<6.825093>;<1.861777>;<25.641066>;<1.8122>;<6.274277>;<6.908791>;<2.157603>;<10.26211>;<11.536888>;<2.174201>;<3.065025>;<14.186017>;<9.215116>;<3.656043>;<14.351287>;<4.33651>;<4.119476>;<0.556381>;<30.8633>;<40.414426>;<17.08546>;<55.96434>;<8.275286>;<20.840206>;<9.831204>;<89.15925>;<52.868648>;<37.159691>;<18.178683>;<60.466608>;<9.031795>;<7.519842>;<292.202874>;<34.619501>;<20>;<169>;\", \"training_percent\": \"<100>;<100>;<100>;<100>;<100>;<100>;<100>;<100>;<100>;<100>;<100>;<100>;<100>;<100>;<100>;<100>;<100>;<100>;<100>;<100>;<100>;<100>;<100>;<100>;<100>;<100>;<100>;<100>;<100>;<100>;<100>;<100>;<100>;<100>;<100>;<100>;<100>;<100>;\", \"iteration\": \"<0>;<1>;<2>;<3>;<4>;<5>;<6>;<7>;<8>;<9>;<10>;<11>;<12>;<13>;<14>;<15>;<16>;<17>;<18>;<19>;<20>;<21>;<22>;<23>;<24>;<25>;<26>;<27>;<28>;<29>;<30>;<31>;<32>;<33>;<34>;<35>;<36>;<37>;\", \"run_preprocessor\": \"<StandardScalerWrapper>;<StandardScalerWrapper>;<MinMaxScaler>;<StandardScalerWrapper>;<StandardScalerWrapper>;<MinMaxScaler>;<StandardScalerWrapper>;<StandardScalerWrapper>;<StandardScalerWrapper>;<RobustScaler>;<MinMaxScaler>;<StandardScalerWrapper>;<MinMaxScaler>;<StandardScalerWrapper>;<MinMaxScaler>;<MinMaxScaler>;<StandardScalerWrapper>;<MinMaxScaler>;<MaxAbsScaler>;<MinMaxScaler>;<StandardScalerWrapper>;<MaxAbsScaler>;<MaxAbsScaler>;<SparseNormalizer>;<StandardScalerWrapper>;<MaxAbsScaler>;<StandardScalerWrapper>;<StandardScalerWrapper>;<RobustScaler>;<StandardScalerWrapper>;<MinMaxScaler>;<RobustScaler>;<SparseNormalizer>;<MinMaxScaler>;<StandardScalerWrapper>;<StandardScalerWrapper>;<>;<>;\", \"run_algorithm\": \"<SGD>;<SGD>;<LightGBM>;<SGD>;<ExtremeRandomTrees>;<SGD>;<LightGBM>;<ExtremeRandomTrees>;<SGD>;<ExtremeRandomTrees>;<RandomForest>;<SGD>;<SGD>;<RandomForest>;<ExtremeRandomTrees>;<SGD>;<ExtremeRandomTrees>;<RandomForest>;<LightGBM>;<BernoulliNaiveBayes>;<LightGBM>;<LogisticRegression>;<LogisticRegression>;<LightGBM>;<LightGBM>;<LightGBM>;<LogisticRegression>;<LogisticRegression>;<LightGBM>;<GradientBoosting>;<LightGBM>;<LightGBM>;<ExtremeRandomTrees>;<LightGBM>;<RandomForest>;<LightGBM>;<VotingEnsemble>;<StackEnsemble>;\", \"dynamic_whitelisting_iterations\": \"<20>;<25>;<30>;<35>;\"}, \"end_time_utc\": \"2020-02-16T23:56:41.78755Z\", \"status\": \"Completed\", \"log_files\": {}, \"log_groups\": [], \"run_duration\": \"1:28:34\"}, \"child_runs\": [{\"run_id\": \"AutoML_ad93b312-3aeb-427d-bffb-35b9807e6e82_0\", \"run_number\": 3, \"metric\": null, \"status\": \"Completed\", \"run_type\": \"azureml.scriptrun\", \"training_percent\": \"100\", \"start_time\": \"2020-02-16T22:30:59.870739Z\", \"end_time\": \"2020-02-16T22:32:34.516731Z\", \"created_time\": \"2020-02-16T22:30:45.507105Z\", \"created_time_dt\": \"2020-02-16T22:30:45.507105Z\", \"duration\": \"0:01:49\", \"iteration\": \"0\", \"goal\": \"AUC_weighted_max\", \"run_name\": \"StandardScalerWrapper, SGD\", \"run_properties\": \"<automl.client.core.runtime.model_wrappers.StandardScalerWrapper object at 0x7f610da21f98\", \"primary_metric\": 0.59607184, \"best_metric\": 0.59607184}, {\"run_id\": \"AutoML_ad93b312-3aeb-427d-bffb-35b9807e6e82_1\", \"run_number\": 4, \"metric\": null, \"status\": \"Completed\", \"run_type\": \"azureml.scriptrun\", \"training_percent\": \"100\", \"start_time\": \"2020-02-16T22:32:53.581121Z\", \"end_time\": \"2020-02-16T22:34:23.855802Z\", \"created_time\": \"2020-02-16T22:32:40.474603Z\", \"created_time_dt\": \"2020-02-16T22:32:40.474603Z\", \"duration\": \"0:01:43\", \"iteration\": \"1\", \"goal\": \"AUC_weighted_max\", \"run_name\": \"StandardScalerWrapper, SGD\", \"run_properties\": \"<automl.client.core.runtime.model_wrappers.StandardScalerWrapper object at 0x7faa07309c88\", \"primary_metric\": 0.57893503, \"best_metric\": 0.59607184}, {\"run_id\": \"AutoML_ad93b312-3aeb-427d-bffb-35b9807e6e82_2\", \"run_number\": 5, \"metric\": null, \"status\": \"Completed\", \"run_type\": \"azureml.scriptrun\", \"training_percent\": \"100\", \"start_time\": \"2020-02-16T22:34:46.307332Z\", \"end_time\": \"2020-02-16T22:36:19.334222Z\", \"created_time\": \"2020-02-16T22:34:30.068143Z\", \"created_time_dt\": \"2020-02-16T22:34:30.068143Z\", \"duration\": \"0:01:49\", \"iteration\": \"2\", \"goal\": \"AUC_weighted_max\", \"run_name\": \"MinMaxScaler, LightGBM\", \"run_properties\": \"copy=True, feature_range=(0, 1\", \"primary_metric\": 0.64434245, \"best_metric\": 0.64434245}, {\"run_id\": \"AutoML_ad93b312-3aeb-427d-bffb-35b9807e6e82_3\", \"run_number\": 6, \"metric\": null, \"status\": \"Completed\", \"run_type\": \"azureml.scriptrun\", \"training_percent\": \"100\", \"start_time\": \"2020-02-16T22:36:32.52063Z\", \"end_time\": \"2020-02-16T22:38:04.981091Z\", \"created_time\": \"2020-02-16T22:36:21.087822Z\", \"created_time_dt\": \"2020-02-16T22:36:21.087822Z\", \"duration\": \"0:01:43\", \"iteration\": \"3\", \"goal\": \"AUC_weighted_max\", \"run_name\": \"StandardScalerWrapper, SGD\", \"run_properties\": \"<automl.client.core.runtime.model_wrappers.StandardScalerWrapper object at 0x7f02ddec5048\", \"primary_metric\": 0.61403453, \"best_metric\": 0.64434245}, {\"run_id\": \"AutoML_ad93b312-3aeb-427d-bffb-35b9807e6e82_4\", \"run_number\": 7, \"metric\": null, \"status\": \"Completed\", \"run_type\": \"azureml.scriptrun\", \"training_percent\": \"100\", \"start_time\": \"2020-02-16T22:38:19.738748Z\", \"end_time\": \"2020-02-16T22:40:14.986592Z\", \"created_time\": \"2020-02-16T22:38:07.513595Z\", \"created_time_dt\": \"2020-02-16T22:38:07.513595Z\", \"duration\": \"0:02:07\", \"iteration\": \"4\", \"goal\": \"AUC_weighted_max\", \"run_name\": \"StandardScalerWrapper, ExtremeRandomTrees\", \"run_properties\": \"<automl.client.core.runtime.model_wrappers.StandardScalerWrapper object at 0x7f5b33e7d668\", \"primary_metric\": 0.62178643, \"best_metric\": 0.64434245}, {\"run_id\": \"AutoML_ad93b312-3aeb-427d-bffb-35b9807e6e82_5\", \"run_number\": 8, \"metric\": null, \"status\": \"Completed\", \"run_type\": \"azureml.scriptrun\", \"training_percent\": \"100\", \"start_time\": \"2020-02-16T22:40:32.924345Z\", \"end_time\": \"2020-02-16T22:42:01.874492Z\", \"created_time\": \"2020-02-16T22:40:17.56201Z\", \"created_time_dt\": \"2020-02-16T22:40:17.56201Z\", \"duration\": \"0:01:44\", \"iteration\": \"5\", \"goal\": \"AUC_weighted_max\", \"run_name\": \"MinMaxScaler, SGD\", \"run_properties\": \"copy=True, feature_range=(0, 1\", \"primary_metric\": 0.59065377, \"best_metric\": 0.64434245}, {\"run_id\": \"AutoML_ad93b312-3aeb-427d-bffb-35b9807e6e82_6\", \"run_number\": 9, \"metric\": null, \"status\": \"Completed\", \"run_type\": \"azureml.scriptrun\", \"training_percent\": \"100\", \"start_time\": \"2020-02-16T22:42:17.206962Z\", \"end_time\": \"2020-02-16T22:43:49.714242Z\", \"created_time\": \"2020-02-16T22:42:04.46596Z\", \"created_time_dt\": \"2020-02-16T22:42:04.46596Z\", \"duration\": \"0:01:45\", \"iteration\": \"6\", \"goal\": \"AUC_weighted_max\", \"run_name\": \"StandardScalerWrapper, LightGBM\", \"run_properties\": \"<automl.client.core.runtime.model_wrappers.StandardScalerWrapper object at 0x7f33d8018208\", \"primary_metric\": 0.64396837, \"best_metric\": 0.64434245}, {\"run_id\": \"AutoML_ad93b312-3aeb-427d-bffb-35b9807e6e82_7\", \"run_number\": 10, \"metric\": null, \"status\": \"Completed\", \"run_type\": \"azureml.scriptrun\", \"training_percent\": \"100\", \"start_time\": \"2020-02-16T22:44:05.809874Z\", \"end_time\": \"2020-02-16T22:45:35.667433Z\", \"created_time\": \"2020-02-16T22:43:53.423787Z\", \"created_time_dt\": \"2020-02-16T22:43:53.423787Z\", \"duration\": \"0:01:42\", \"iteration\": \"7\", \"goal\": \"AUC_weighted_max\", \"run_name\": \"StandardScalerWrapper, ExtremeRandomTrees\", \"run_properties\": \"<automl.client.core.runtime.model_wrappers.StandardScalerWrapper object at 0x7fcac4be40b8\", \"primary_metric\": 0.58521116, \"best_metric\": 0.64434245}, {\"run_id\": \"AutoML_ad93b312-3aeb-427d-bffb-35b9807e6e82_8\", \"run_number\": 11, \"metric\": null, \"status\": \"Completed\", \"run_type\": \"azureml.scriptrun\", \"training_percent\": \"100\", \"start_time\": \"2020-02-16T22:45:49.598904Z\", \"end_time\": \"2020-02-16T22:47:14.995289Z\", \"created_time\": \"2020-02-16T22:45:37.39652Z\", \"created_time_dt\": \"2020-02-16T22:45:37.39652Z\", \"duration\": \"0:01:37\", \"iteration\": \"8\", \"goal\": \"AUC_weighted_max\", \"run_name\": \"StandardScalerWrapper, SGD\", \"run_properties\": \"<automl.client.core.runtime.model_wrappers.StandardScalerWrapper object at 0x7f83e7fe00b8\", \"primary_metric\": 0.5676293, \"best_metric\": 0.64434245}, {\"run_id\": \"AutoML_ad93b312-3aeb-427d-bffb-35b9807e6e82_9\", \"run_number\": 12, \"metric\": null, \"status\": \"Completed\", \"run_type\": \"azureml.scriptrun\", \"training_percent\": \"100\", \"start_time\": \"2020-02-16T22:47:33.720705Z\", \"end_time\": \"2020-02-16T22:49:11.524225Z\", \"created_time\": \"2020-02-16T22:47:20.562675Z\", \"created_time_dt\": \"2020-02-16T22:47:20.562675Z\", \"duration\": \"0:01:50\", \"iteration\": \"9\", \"goal\": \"AUC_weighted_max\", \"run_name\": \"RobustScaler, ExtremeRandomTrees\", \"run_properties\": \"copy=True, quantile_range=[25, 75], with_centering=False,\\n       with_scaling=False\", \"primary_metric\": 0.57915313, \"best_metric\": 0.64434245}, {\"run_id\": \"AutoML_ad93b312-3aeb-427d-bffb-35b9807e6e82_10\", \"run_number\": 13, \"metric\": null, \"status\": \"Completed\", \"run_type\": \"azureml.scriptrun\", \"training_percent\": \"100\", \"start_time\": \"2020-02-16T22:49:30.243666Z\", \"end_time\": \"2020-02-16T22:51:07.970393Z\", \"created_time\": \"2020-02-16T22:49:15.783194Z\", \"created_time_dt\": \"2020-02-16T22:49:15.783194Z\", \"duration\": \"0:01:52\", \"iteration\": \"10\", \"goal\": \"AUC_weighted_max\", \"run_name\": \"MinMaxScaler, RandomForest\", \"run_properties\": \"copy=True, feature_range=(0, 1\", \"primary_metric\": 0.6194255, \"best_metric\": 0.64434245}, {\"run_id\": \"AutoML_ad93b312-3aeb-427d-bffb-35b9807e6e82_11\", \"run_number\": 14, \"metric\": null, \"status\": \"Completed\", \"run_type\": \"azureml.scriptrun\", \"training_percent\": \"100\", \"start_time\": \"2020-02-16T22:51:23.298534Z\", \"end_time\": \"2020-02-16T22:52:49.8868Z\", \"created_time\": \"2020-02-16T22:51:10.661905Z\", \"created_time_dt\": \"2020-02-16T22:51:10.661905Z\", \"duration\": \"0:01:39\", \"iteration\": \"11\", \"goal\": \"AUC_weighted_max\", \"run_name\": \"StandardScalerWrapper, SGD\", \"run_properties\": \"<automl.client.core.runtime.model_wrappers.StandardScalerWrapper object at 0x7fb73fb9da90\", \"primary_metric\": 0.62609071, \"best_metric\": 0.64434245}, {\"run_id\": \"AutoML_ad93b312-3aeb-427d-bffb-35b9807e6e82_12\", \"run_number\": 15, \"metric\": null, \"status\": \"Completed\", \"run_type\": \"azureml.scriptrun\", \"training_percent\": \"100\", \"start_time\": \"2020-02-16T22:53:08.901303Z\", \"end_time\": \"2020-02-16T22:54:39.986275Z\", \"created_time\": \"2020-02-16T22:52:54.363962Z\", \"created_time_dt\": \"2020-02-16T22:52:54.363962Z\", \"duration\": \"0:01:45\", \"iteration\": \"12\", \"goal\": \"AUC_weighted_max\", \"run_name\": \"MinMaxScaler, SGD\", \"run_properties\": \"copy=True, feature_range=(0, 1\", \"primary_metric\": 0.60225847, \"best_metric\": 0.64434245}, {\"run_id\": \"AutoML_ad93b312-3aeb-427d-bffb-35b9807e6e82_13\", \"run_number\": 16, \"metric\": null, \"status\": \"Completed\", \"run_type\": \"azureml.scriptrun\", \"training_percent\": \"100\", \"start_time\": \"2020-02-16T22:54:57.539399Z\", \"end_time\": \"2020-02-16T22:56:35.054781Z\", \"created_time\": \"2020-02-16T22:54:44.186753Z\", \"created_time_dt\": \"2020-02-16T22:54:44.186753Z\", \"duration\": \"0:01:50\", \"iteration\": \"13\", \"goal\": \"AUC_weighted_max\", \"run_name\": \"StandardScalerWrapper, RandomForest\", \"run_properties\": \"<automl.client.core.runtime.model_wrappers.StandardScalerWrapper object at 0x7f9b9a244198\", \"primary_metric\": 0.60758413, \"best_metric\": 0.64434245}, {\"run_id\": \"AutoML_ad93b312-3aeb-427d-bffb-35b9807e6e82_14\", \"run_number\": 17, \"metric\": null, \"status\": \"Completed\", \"run_type\": \"azureml.scriptrun\", \"training_percent\": \"100\", \"start_time\": \"2020-02-16T22:56:53.746389Z\", \"end_time\": \"2020-02-16T22:58:35.722375Z\", \"created_time\": \"2020-02-16T22:56:39.45845Z\", \"created_time_dt\": \"2020-02-16T22:56:39.45845Z\", \"duration\": \"0:01:56\", \"iteration\": \"14\", \"goal\": \"AUC_weighted_max\", \"run_name\": \"MinMaxScaler, ExtremeRandomTrees\", \"run_properties\": \"copy=True, feature_range=(0, 1\", \"primary_metric\": 0.60354099, \"best_metric\": 0.64434245}, {\"run_id\": \"AutoML_ad93b312-3aeb-427d-bffb-35b9807e6e82_15\", \"run_number\": 18, \"metric\": null, \"status\": \"Completed\", \"run_type\": \"azureml.scriptrun\", \"training_percent\": \"100\", \"start_time\": \"2020-02-16T22:58:53.929535Z\", \"end_time\": \"2020-02-16T23:00:24.135787Z\", \"created_time\": \"2020-02-16T22:58:40.040899Z\", \"created_time_dt\": \"2020-02-16T22:58:40.040899Z\", \"duration\": \"0:01:44\", \"iteration\": \"15\", \"goal\": \"AUC_weighted_max\", \"run_name\": \"MinMaxScaler, SGD\", \"run_properties\": \"copy=True, feature_range=(0, 1\", \"primary_metric\": 0.60246342, \"best_metric\": 0.64434245}, {\"run_id\": \"AutoML_ad93b312-3aeb-427d-bffb-35b9807e6e82_16\", \"run_number\": 19, \"metric\": null, \"status\": \"Completed\", \"run_type\": \"azureml.scriptrun\", \"training_percent\": \"100\", \"start_time\": \"2020-02-16T23:00:45.762648Z\", \"end_time\": \"2020-02-16T23:02:27.360326Z\", \"created_time\": \"2020-02-16T23:00:31.136103Z\", \"created_time_dt\": \"2020-02-16T23:00:31.136103Z\", \"duration\": \"0:01:56\", \"iteration\": \"16\", \"goal\": \"AUC_weighted_max\", \"run_name\": \"StandardScalerWrapper, ExtremeRandomTrees\", \"run_properties\": \"<automl.client.core.runtime.model_wrappers.StandardScalerWrapper object at 0x7fb09b0736d8\", \"primary_metric\": 0.60353363, \"best_metric\": 0.64434245}, {\"run_id\": \"AutoML_ad93b312-3aeb-427d-bffb-35b9807e6e82_17\", \"run_number\": 20, \"metric\": null, \"status\": \"Completed\", \"run_type\": \"azureml.scriptrun\", \"training_percent\": \"100\", \"start_time\": \"2020-02-16T23:02:45.398813Z\", \"end_time\": \"2020-02-16T23:04:16.197254Z\", \"created_time\": \"2020-02-16T23:02:30.884483Z\", \"created_time_dt\": \"2020-02-16T23:02:30.884483Z\", \"duration\": \"0:01:45\", \"iteration\": \"17\", \"goal\": \"AUC_weighted_max\", \"run_name\": \"MinMaxScaler, RandomForest\", \"run_properties\": \"copy=True, feature_range=(0, 1\", \"primary_metric\": 0.62055357, \"best_metric\": 0.64434245}, {\"run_id\": \"AutoML_ad93b312-3aeb-427d-bffb-35b9807e6e82_18\", \"run_number\": 21, \"metric\": null, \"status\": \"Completed\", \"run_type\": \"azureml.scriptrun\", \"training_percent\": \"100\", \"start_time\": \"2020-02-16T23:04:33.086952Z\", \"end_time\": \"2020-02-16T23:06:01.539359Z\", \"created_time\": \"2020-02-16T23:04:19.550254Z\", \"created_time_dt\": \"2020-02-16T23:04:19.550254Z\", \"duration\": \"0:01:41\", \"iteration\": \"18\", \"goal\": \"AUC_weighted_max\", \"run_name\": \"MaxAbsScaler, LightGBM\", \"run_properties\": \"copy=True\", \"primary_metric\": 0.6413231, \"best_metric\": 0.64434245}, {\"run_id\": \"AutoML_ad93b312-3aeb-427d-bffb-35b9807e6e82_19\", \"run_number\": 22, \"metric\": null, \"status\": \"Completed\", \"run_type\": \"azureml.scriptrun\", \"training_percent\": \"100\", \"start_time\": \"2020-02-16T23:06:17.916901Z\", \"end_time\": \"2020-02-16T23:07:41.539298Z\", \"created_time\": \"2020-02-16T23:06:02.879266Z\", \"created_time_dt\": \"2020-02-16T23:06:02.879266Z\", \"duration\": \"0:01:38\", \"iteration\": \"19\", \"goal\": \"AUC_weighted_max\", \"run_name\": \"MinMaxScaler, BernoulliNaiveBayes\", \"run_properties\": \"copy=True, feature_range=(0, 1\", \"primary_metric\": 0.5996766, \"best_metric\": 0.64434245}, {\"run_id\": \"AutoML_ad93b312-3aeb-427d-bffb-35b9807e6e82_20\", \"run_number\": 23, \"metric\": null, \"status\": \"Completed\", \"run_type\": \"azureml.scriptrun\", \"training_percent\": \"100\", \"start_time\": \"2020-02-16T23:08:02.897165Z\", \"end_time\": \"2020-02-16T23:10:11.20761Z\", \"created_time\": \"2020-02-16T23:07:48.861082Z\", \"created_time_dt\": \"2020-02-16T23:07:48.861082Z\", \"duration\": \"0:02:22\", \"iteration\": \"20\", \"goal\": \"AUC_weighted_max\", \"run_name\": \"StandardScalerWrapper, LightGBM\", \"run_properties\": \"<automl.client.core.runtime.model_wrappers.StandardScalerWrapper object at 0x7f7b735501d0\", \"primary_metric\": 0.64955001, \"best_metric\": 0.64955001}, {\"run_id\": \"AutoML_ad93b312-3aeb-427d-bffb-35b9807e6e82_21\", \"run_number\": 24, \"metric\": null, \"status\": \"Completed\", \"run_type\": \"azureml.scriptrun\", \"training_percent\": \"100\", \"start_time\": \"2020-02-16T23:10:25.543595Z\", \"end_time\": \"2020-02-16T23:12:36.424448Z\", \"created_time\": \"2020-02-16T23:10:13.945976Z\", \"created_time_dt\": \"2020-02-16T23:10:13.945976Z\", \"duration\": \"0:02:22\", \"iteration\": \"21\", \"goal\": \"AUC_weighted_max\", \"run_name\": \"MaxAbsScaler, LogisticRegression\", \"run_properties\": \"copy=True\", \"primary_metric\": 0.63213756, \"best_metric\": 0.64955001}, {\"run_id\": \"AutoML_ad93b312-3aeb-427d-bffb-35b9807e6e82_22\", \"run_number\": 25, \"metric\": null, \"status\": \"Completed\", \"run_type\": \"azureml.scriptrun\", \"training_percent\": \"100\", \"start_time\": \"2020-02-16T23:12:51.537644Z\", \"end_time\": \"2020-02-16T23:14:31.279551Z\", \"created_time\": \"2020-02-16T23:12:38.765973Z\", \"created_time_dt\": \"2020-02-16T23:12:38.765973Z\", \"duration\": \"0:01:52\", \"iteration\": \"22\", \"goal\": \"AUC_weighted_max\", \"run_name\": \"MaxAbsScaler, LogisticRegression\", \"run_properties\": \"copy=True\", \"primary_metric\": 0.6321376, \"best_metric\": 0.64955001}, {\"run_id\": \"AutoML_ad93b312-3aeb-427d-bffb-35b9807e6e82_23\", \"run_number\": 26, \"metric\": null, \"status\": \"Completed\", \"run_type\": \"azureml.scriptrun\", \"training_percent\": \"100\", \"start_time\": \"2020-02-16T23:14:51.967006Z\", \"end_time\": \"2020-02-16T23:17:11.729898Z\", \"created_time\": \"2020-02-16T23:14:36.971904Z\", \"created_time_dt\": \"2020-02-16T23:14:36.971904Z\", \"duration\": \"0:02:34\", \"iteration\": \"23\", \"goal\": \"AUC_weighted_max\", \"run_name\": \"SparseNormalizer, LightGBM\", \"run_properties\": \"<automl.client.core.runtime.model_wrappers.SparseNormalizer object at 0x7ff5ecc9d400\", \"primary_metric\": 0.64059011, \"best_metric\": 0.64955001}, {\"run_id\": \"AutoML_ad93b312-3aeb-427d-bffb-35b9807e6e82_24\", \"run_number\": 27, \"metric\": null, \"status\": \"Completed\", \"run_type\": \"azureml.scriptrun\", \"training_percent\": \"100\", \"start_time\": \"2020-02-16T23:17:29.103779Z\", \"end_time\": \"2020-02-16T23:18:58.025588Z\", \"created_time\": \"2020-02-16T23:17:17.377691Z\", \"created_time_dt\": \"2020-02-16T23:17:17.377691Z\", \"duration\": \"0:01:40\", \"iteration\": \"24\", \"goal\": \"AUC_weighted_max\", \"run_name\": \"StandardScalerWrapper, LightGBM\", \"run_properties\": \"<automl.client.core.runtime.model_wrappers.StandardScalerWrapper object at 0x7fbb1968b358\", \"primary_metric\": 0.64170555, \"best_metric\": 0.64955001}, {\"run_id\": \"AutoML_ad93b312-3aeb-427d-bffb-35b9807e6e82_25\", \"run_number\": 28, \"metric\": null, \"status\": \"Completed\", \"run_type\": \"azureml.scriptrun\", \"training_percent\": \"100\", \"start_time\": \"2020-02-16T23:19:19.812058Z\", \"end_time\": \"2020-02-16T23:21:09.733196Z\", \"created_time\": \"2020-02-16T23:19:07.167937Z\", \"created_time_dt\": \"2020-02-16T23:19:07.167937Z\", \"duration\": \"0:02:02\", \"iteration\": \"25\", \"goal\": \"AUC_weighted_max\", \"run_name\": \"MaxAbsScaler, LightGBM\", \"run_properties\": \"copy=True\", \"primary_metric\": 0.65207721, \"best_metric\": 0.65207721}, {\"run_id\": \"AutoML_ad93b312-3aeb-427d-bffb-35b9807e6e82_26\", \"run_number\": 29, \"metric\": null, \"status\": \"Completed\", \"run_type\": \"azureml.scriptrun\", \"training_percent\": \"100\", \"start_time\": \"2020-02-16T23:21:45.79987Z\", \"end_time\": \"2020-02-16T23:23:23.144128Z\", \"created_time\": \"2020-02-16T23:21:15.501855Z\", \"created_time_dt\": \"2020-02-16T23:21:15.501855Z\", \"duration\": \"0:02:07\", \"iteration\": \"26\", \"goal\": \"AUC_weighted_max\", \"run_name\": \"StandardScalerWrapper, LogisticRegression\", \"run_properties\": \"<automl.client.core.runtime.model_wrappers.StandardScalerWrapper object at 0x7fd79cd68cf8\", \"primary_metric\": 0.6321377, \"best_metric\": 0.65207721}, {\"run_id\": \"AutoML_ad93b312-3aeb-427d-bffb-35b9807e6e82_27\", \"run_number\": 30, \"metric\": null, \"status\": \"Completed\", \"run_type\": \"azureml.scriptrun\", \"training_percent\": \"100\", \"start_time\": \"2020-02-16T23:23:39.525487Z\", \"end_time\": \"2020-02-16T23:26:34.521708Z\", \"created_time\": \"2020-02-16T23:23:25.744821Z\", \"created_time_dt\": \"2020-02-16T23:23:25.744821Z\", \"duration\": \"0:03:08\", \"iteration\": \"27\", \"goal\": \"AUC_weighted_max\", \"run_name\": \"StandardScalerWrapper, LogisticRegression\", \"run_properties\": \"<automl.client.core.runtime.model_wrappers.StandardScalerWrapper object at 0x7fae75759eb8\", \"primary_metric\": 0.6340238, \"best_metric\": 0.65207721}, {\"run_id\": \"AutoML_ad93b312-3aeb-427d-bffb-35b9807e6e82_28\", \"run_number\": 31, \"metric\": null, \"status\": \"Completed\", \"run_type\": \"azureml.scriptrun\", \"training_percent\": \"100\", \"start_time\": \"2020-02-16T23:26:51.207178Z\", \"end_time\": \"2020-02-16T23:29:11.849274Z\", \"created_time\": \"2020-02-16T23:26:37.799731Z\", \"created_time_dt\": \"2020-02-16T23:26:37.799731Z\", \"duration\": \"0:02:34\", \"iteration\": \"28\", \"goal\": \"AUC_weighted_max\", \"run_name\": \"RobustScaler, LightGBM\", \"run_properties\": \"copy=True, quantile_range=[25, 75], with_centering=True,\\n       with_scaling=True\", \"primary_metric\": 0.64833482, \"best_metric\": 0.65207721}, {\"run_id\": \"AutoML_ad93b312-3aeb-427d-bffb-35b9807e6e82_29\", \"run_number\": 32, \"metric\": null, \"status\": \"Completed\", \"run_type\": \"azureml.scriptrun\", \"training_percent\": \"100\", \"start_time\": \"2020-02-16T23:29:35.834234Z\", \"end_time\": \"2020-02-16T23:31:38.586263Z\", \"created_time\": \"2020-02-16T23:29:20.621835Z\", \"created_time_dt\": \"2020-02-16T23:29:20.621835Z\", \"duration\": \"0:02:17\", \"iteration\": \"29\", \"goal\": \"AUC_weighted_max\", \"run_name\": \"StandardScalerWrapper, GradientBoosting\", \"run_properties\": \"<automl.client.core.runtime.model_wrappers.StandardScalerWrapper object at 0x7fe67eace898\", \"primary_metric\": 0.62816433, \"best_metric\": 0.65207721}, {\"run_id\": \"AutoML_ad93b312-3aeb-427d-bffb-35b9807e6e82_30\", \"run_number\": 33, \"metric\": null, \"status\": \"Completed\", \"run_type\": \"azureml.scriptrun\", \"training_percent\": \"100\", \"start_time\": \"2020-02-16T23:31:57.413003Z\", \"end_time\": \"2020-02-16T23:33:44.560316Z\", \"created_time\": \"2020-02-16T23:31:44.980326Z\", \"created_time_dt\": \"2020-02-16T23:31:44.980326Z\", \"duration\": \"0:01:59\", \"iteration\": \"30\", \"goal\": \"AUC_weighted_max\", \"run_name\": \"MinMaxScaler, LightGBM\", \"run_properties\": \"copy=True, feature_range=(0, 1\", \"primary_metric\": 0.64919413, \"best_metric\": 0.65207721}, {\"run_id\": \"AutoML_ad93b312-3aeb-427d-bffb-35b9807e6e82_31\", \"run_number\": 34, \"metric\": null, \"status\": \"Completed\", \"run_type\": \"azureml.scriptrun\", \"training_percent\": \"100\", \"start_time\": \"2020-02-16T23:34:03.528237Z\", \"end_time\": \"2020-02-16T23:36:32.363613Z\", \"created_time\": \"2020-02-16T23:33:49.492455Z\", \"created_time_dt\": \"2020-02-16T23:33:49.492455Z\", \"duration\": \"0:02:42\", \"iteration\": \"31\", \"goal\": \"AUC_weighted_max\", \"run_name\": \"RobustScaler, LightGBM\", \"run_properties\": \"copy=True, quantile_range=[25, 75], with_centering=False,\\n       with_scaling=True\", \"primary_metric\": 0.64572692, \"best_metric\": 0.65207721}, {\"run_id\": \"AutoML_ad93b312-3aeb-427d-bffb-35b9807e6e82_32\", \"run_number\": 35, \"metric\": null, \"status\": \"Completed\", \"run_type\": \"azureml.scriptrun\", \"training_percent\": \"100\", \"start_time\": \"2020-02-16T23:36:52.014073Z\", \"end_time\": \"2020-02-16T23:38:42.513683Z\", \"created_time\": \"2020-02-16T23:36:36.413323Z\", \"created_time_dt\": \"2020-02-16T23:36:36.413323Z\", \"duration\": \"0:02:06\", \"iteration\": \"32\", \"goal\": \"AUC_weighted_max\", \"run_name\": \"SparseNormalizer, ExtremeRandomTrees\", \"run_properties\": \"<automl.client.core.runtime.model_wrappers.SparseNormalizer object at 0x7f975023e908\", \"primary_metric\": 0.5, \"best_metric\": 0.65207721}, {\"run_id\": \"AutoML_ad93b312-3aeb-427d-bffb-35b9807e6e82_33\", \"run_number\": 36, \"metric\": null, \"status\": \"Completed\", \"run_type\": \"azureml.scriptrun\", \"training_percent\": \"100\", \"start_time\": \"2020-02-16T23:39:01.598489Z\", \"end_time\": \"2020-02-16T23:40:39.490921Z\", \"created_time\": \"2020-02-16T23:38:47.75083Z\", \"created_time_dt\": \"2020-02-16T23:38:47.75083Z\", \"duration\": \"0:01:51\", \"iteration\": \"33\", \"goal\": \"AUC_weighted_max\", \"run_name\": \"MinMaxScaler, LightGBM\", \"run_properties\": \"copy=True, feature_range=(0, 1\", \"primary_metric\": 0.65042158, \"best_metric\": 0.65207721}, {\"run_id\": \"AutoML_ad93b312-3aeb-427d-bffb-35b9807e6e82_34\", \"run_number\": 37, \"metric\": null, \"status\": \"Completed\", \"run_type\": \"azureml.scriptrun\", \"training_percent\": \"100\", \"start_time\": \"2020-02-16T23:40:59.253487Z\", \"end_time\": \"2020-02-16T23:47:24.746723Z\", \"created_time\": \"2020-02-16T23:40:43.149094Z\", \"created_time_dt\": \"2020-02-16T23:40:43.149094Z\", \"duration\": \"0:06:41\", \"iteration\": \"34\", \"goal\": \"AUC_weighted_max\", \"run_name\": \"StandardScalerWrapper, RandomForest\", \"run_properties\": \"<automl.client.core.runtime.model_wrappers.StandardScalerWrapper object at 0x7effb9d37518\", \"primary_metric\": 0.63355654, \"best_metric\": 0.65207721}, {\"run_id\": \"AutoML_ad93b312-3aeb-427d-bffb-35b9807e6e82_35\", \"run_number\": 38, \"metric\": null, \"status\": \"Completed\", \"run_type\": \"azureml.scriptrun\", \"training_percent\": \"100\", \"start_time\": \"2020-02-16T23:47:43.062502Z\", \"end_time\": \"2020-02-16T23:49:46.311563Z\", \"created_time\": \"2020-02-16T23:47:30.373963Z\", \"created_time_dt\": \"2020-02-16T23:47:30.373963Z\", \"duration\": \"0:02:15\", \"iteration\": \"35\", \"goal\": \"AUC_weighted_max\", \"run_name\": \"StandardScalerWrapper, LightGBM\", \"run_properties\": \"<automl.client.core.runtime.model_wrappers.StandardScalerWrapper object at 0x7ff3732ab860\", \"primary_metric\": 0.64952261, \"best_metric\": 0.65207721}, {\"run_id\": \"AutoML_ad93b312-3aeb-427d-bffb-35b9807e6e82_36\", \"run_number\": 39, \"metric\": null, \"status\": \"Completed\", \"run_type\": \"azureml.scriptrun\", \"training_percent\": \"100\", \"start_time\": \"2020-02-16T23:50:08.951827Z\", \"end_time\": \"2020-02-16T23:51:56.953125Z\", \"created_time\": \"2020-02-16T23:49:54.077146Z\", \"created_time_dt\": \"2020-02-16T23:49:54.077146Z\", \"duration\": \"0:02:02\", \"iteration\": \"36\", \"goal\": \"AUC_weighted_max\", \"run_name\": \"VotingEnsemble\", \"run_properties\": \"classification_labels=None,\\n               estimators=[('25', Pipeline(memory=None,\\n     steps=[('maxabsscaler', MaxAbsScaler(copy=True\", \"primary_metric\": 0.6536369, \"best_metric\": 0.6536369}, {\"run_id\": \"AutoML_ad93b312-3aeb-427d-bffb-35b9807e6e82_37\", \"run_number\": 40, \"metric\": null, \"status\": \"Completed\", \"run_type\": \"azureml.scriptrun\", \"training_percent\": \"100\", \"start_time\": \"2020-02-16T23:52:14.478915Z\", \"end_time\": \"2020-02-16T23:56:35.669214Z\", \"created_time\": \"2020-02-16T23:52:01.794426Z\", \"created_time_dt\": \"2020-02-16T23:52:01.794426Z\", \"duration\": \"0:04:33\", \"iteration\": \"37\", \"goal\": \"AUC_weighted_max\", \"run_name\": \"StackEnsemble\", \"run_properties\": \"base_learners=[('25', Pipeline(memory=None,\\n     steps=[('maxabsscaler', MaxAbsScaler(copy=True\", \"primary_metric\": 0.65305635, \"best_metric\": 0.6536369}], \"children_metrics\": {\"categories\": [0], \"series\": {\"weighted_accuracy\": [{\"categories\": [\"0\", \"1\", \"2\", \"3\", \"4\", \"5\", \"6\", \"7\", \"8\", \"9\", \"10\", \"11\", \"12\", \"13\", \"14\", \"15\", \"16\", \"17\", \"18\", \"19\", \"20\", \"21\", \"22\", \"23\", \"24\", \"25\", \"26\", \"27\", \"28\", \"29\", \"30\", \"31\", \"32\", \"33\", \"34\", \"35\", \"36\", \"37\"], \"mode\": \"markers\", \"name\": \"weighted_accuracy\", \"stepped\": false, \"type\": \"scatter\", \"data\": [0.9985616304823237, 0.9983873842439636, 0.9985616304823237, 0.5242151560671121, 0.9985616304823237, 0.7646465054692848, 0.9985616304823237, 0.5559895055009312, 0.9981494489645146, 0.39793813634845693, 0.5590572517987502, 0.5643044785291084, 0.9985616304823237, 0.5466741957871076, 0.5446794571865952, 0.9985616304823237, 0.5812695510006124, 0.9985616304823237, 0.9985616304823237, 0.6075804821477336, 0.9985616304823237, 0.9985616304823237, 0.9985616304823237, 0.9985616304823237, 0.9985616304823237, 0.9985398497025287, 0.9985616304823237, 0.6244933645528502, 0.9985616304823237, 0.9985616304823237, 0.9985616304823237, 0.9985616304823237, 0.0014383695176763904, 0.9985616304823237, 0.9985616304823237, 0.9985616304823237, 0.9985616304823237, 0.9985616304823237]}, {\"categories\": [\"0\", \"1\", \"2\", \"3\", \"4\", \"5\", \"6\", \"7\", \"8\", \"9\", \"10\", \"11\", \"12\", \"13\", \"14\", \"15\", \"16\", \"17\", \"18\", \"19\", \"20\", \"21\", \"22\", \"23\", \"24\", \"25\", \"26\", \"27\", \"28\", \"29\", \"30\", \"31\", \"32\", \"33\", \"34\", \"35\", \"36\", \"37\"], \"mode\": \"lines\", \"name\": \"weighted_accuracy_max\", \"stepped\": true, \"type\": \"scatter\", \"data\": [0.9985616304823237, 0.9985616304823237, 0.9985616304823237, 0.9985616304823237, 0.9985616304823237, 0.9985616304823237, 0.9985616304823237, 0.9985616304823237, 0.9985616304823237, 0.9985616304823237, 0.9985616304823237, 0.9985616304823237, 0.9985616304823237, 0.9985616304823237, 0.9985616304823237, 0.9985616304823237, 0.9985616304823237, 0.9985616304823237, 0.9985616304823237, 0.9985616304823237, 0.9985616304823237, 0.9985616304823237, 0.9985616304823237, 0.9985616304823237, 0.9985616304823237, 0.9985616304823237, 0.9985616304823237, 0.9985616304823237, 0.9985616304823237, 0.9985616304823237, 0.9985616304823237, 0.9985616304823237, 0.9985616304823237, 0.9985616304823237, 0.9985616304823237, 0.9985616304823237, 0.9985616304823237, 0.9985616304823237]}], \"log_loss\": [{\"categories\": [\"0\", \"1\", \"2\", \"3\", \"4\", \"5\", \"6\", \"7\", \"8\", \"9\", \"10\", \"11\", \"12\", \"13\", \"14\", \"15\", \"16\", \"17\", \"18\", \"19\", \"20\", \"21\", \"22\", \"23\", \"24\", \"25\", \"26\", \"27\", \"28\", \"29\", \"30\", \"31\", \"32\", \"33\", \"34\", \"35\", \"36\", \"37\"], \"mode\": \"markers\", \"name\": \"log_loss\", \"stepped\": false, \"type\": \"scatter\", \"data\": [0.15973019747470413, 0.1596208724171014, 0.15250336184624222, 0.9183155967221727, 0.15438749544672828, 0.5789926920747536, 0.15265662584614584, 0.683271358933158, 0.16345855852008664, 0.6871881926260781, 0.6786779093973413, 0.6930459707191386, 0.15878400313353547, 0.6811236376880764, 0.6847628634210486, 0.1569029873397482, 0.6864154961272121, 0.1544965496120415, 0.15366153053230638, 0.6774660123886332, 0.15195049214261777, 0.15320592179287146, 0.1532059217291376, 0.15248214654512027, 0.15256180816640175, 0.15183011895259174, 0.15320592900489044, 0.6709378139915066, 0.15199501524638542, 0.15408351198638812, 0.15198014315781339, 0.15224614828647134, 0.6931471805625896, 0.15219580854533768, 0.15336163517366927, 0.15200145006057175, 0.15178601655458765, 0.15666982305853105]}, {\"categories\": [\"0\", \"1\", \"2\", \"3\", \"4\", \"5\", \"6\", \"7\", \"8\", \"9\", \"10\", \"11\", \"12\", \"13\", \"14\", \"15\", \"16\", \"17\", \"18\", \"19\", \"20\", \"21\", \"22\", \"23\", \"24\", \"25\", \"26\", \"27\", \"28\", \"29\", \"30\", \"31\", \"32\", \"33\", \"34\", \"35\", \"36\", \"37\"], \"mode\": \"lines\", \"name\": \"log_loss_min\", \"stepped\": true, \"type\": \"scatter\", \"data\": [0.15973019747470413, 0.1596208724171014, 0.15250336184624222, 0.15250336184624222, 0.15250336184624222, 0.15250336184624222, 0.15250336184624222, 0.15250336184624222, 0.15250336184624222, 0.15250336184624222, 0.15250336184624222, 0.15250336184624222, 0.15250336184624222, 0.15250336184624222, 0.15250336184624222, 0.15250336184624222, 0.15250336184624222, 0.15250336184624222, 0.15250336184624222, 0.15250336184624222, 0.15195049214261777, 0.15195049214261777, 0.15195049214261777, 0.15195049214261777, 0.15195049214261777, 0.15183011895259174, 0.15183011895259174, 0.15183011895259174, 0.15183011895259174, 0.15183011895259174, 0.15183011895259174, 0.15183011895259174, 0.15183011895259174, 0.15183011895259174, 0.15183011895259174, 0.15183011895259174, 0.15178601655458765, 0.15178601655458765]}], \"recall_score_macro\": [{\"categories\": [\"0\", \"1\", \"2\", \"3\", \"4\", \"5\", \"6\", \"7\", \"8\", \"9\", \"10\", \"11\", \"12\", \"13\", \"14\", \"15\", \"16\", \"17\", \"18\", \"19\", \"20\", \"21\", \"22\", \"23\", \"24\", \"25\", \"26\", \"27\", \"28\", \"29\", \"30\", \"31\", \"32\", \"33\", \"34\", \"35\", \"36\", \"37\"], \"mode\": \"markers\", \"name\": \"recall_score_macro\", \"stepped\": false, \"type\": \"scatter\", \"data\": [0.5, 0.49991275138507174, 0.5, 0.5784087131280584, 0.5, 0.5679518162002626, 0.5, 0.5627551081807611, 0.5003674971832236, 0.548177632162848, 0.5858118709262042, 0.5953258810981893, 0.5, 0.5755942307605522, 0.5777517912291074, 0.5, 0.5728308565256699, 0.5, 0.5, 0.5707973244760947, 0.5, 0.5, 0.5, 0.5, 0.5, 0.49998909392313395, 0.5, 0.598204145211781, 0.5, 0.5, 0.5, 0.5, 0.5, 0.5, 0.5, 0.5, 0.5, 0.5]}, {\"categories\": [\"0\", \"1\", \"2\", \"3\", \"4\", \"5\", \"6\", \"7\", \"8\", \"9\", \"10\", \"11\", \"12\", \"13\", \"14\", \"15\", \"16\", \"17\", \"18\", \"19\", \"20\", \"21\", \"22\", \"23\", \"24\", \"25\", \"26\", \"27\", \"28\", \"29\", \"30\", \"31\", \"32\", \"33\", \"34\", \"35\", \"36\", \"37\"], \"mode\": \"lines\", \"name\": \"recall_score_macro_max\", \"stepped\": true, \"type\": \"scatter\", \"data\": [0.5, 0.5, 0.5, 0.5784087131280584, 0.5784087131280584, 0.5784087131280584, 0.5784087131280584, 0.5784087131280584, 0.5784087131280584, 0.5784087131280584, 0.5858118709262042, 0.5953258810981893, 0.5953258810981893, 0.5953258810981893, 0.5953258810981893, 0.5953258810981893, 0.5953258810981893, 0.5953258810981893, 0.5953258810981893, 0.5953258810981893, 0.5953258810981893, 0.5953258810981893, 0.5953258810981893, 0.5953258810981893, 0.5953258810981893, 0.5953258810981893, 0.5953258810981893, 0.598204145211781, 0.598204145211781, 0.598204145211781, 0.598204145211781, 0.598204145211781, 0.598204145211781, 0.598204145211781, 0.598204145211781, 0.598204145211781, 0.598204145211781, 0.598204145211781]}], \"average_precision_score_weighted\": [{\"categories\": [\"0\", \"1\", \"2\", \"3\", \"4\", \"5\", \"6\", \"7\", \"8\", \"9\", \"10\", \"11\", \"12\", \"13\", \"14\", \"15\", \"16\", \"17\", \"18\", \"19\", \"20\", \"21\", \"22\", \"23\", \"24\", \"25\", \"26\", \"27\", \"28\", \"29\", \"30\", \"31\", \"32\", \"33\", \"34\", \"35\", \"36\", \"37\"], \"mode\": \"markers\", \"name\": \"average_precision_score_weighted\", \"stepped\": false, \"type\": \"scatter\", \"data\": [0.9389861885740721, 0.9373976483740658, 0.9443912079452302, 0.9409142208818675, 0.9421872339241776, 0.9384070808748405, 0.9442399313554322, 0.9389539695576157, 0.9358420677022602, 0.9369993892881574, 0.9420921043870422, 0.9421165985847708, 0.939931026060388, 0.9409582746895149, 0.9402932629167263, 0.9398108675502908, 0.9404728542576116, 0.9422687240775555, 0.9442714370241729, 0.9398432818843202, 0.944412918276281, 0.942455748752669, 0.9424557516159611, 0.9434772266513405, 0.9437940034329383, 0.9445940647778365, 0.9424557458360127, 0.9427305634960039, 0.9443653186116275, 0.9429230434694282, 0.9445806434204033, 0.9439502098700683, 0.9295433007559321, 0.9445758653567365, 0.9435972495358748, 0.9446467287345267, 0.944794059069228, 0.9447695964272785]}, {\"categories\": [\"0\", \"1\", \"2\", \"3\", \"4\", \"5\", \"6\", \"7\", \"8\", \"9\", \"10\", \"11\", \"12\", \"13\", \"14\", \"15\", \"16\", \"17\", \"18\", \"19\", \"20\", \"21\", \"22\", \"23\", \"24\", \"25\", \"26\", \"27\", \"28\", \"29\", \"30\", \"31\", \"32\", \"33\", \"34\", \"35\", \"36\", \"37\"], \"mode\": \"lines\", \"name\": \"average_precision_score_weighted_max\", \"stepped\": true, \"type\": \"scatter\", \"data\": [0.9389861885740721, 0.9389861885740721, 0.9443912079452302, 0.9443912079452302, 0.9443912079452302, 0.9443912079452302, 0.9443912079452302, 0.9443912079452302, 0.9443912079452302, 0.9443912079452302, 0.9443912079452302, 0.9443912079452302, 0.9443912079452302, 0.9443912079452302, 0.9443912079452302, 0.9443912079452302, 0.9443912079452302, 0.9443912079452302, 0.9443912079452302, 0.9443912079452302, 0.944412918276281, 0.944412918276281, 0.944412918276281, 0.944412918276281, 0.944412918276281, 0.9445940647778365, 0.9445940647778365, 0.9445940647778365, 0.9445940647778365, 0.9445940647778365, 0.9445940647778365, 0.9445940647778365, 0.9445940647778365, 0.9445940647778365, 0.9445940647778365, 0.9446467287345267, 0.944794059069228, 0.944794059069228]}], \"norm_macro_recall\": [{\"categories\": [\"0\", \"1\", \"2\", \"3\", \"4\", \"5\", \"6\", \"7\", \"8\", \"9\", \"10\", \"11\", \"12\", \"13\", \"14\", \"15\", \"16\", \"17\", \"18\", \"19\", \"20\", \"21\", \"22\", \"23\", \"24\", \"25\", \"26\", \"27\", \"28\", \"29\", \"30\", \"31\", \"32\", \"33\", \"34\", \"35\", \"36\", \"37\"], \"mode\": \"markers\", \"name\": \"norm_macro_recall\", \"stepped\": false, \"type\": \"scatter\", \"data\": [0.0, 0.0, 0.0, 0.15681742625611683, 0.0, 0.13590363240052517, 0.0, 0.12551021636152226, 0.0007349943664471947, 0.09635526432569597, 0.17162374185240847, 0.19065176219637858, 0.0, 0.15118846152110432, 0.15550358245821472, 0.0, 0.1456617130513398, 0.0, 0.0, 0.14159464895218932, 0.0, 0.0, 0.0, 0.0, 0.0, 0.0, 0.0, 0.196408290423562, 0.0, 0.0, 0.0, 0.0, 0.0, 0.0, 0.0, 0.0, 0.0, 0.0]}, {\"categories\": [\"0\", \"1\", \"2\", \"3\", \"4\", \"5\", \"6\", \"7\", \"8\", \"9\", \"10\", \"11\", \"12\", \"13\", \"14\", \"15\", \"16\", \"17\", \"18\", \"19\", \"20\", \"21\", \"22\", \"23\", \"24\", \"25\", \"26\", \"27\", \"28\", \"29\", \"30\", \"31\", \"32\", \"33\", \"34\", \"35\", \"36\", \"37\"], \"mode\": \"lines\", \"name\": \"norm_macro_recall_max\", \"stepped\": true, \"type\": \"scatter\", \"data\": [0.0, 0.0, 0.0, 0.15681742625611683, 0.15681742625611683, 0.15681742625611683, 0.15681742625611683, 0.15681742625611683, 0.15681742625611683, 0.15681742625611683, 0.17162374185240847, 0.19065176219637858, 0.19065176219637858, 0.19065176219637858, 0.19065176219637858, 0.19065176219637858, 0.19065176219637858, 0.19065176219637858, 0.19065176219637858, 0.19065176219637858, 0.19065176219637858, 0.19065176219637858, 0.19065176219637858, 0.19065176219637858, 0.19065176219637858, 0.19065176219637858, 0.19065176219637858, 0.196408290423562, 0.196408290423562, 0.196408290423562, 0.196408290423562, 0.196408290423562, 0.196408290423562, 0.196408290423562, 0.196408290423562, 0.196408290423562, 0.196408290423562, 0.196408290423562]}], \"f1_score_weighted\": [{\"categories\": [\"0\", \"1\", \"2\", \"3\", \"4\", \"5\", \"6\", \"7\", \"8\", \"9\", \"10\", \"11\", \"12\", \"13\", \"14\", \"15\", \"16\", \"17\", \"18\", \"19\", \"20\", \"21\", \"22\", \"23\", \"24\", \"25\", \"26\", \"27\", \"28\", \"29\", \"30\", \"31\", \"32\", \"33\", \"34\", \"35\", \"36\", \"37\"], \"mode\": \"markers\", \"name\": \"f1_score_weighted\", \"stepped\": false, \"type\": \"scatter\", \"data\": [0.945492417049531, 0.9454083806708524, 0.945492417049531, 0.6598286154038845, 0.945492417049531, 0.8277271934692408, 0.945492417049531, 0.6844825463504156, 0.9453961025171307, 0.5465386498832467, 0.687820026278841, 0.6922767139113034, 0.945492417049531, 0.6777060617538724, 0.6762178756608603, 0.945492417049531, 0.7042766594547385, 0.945492417049531, 0.945492417049531, 0.7236963203188753, 0.945492417049531, 0.945492417049531, 0.945492417049531, 0.945492417049531, 0.945492417049531, 0.9454819132892138, 0.945492417049531, 0.7371005510676912, 0.945492417049531, 0.945492417049531, 0.945492417049531, 0.945492417049531, 0.0025797248869111953, 0.945492417049531, 0.945492417049531, 0.945492417049531, 0.945492417049531, 0.945492417049531]}, {\"categories\": [\"0\", \"1\", \"2\", \"3\", \"4\", \"5\", \"6\", \"7\", \"8\", \"9\", \"10\", \"11\", \"12\", \"13\", \"14\", \"15\", \"16\", \"17\", \"18\", \"19\", \"20\", \"21\", \"22\", \"23\", \"24\", \"25\", \"26\", \"27\", \"28\", \"29\", \"30\", \"31\", \"32\", \"33\", \"34\", \"35\", \"36\", \"37\"], \"mode\": \"lines\", \"name\": \"f1_score_weighted_max\", \"stepped\": true, \"type\": \"scatter\", \"data\": [0.945492417049531, 0.945492417049531, 0.945492417049531, 0.945492417049531, 0.945492417049531, 0.945492417049531, 0.945492417049531, 0.945492417049531, 0.945492417049531, 0.945492417049531, 0.945492417049531, 0.945492417049531, 0.945492417049531, 0.945492417049531, 0.945492417049531, 0.945492417049531, 0.945492417049531, 0.945492417049531, 0.945492417049531, 0.945492417049531, 0.945492417049531, 0.945492417049531, 0.945492417049531, 0.945492417049531, 0.945492417049531, 0.945492417049531, 0.945492417049531, 0.945492417049531, 0.945492417049531, 0.945492417049531, 0.945492417049531, 0.945492417049531, 0.945492417049531, 0.945492417049531, 0.945492417049531, 0.945492417049531, 0.945492417049531, 0.945492417049531]}], \"recall_score_weighted\": [{\"categories\": [\"0\", \"1\", \"2\", \"3\", \"4\", \"5\", \"6\", \"7\", \"8\", \"9\", \"10\", \"11\", \"12\", \"13\", \"14\", \"15\", \"16\", \"17\", \"18\", \"19\", \"20\", \"21\", \"22\", \"23\", \"24\", \"25\", \"26\", \"27\", \"28\", \"29\", \"30\", \"31\", \"32\", \"33\", \"34\", \"35\", \"36\", \"37\"], \"mode\": \"markers\", \"name\": \"recall_score_weighted\", \"stepped\": false, \"type\": \"scatter\", \"data\": [0.9634346236287984, 0.9632665069558274, 0.9634346236287984, 0.5280334552179212, 0.9634346236287984, 0.7507880469045518, 0.9634346236287984, 0.5564661875341487, 0.963077375698735, 0.4085235153196318, 0.5609422939520027, 0.5664901441600472, 0.9634346236287984, 0.5487118059933593, 0.5470096246795276, 0.9634346236287984, 0.5806749884419788, 0.9634346236287984, 0.9634346236287984, 0.6049888622704157, 0.9634346236287984, 0.9634346236287984, 0.9634346236287984, 0.9634346236287984, 0.9634346236287984, 0.963413609044677, 0.9634346236287984, 0.6226411129323751, 0.9634346236287984, 0.9634346236287984, 0.9634346236287984, 0.9634346236287984, 0.036565376371201615, 0.9634346236287984, 0.9634346236287984, 0.9634346236287984, 0.9634346236287984, 0.9634346236287984]}, {\"categories\": [\"0\", \"1\", \"2\", \"3\", \"4\", \"5\", \"6\", \"7\", \"8\", \"9\", \"10\", \"11\", \"12\", \"13\", \"14\", \"15\", \"16\", \"17\", \"18\", \"19\", \"20\", \"21\", \"22\", \"23\", \"24\", \"25\", \"26\", \"27\", \"28\", \"29\", \"30\", \"31\", \"32\", \"33\", \"34\", \"35\", \"36\", \"37\"], \"mode\": \"lines\", \"name\": \"recall_score_weighted_max\", \"stepped\": true, \"type\": \"scatter\", \"data\": [0.9634346236287984, 0.9634346236287984, 0.9634346236287984, 0.9634346236287984, 0.9634346236287984, 0.9634346236287984, 0.9634346236287984, 0.9634346236287984, 0.9634346236287984, 0.9634346236287984, 0.9634346236287984, 0.9634346236287984, 0.9634346236287984, 0.9634346236287984, 0.9634346236287984, 0.9634346236287984, 0.9634346236287984, 0.9634346236287984, 0.9634346236287984, 0.9634346236287984, 0.9634346236287984, 0.9634346236287984, 0.9634346236287984, 0.9634346236287984, 0.9634346236287984, 0.9634346236287984, 0.9634346236287984, 0.9634346236287984, 0.9634346236287984, 0.9634346236287984, 0.9634346236287984, 0.9634346236287984, 0.9634346236287984, 0.9634346236287984, 0.9634346236287984, 0.9634346236287984, 0.9634346236287984, 0.9634346236287984]}], \"average_precision_score_macro\": [{\"categories\": [\"0\", \"1\", \"2\", \"3\", \"4\", \"5\", \"6\", \"7\", \"8\", \"9\", \"10\", \"11\", \"12\", \"13\", \"14\", \"15\", \"16\", \"17\", \"18\", \"19\", \"20\", \"21\", \"22\", \"23\", \"24\", \"25\", \"26\", \"27\", \"28\", \"29\", \"30\", \"31\", \"32\", \"33\", \"34\", \"35\", \"36\", \"37\"], \"mode\": \"markers\", \"name\": \"average_precision_score_macro\", \"stepped\": false, \"type\": \"scatter\", \"data\": [0.5129786693472634, 0.5098824126450271, 0.5205289771301981, 0.5151091535610098, 0.5160732012210726, 0.5123538458590117, 0.5208891640736312, 0.5105753089700935, 0.508164035343113, 0.5090699672783279, 0.5150465550286714, 0.51620074234702, 0.5134076344045593, 0.5134278699764415, 0.5134703334287906, 0.5136509101556628, 0.5137245541107688, 0.5154390259172524, 0.5197567015902624, 0.5136162621497857, 0.5216400822848472, 0.5179010145063906, 0.5179010178980934, 0.5201187617632391, 0.5199529373889584, 0.5225335419359411, 0.5179012857086517, 0.5180070420341372, 0.5214799201645618, 0.5174160532600344, 0.5215186128686905, 0.5208366937938328, 0.5, 0.5215105077246137, 0.5179187312448008, 0.5216097899954542, 0.5225770342985098, 0.5223641615668856]}, {\"categories\": [\"0\", \"1\", \"2\", \"3\", \"4\", \"5\", \"6\", \"7\", \"8\", \"9\", \"10\", \"11\", \"12\", \"13\", \"14\", \"15\", \"16\", \"17\", \"18\", \"19\", \"20\", \"21\", \"22\", \"23\", \"24\", \"25\", \"26\", \"27\", \"28\", \"29\", \"30\", \"31\", \"32\", \"33\", \"34\", \"35\", \"36\", \"37\"], \"mode\": \"lines\", \"name\": \"average_precision_score_macro_max\", \"stepped\": true, \"type\": \"scatter\", \"data\": [0.5129786693472634, 0.5129786693472634, 0.5205289771301981, 0.5205289771301981, 0.5205289771301981, 0.5205289771301981, 0.5208891640736312, 0.5208891640736312, 0.5208891640736312, 0.5208891640736312, 0.5208891640736312, 0.5208891640736312, 0.5208891640736312, 0.5208891640736312, 0.5208891640736312, 0.5208891640736312, 0.5208891640736312, 0.5208891640736312, 0.5208891640736312, 0.5208891640736312, 0.5216400822848472, 0.5216400822848472, 0.5216400822848472, 0.5216400822848472, 0.5216400822848472, 0.5225335419359411, 0.5225335419359411, 0.5225335419359411, 0.5225335419359411, 0.5225335419359411, 0.5225335419359411, 0.5225335419359411, 0.5225335419359411, 0.5225335419359411, 0.5225335419359411, 0.5225335419359411, 0.5225770342985098, 0.5225770342985098]}], \"precision_score_weighted\": [{\"categories\": [\"0\", \"1\", \"2\", \"3\", \"4\", \"5\", \"6\", \"7\", \"8\", \"9\", \"10\", \"11\", \"12\", \"13\", \"14\", \"15\", \"16\", \"17\", \"18\", \"19\", \"20\", \"21\", \"22\", \"23\", \"24\", \"25\", \"26\", \"27\", \"28\", \"29\", \"30\", \"31\", \"32\", \"33\", \"34\", \"35\", \"36\", \"37\"], \"mode\": \"markers\", \"name\": \"precision_score_weighted\", \"stepped\": false, \"type\": \"scatter\", \"data\": [0.9282062740067644, 0.9282003505379978, 0.9282062740067644, 0.9402311741719885, 0.9282062740067644, 0.9363407277140517, 0.9282062740067644, 0.9376294587932623, 0.9317136476820873, 0.9380488021419553, 0.9405765357596826, 0.9417100599528423, 0.9282062740067644, 0.9394515276405248, 0.9397714523471408, 0.9282062740067644, 0.9385692449299868, 0.9282062740067644, 0.9282062740067644, 0.9379783941629792, 0.9282062740067644, 0.9282062740067644, 0.9282062740067644, 0.9282062740067644, 0.9282062740067644, 0.9282055336820902, 0.9282062740067644, 0.9410018810757275, 0.9282062740067644, 0.9282062740067644, 0.9282062740067644, 0.9282062740067644, 0.0013370267491676295, 0.9282062740067644, 0.9282062740067644, 0.9282062740067644, 0.9282062740067644, 0.9282062740067644]}, {\"categories\": [\"0\", \"1\", \"2\", \"3\", \"4\", \"5\", \"6\", \"7\", \"8\", \"9\", \"10\", \"11\", \"12\", \"13\", \"14\", \"15\", \"16\", \"17\", \"18\", \"19\", \"20\", \"21\", \"22\", \"23\", \"24\", \"25\", \"26\", \"27\", \"28\", \"29\", \"30\", \"31\", \"32\", \"33\", \"34\", \"35\", \"36\", \"37\"], \"mode\": \"lines\", \"name\": \"precision_score_weighted_max\", \"stepped\": true, \"type\": \"scatter\", \"data\": [0.9282062740067644, 0.9282062740067644, 0.9282062740067644, 0.9402311741719885, 0.9402311741719885, 0.9402311741719885, 0.9402311741719885, 0.9402311741719885, 0.9402311741719885, 0.9402311741719885, 0.9405765357596826, 0.9417100599528423, 0.9417100599528423, 0.9417100599528423, 0.9417100599528423, 0.9417100599528423, 0.9417100599528423, 0.9417100599528423, 0.9417100599528423, 0.9417100599528423, 0.9417100599528423, 0.9417100599528423, 0.9417100599528423, 0.9417100599528423, 0.9417100599528423, 0.9417100599528423, 0.9417100599528423, 0.9417100599528423, 0.9417100599528423, 0.9417100599528423, 0.9417100599528423, 0.9417100599528423, 0.9417100599528423, 0.9417100599528423, 0.9417100599528423, 0.9417100599528423, 0.9417100599528423, 0.9417100599528423]}], \"balanced_accuracy\": [{\"categories\": [\"0\", \"1\", \"2\", \"3\", \"4\", \"5\", \"6\", \"7\", \"8\", \"9\", \"10\", \"11\", \"12\", \"13\", \"14\", \"15\", \"16\", \"17\", \"18\", \"19\", \"20\", \"21\", \"22\", \"23\", \"24\", \"25\", \"26\", \"27\", \"28\", \"29\", \"30\", \"31\", \"32\", \"33\", \"34\", \"35\", \"36\", \"37\"], \"mode\": \"markers\", \"name\": \"balanced_accuracy\", \"stepped\": false, \"type\": \"scatter\", \"data\": [0.5, 0.49991275138507174, 0.5, 0.5784087131280584, 0.5, 0.5679518162002626, 0.5, 0.5627551081807611, 0.5003674971832236, 0.548177632162848, 0.5858118709262042, 0.5953258810981893, 0.5, 0.5755942307605522, 0.5777517912291074, 0.5, 0.5728308565256699, 0.5, 0.5, 0.5707973244760947, 0.5, 0.5, 0.5, 0.5, 0.5, 0.49998909392313395, 0.5, 0.598204145211781, 0.5, 0.5, 0.5, 0.5, 0.5, 0.5, 0.5, 0.5, 0.5, 0.5]}, {\"categories\": [\"0\", \"1\", \"2\", \"3\", \"4\", \"5\", \"6\", \"7\", \"8\", \"9\", \"10\", \"11\", \"12\", \"13\", \"14\", \"15\", \"16\", \"17\", \"18\", \"19\", \"20\", \"21\", \"22\", \"23\", \"24\", \"25\", \"26\", \"27\", \"28\", \"29\", \"30\", \"31\", \"32\", \"33\", \"34\", \"35\", \"36\", \"37\"], \"mode\": \"lines\", \"name\": \"balanced_accuracy_max\", \"stepped\": true, \"type\": \"scatter\", \"data\": [0.5, 0.5, 0.5, 0.5784087131280584, 0.5784087131280584, 0.5784087131280584, 0.5784087131280584, 0.5784087131280584, 0.5784087131280584, 0.5784087131280584, 0.5858118709262042, 0.5953258810981893, 0.5953258810981893, 0.5953258810981893, 0.5953258810981893, 0.5953258810981893, 0.5953258810981893, 0.5953258810981893, 0.5953258810981893, 0.5953258810981893, 0.5953258810981893, 0.5953258810981893, 0.5953258810981893, 0.5953258810981893, 0.5953258810981893, 0.5953258810981893, 0.5953258810981893, 0.598204145211781, 0.598204145211781, 0.598204145211781, 0.598204145211781, 0.598204145211781, 0.598204145211781, 0.598204145211781, 0.598204145211781, 0.598204145211781, 0.598204145211781, 0.598204145211781]}], \"recall_score_micro\": [{\"categories\": [\"0\", \"1\", \"2\", \"3\", \"4\", \"5\", \"6\", \"7\", \"8\", \"9\", \"10\", \"11\", \"12\", \"13\", \"14\", \"15\", \"16\", \"17\", \"18\", \"19\", \"20\", \"21\", \"22\", \"23\", \"24\", \"25\", \"26\", \"27\", \"28\", \"29\", \"30\", \"31\", \"32\", \"33\", \"34\", \"35\", \"36\", \"37\"], \"mode\": \"markers\", \"name\": \"recall_score_micro\", \"stepped\": false, \"type\": \"scatter\", \"data\": [0.9634346236287984, 0.9632665069558274, 0.9634346236287984, 0.5280334552179212, 0.9634346236287984, 0.7507880469045518, 0.9634346236287984, 0.5564661875341487, 0.963077375698735, 0.4085235153196318, 0.5609422939520027, 0.5664901441600471, 0.9634346236287984, 0.5487118059933593, 0.5470096246795276, 0.9634346236287984, 0.5806749884419787, 0.9634346236287984, 0.9634346236287984, 0.6049888622704157, 0.9634346236287984, 0.9634346236287984, 0.9634346236287984, 0.9634346236287984, 0.9634346236287984, 0.963413609044677, 0.9634346236287984, 0.6226411129323751, 0.9634346236287984, 0.9634346236287984, 0.9634346236287984, 0.9634346236287984, 0.036565376371201615, 0.9634346236287984, 0.9634346236287984, 0.9634346236287984, 0.9634346236287984, 0.9634346236287984]}, {\"categories\": [\"0\", \"1\", \"2\", \"3\", \"4\", \"5\", \"6\", \"7\", \"8\", \"9\", \"10\", \"11\", \"12\", \"13\", \"14\", \"15\", \"16\", \"17\", \"18\", \"19\", \"20\", \"21\", \"22\", \"23\", \"24\", \"25\", \"26\", \"27\", \"28\", \"29\", \"30\", \"31\", \"32\", \"33\", \"34\", \"35\", \"36\", \"37\"], \"mode\": \"lines\", \"name\": \"recall_score_micro_max\", \"stepped\": true, \"type\": \"scatter\", \"data\": [0.9634346236287984, 0.9634346236287984, 0.9634346236287984, 0.9634346236287984, 0.9634346236287984, 0.9634346236287984, 0.9634346236287984, 0.9634346236287984, 0.9634346236287984, 0.9634346236287984, 0.9634346236287984, 0.9634346236287984, 0.9634346236287984, 0.9634346236287984, 0.9634346236287984, 0.9634346236287984, 0.9634346236287984, 0.9634346236287984, 0.9634346236287984, 0.9634346236287984, 0.9634346236287984, 0.9634346236287984, 0.9634346236287984, 0.9634346236287984, 0.9634346236287984, 0.9634346236287984, 0.9634346236287984, 0.9634346236287984, 0.9634346236287984, 0.9634346236287984, 0.9634346236287984, 0.9634346236287984, 0.9634346236287984, 0.9634346236287984, 0.9634346236287984, 0.9634346236287984, 0.9634346236287984, 0.9634346236287984]}], \"AUC_micro\": [{\"categories\": [\"0\", \"1\", \"2\", \"3\", \"4\", \"5\", \"6\", \"7\", \"8\", \"9\", \"10\", \"11\", \"12\", \"13\", \"14\", \"15\", \"16\", \"17\", \"18\", \"19\", \"20\", \"21\", \"22\", \"23\", \"24\", \"25\", \"26\", \"27\", \"28\", \"29\", \"30\", \"31\", \"32\", \"33\", \"34\", \"35\", \"36\", \"37\"], \"mode\": \"markers\", \"name\": \"AUC_micro\", \"stepped\": false, \"type\": \"scatter\", \"data\": [0.9702035286628374, 0.9689959138791483, 0.9736045160442848, 0.5293349339075034, 0.9720152935298615, 0.810962738855682, 0.9735781597123903, 0.580593850932194, 0.9674338010879638, 0.622262899437205, 0.6020055888777986, 0.5580292860049817, 0.9706394181074464, 0.5849927501937006, 0.5949604700860985, 0.9706538579610083, 0.6055478857137091, 0.9719284305108276, 0.9733917827939935, 0.6294515618022491, 0.973971423369937, 0.9727446001982569, 0.9727446028479334, 0.9733401388330492, 0.9734187291205162, 0.9741494811874286, 0.9727446099137372, 0.6464758294242082, 0.9738858052572333, 0.9724646592290214, 0.9739463494814563, 0.9737020616756396, 0.036565376371201615, 0.9740328313886907, 0.9728445764661646, 0.9739694935222379, 0.9742593725447048, 0.9742184686057384]}, {\"categories\": [\"0\", \"1\", \"2\", \"3\", \"4\", \"5\", \"6\", \"7\", \"8\", \"9\", \"10\", \"11\", \"12\", \"13\", \"14\", \"15\", \"16\", \"17\", \"18\", \"19\", \"20\", \"21\", \"22\", \"23\", \"24\", \"25\", \"26\", \"27\", \"28\", \"29\", \"30\", \"31\", \"32\", \"33\", \"34\", \"35\", \"36\", \"37\"], \"mode\": \"lines\", \"name\": \"AUC_micro_max\", \"stepped\": true, \"type\": \"scatter\", \"data\": [0.9702035286628374, 0.9702035286628374, 0.9736045160442848, 0.9736045160442848, 0.9736045160442848, 0.9736045160442848, 0.9736045160442848, 0.9736045160442848, 0.9736045160442848, 0.9736045160442848, 0.9736045160442848, 0.9736045160442848, 0.9736045160442848, 0.9736045160442848, 0.9736045160442848, 0.9736045160442848, 0.9736045160442848, 0.9736045160442848, 0.9736045160442848, 0.9736045160442848, 0.973971423369937, 0.973971423369937, 0.973971423369937, 0.973971423369937, 0.973971423369937, 0.9741494811874286, 0.9741494811874286, 0.9741494811874286, 0.9741494811874286, 0.9741494811874286, 0.9741494811874286, 0.9741494811874286, 0.9741494811874286, 0.9741494811874286, 0.9741494811874286, 0.9741494811874286, 0.9742593725447048, 0.9742593725447048]}], \"precision_score_micro\": [{\"categories\": [\"0\", \"1\", \"2\", \"3\", \"4\", \"5\", \"6\", \"7\", \"8\", \"9\", \"10\", \"11\", \"12\", \"13\", \"14\", \"15\", \"16\", \"17\", \"18\", \"19\", \"20\", \"21\", \"22\", \"23\", \"24\", \"25\", \"26\", \"27\", \"28\", \"29\", \"30\", \"31\", \"32\", \"33\", \"34\", \"35\", \"36\", \"37\"], \"mode\": \"markers\", \"name\": \"precision_score_micro\", \"stepped\": false, \"type\": \"scatter\", \"data\": [0.9634346236287984, 0.9632665069558274, 0.9634346236287984, 0.5280334552179212, 0.9634346236287984, 0.7507880469045518, 0.9634346236287984, 0.5564661875341487, 0.963077375698735, 0.4085235153196318, 0.5609422939520027, 0.5664901441600471, 0.9634346236287984, 0.5487118059933593, 0.5470096246795276, 0.9634346236287984, 0.5806749884419787, 0.9634346236287984, 0.9634346236287984, 0.6049888622704157, 0.9634346236287984, 0.9634346236287984, 0.9634346236287984, 0.9634346236287984, 0.9634346236287984, 0.963413609044677, 0.9634346236287984, 0.6226411129323751, 0.9634346236287984, 0.9634346236287984, 0.9634346236287984, 0.9634346236287984, 0.036565376371201615, 0.9634346236287984, 0.9634346236287984, 0.9634346236287984, 0.9634346236287984, 0.9634346236287984]}, {\"categories\": [\"0\", \"1\", \"2\", \"3\", \"4\", \"5\", \"6\", \"7\", \"8\", \"9\", \"10\", \"11\", \"12\", \"13\", \"14\", \"15\", \"16\", \"17\", \"18\", \"19\", \"20\", \"21\", \"22\", \"23\", \"24\", \"25\", \"26\", \"27\", \"28\", \"29\", \"30\", \"31\", \"32\", \"33\", \"34\", \"35\", \"36\", \"37\"], \"mode\": \"lines\", \"name\": \"precision_score_micro_max\", \"stepped\": true, \"type\": \"scatter\", \"data\": [0.9634346236287984, 0.9634346236287984, 0.9634346236287984, 0.9634346236287984, 0.9634346236287984, 0.9634346236287984, 0.9634346236287984, 0.9634346236287984, 0.9634346236287984, 0.9634346236287984, 0.9634346236287984, 0.9634346236287984, 0.9634346236287984, 0.9634346236287984, 0.9634346236287984, 0.9634346236287984, 0.9634346236287984, 0.9634346236287984, 0.9634346236287984, 0.9634346236287984, 0.9634346236287984, 0.9634346236287984, 0.9634346236287984, 0.9634346236287984, 0.9634346236287984, 0.9634346236287984, 0.9634346236287984, 0.9634346236287984, 0.9634346236287984, 0.9634346236287984, 0.9634346236287984, 0.9634346236287984, 0.9634346236287984, 0.9634346236287984, 0.9634346236287984, 0.9634346236287984, 0.9634346236287984, 0.9634346236287984]}], \"f1_score_macro\": [{\"categories\": [\"0\", \"1\", \"2\", \"3\", \"4\", \"5\", \"6\", \"7\", \"8\", \"9\", \"10\", \"11\", \"12\", \"13\", \"14\", \"15\", \"16\", \"17\", \"18\", \"19\", \"20\", \"21\", \"22\", \"23\", \"24\", \"25\", \"26\", \"27\", \"28\", \"29\", \"30\", \"31\", \"32\", \"33\", \"34\", \"35\", \"36\", \"37\"], \"mode\": \"markers\", \"name\": \"f1_score_macro\", \"stepped\": false, \"type\": \"scatter\", \"data\": [0.4906884151040329, 0.49064480219215617, 0.4906884151040329, 0.3853865524624702, 0.4906884151040329, 0.47676246098582237, 0.4906884151040329, 0.3965240843986474, 0.49173104437411724, 0.3218986201739398, 0.4015028473580158, 0.40524984001979775, 0.4906884151040329, 0.3946362252160754, 0.3941240672368103, 0.4906884151040329, 0.40860601721106876, 0.4906884151040329, 0.4906884151040329, 0.41885142106499673, 0.4906884151040329, 0.4906884151040329, 0.4906884151040329, 0.4906884151040329, 0.4906884151040329, 0.490682963898492, 0.4906884151040329, 0.4305269202669227, 0.4906884151040329, 0.4906884151040329, 0.4906884151040329, 0.4906884151040329, 0.03527551392774601, 0.4906884151040329, 0.4906884151040329, 0.4906884151040329, 0.4906884151040329, 0.4906884151040329]}, {\"categories\": [\"0\", \"1\", \"2\", \"3\", \"4\", \"5\", \"6\", \"7\", \"8\", \"9\", \"10\", \"11\", \"12\", \"13\", \"14\", \"15\", \"16\", \"17\", \"18\", \"19\", \"20\", \"21\", \"22\", \"23\", \"24\", \"25\", \"26\", \"27\", \"28\", \"29\", \"30\", \"31\", \"32\", \"33\", \"34\", \"35\", \"36\", \"37\"], \"mode\": \"lines\", \"name\": \"f1_score_macro_max\", \"stepped\": true, \"type\": \"scatter\", \"data\": [0.4906884151040329, 0.4906884151040329, 0.4906884151040329, 0.4906884151040329, 0.4906884151040329, 0.4906884151040329, 0.4906884151040329, 0.4906884151040329, 0.49173104437411724, 0.49173104437411724, 0.49173104437411724, 0.49173104437411724, 0.49173104437411724, 0.49173104437411724, 0.49173104437411724, 0.49173104437411724, 0.49173104437411724, 0.49173104437411724, 0.49173104437411724, 0.49173104437411724, 0.49173104437411724, 0.49173104437411724, 0.49173104437411724, 0.49173104437411724, 0.49173104437411724, 0.49173104437411724, 0.49173104437411724, 0.49173104437411724, 0.49173104437411724, 0.49173104437411724, 0.49173104437411724, 0.49173104437411724, 0.49173104437411724, 0.49173104437411724, 0.49173104437411724, 0.49173104437411724, 0.49173104437411724, 0.49173104437411724]}], \"f1_score_micro\": [{\"categories\": [\"0\", \"1\", \"2\", \"3\", \"4\", \"5\", \"6\", \"7\", \"8\", \"9\", \"10\", \"11\", \"12\", \"13\", \"14\", \"15\", \"16\", \"17\", \"18\", \"19\", \"20\", \"21\", \"22\", \"23\", \"24\", \"25\", \"26\", \"27\", \"28\", \"29\", \"30\", \"31\", \"32\", \"33\", \"34\", \"35\", \"36\", \"37\"], \"mode\": \"markers\", \"name\": \"f1_score_micro\", \"stepped\": false, \"type\": \"scatter\", \"data\": [0.9634346236287984, 0.9632665069558274, 0.9634346236287984, 0.5280334552179212, 0.9634346236287984, 0.7507880469045518, 0.9634346236287984, 0.5564661875341487, 0.963077375698735, 0.40852351531963177, 0.5609422939520027, 0.5664901441600471, 0.9634346236287984, 0.5487118059933593, 0.5470096246795276, 0.9634346236287984, 0.5806749884419787, 0.9634346236287984, 0.9634346236287984, 0.6049888622704157, 0.9634346236287984, 0.9634346236287984, 0.9634346236287984, 0.9634346236287984, 0.9634346236287984, 0.963413609044677, 0.9634346236287984, 0.6226411129323751, 0.9634346236287984, 0.9634346236287984, 0.9634346236287984, 0.9634346236287984, 0.036565376371201615, 0.9634346236287984, 0.9634346236287984, 0.9634346236287984, 0.9634346236287984, 0.9634346236287984]}, {\"categories\": [\"0\", \"1\", \"2\", \"3\", \"4\", \"5\", \"6\", \"7\", \"8\", \"9\", \"10\", \"11\", \"12\", \"13\", \"14\", \"15\", \"16\", \"17\", \"18\", \"19\", \"20\", \"21\", \"22\", \"23\", \"24\", \"25\", \"26\", \"27\", \"28\", \"29\", \"30\", \"31\", \"32\", \"33\", \"34\", \"35\", \"36\", \"37\"], \"mode\": \"lines\", \"name\": \"f1_score_micro_max\", \"stepped\": true, \"type\": \"scatter\", \"data\": [0.9634346236287984, 0.9634346236287984, 0.9634346236287984, 0.9634346236287984, 0.9634346236287984, 0.9634346236287984, 0.9634346236287984, 0.9634346236287984, 0.9634346236287984, 0.9634346236287984, 0.9634346236287984, 0.9634346236287984, 0.9634346236287984, 0.9634346236287984, 0.9634346236287984, 0.9634346236287984, 0.9634346236287984, 0.9634346236287984, 0.9634346236287984, 0.9634346236287984, 0.9634346236287984, 0.9634346236287984, 0.9634346236287984, 0.9634346236287984, 0.9634346236287984, 0.9634346236287984, 0.9634346236287984, 0.9634346236287984, 0.9634346236287984, 0.9634346236287984, 0.9634346236287984, 0.9634346236287984, 0.9634346236287984, 0.9634346236287984, 0.9634346236287984, 0.9634346236287984, 0.9634346236287984, 0.9634346236287984]}], \"accuracy\": [{\"categories\": [\"0\", \"1\", \"2\", \"3\", \"4\", \"5\", \"6\", \"7\", \"8\", \"9\", \"10\", \"11\", \"12\", \"13\", \"14\", \"15\", \"16\", \"17\", \"18\", \"19\", \"20\", \"21\", \"22\", \"23\", \"24\", \"25\", \"26\", \"27\", \"28\", \"29\", \"30\", \"31\", \"32\", \"33\", \"34\", \"35\", \"36\", \"37\"], \"mode\": \"markers\", \"name\": \"accuracy\", \"stepped\": false, \"type\": \"scatter\", \"data\": [0.9634346236287984, 0.9632665069558274, 0.9634346236287984, 0.5280334552179212, 0.9634346236287984, 0.7507880469045518, 0.9634346236287984, 0.5564661875341487, 0.963077375698735, 0.4085235153196318, 0.5609422939520027, 0.5664901441600471, 0.9634346236287984, 0.5487118059933593, 0.5470096246795276, 0.9634346236287984, 0.5806749884419787, 0.9634346236287984, 0.9634346236287984, 0.6049888622704157, 0.9634346236287984, 0.9634346236287984, 0.9634346236287984, 0.9634346236287984, 0.9634346236287984, 0.963413609044677, 0.9634346236287984, 0.6226411129323751, 0.9634346236287984, 0.9634346236287984, 0.9634346236287984, 0.9634346236287984, 0.036565376371201615, 0.9634346236287984, 0.9634346236287984, 0.9634346236287984, 0.9634346236287984, 0.9634346236287984]}, {\"categories\": [\"0\", \"1\", \"2\", \"3\", \"4\", \"5\", \"6\", \"7\", \"8\", \"9\", \"10\", \"11\", \"12\", \"13\", \"14\", \"15\", \"16\", \"17\", \"18\", \"19\", \"20\", \"21\", \"22\", \"23\", \"24\", \"25\", \"26\", \"27\", \"28\", \"29\", \"30\", \"31\", \"32\", \"33\", \"34\", \"35\", \"36\", \"37\"], \"mode\": \"lines\", \"name\": \"accuracy_max\", \"stepped\": true, \"type\": \"scatter\", \"data\": [0.9634346236287984, 0.9634346236287984, 0.9634346236287984, 0.9634346236287984, 0.9634346236287984, 0.9634346236287984, 0.9634346236287984, 0.9634346236287984, 0.9634346236287984, 0.9634346236287984, 0.9634346236287984, 0.9634346236287984, 0.9634346236287984, 0.9634346236287984, 0.9634346236287984, 0.9634346236287984, 0.9634346236287984, 0.9634346236287984, 0.9634346236287984, 0.9634346236287984, 0.9634346236287984, 0.9634346236287984, 0.9634346236287984, 0.9634346236287984, 0.9634346236287984, 0.9634346236287984, 0.9634346236287984, 0.9634346236287984, 0.9634346236287984, 0.9634346236287984, 0.9634346236287984, 0.9634346236287984, 0.9634346236287984, 0.9634346236287984, 0.9634346236287984, 0.9634346236287984, 0.9634346236287984, 0.9634346236287984]}], \"AUC_weighted\": [{\"categories\": [\"0\", \"1\", \"2\", \"3\", \"4\", \"5\", \"6\", \"7\", \"8\", \"9\", \"10\", \"11\", \"12\", \"13\", \"14\", \"15\", \"16\", \"17\", \"18\", \"19\", \"20\", \"21\", \"22\", \"23\", \"24\", \"25\", \"26\", \"27\", \"28\", \"29\", \"30\", \"31\", \"32\", \"33\", \"34\", \"35\", \"36\", \"37\"], \"mode\": \"markers\", \"name\": \"AUC_weighted\", \"stepped\": false, \"type\": \"scatter\", \"data\": [0.5960718442201052, 0.5789350253547484, 0.6443424475543059, 0.6140345288900723, 0.6217864304335203, 0.5906537679116644, 0.6439683691178011, 0.5852111591981349, 0.567629297182321, 0.5791531280884881, 0.6194254967028547, 0.6260907079723672, 0.6022584730188673, 0.607584129727659, 0.6035409900511508, 0.6024634195139049, 0.6035336315831963, 0.6205535736581388, 0.6413231001739456, 0.5996766034816209, 0.6495500052399312, 0.6321375634871566, 0.6321376010943183, 0.6405901115227841, 0.6417055524717683, 0.6520772064999215, 0.6321377013800824, 0.6340238008204377, 0.6483348175626448, 0.6281643292562156, 0.6491941286696442, 0.6457269238695664, 0.5, 0.6504215762816145, 0.6335565381053312, 0.6495226146905608, 0.6536369008489691, 0.6530563465595214]}, {\"categories\": [\"0\", \"1\", \"2\", \"3\", \"4\", \"5\", \"6\", \"7\", \"8\", \"9\", \"10\", \"11\", \"12\", \"13\", \"14\", \"15\", \"16\", \"17\", \"18\", \"19\", \"20\", \"21\", \"22\", \"23\", \"24\", \"25\", \"26\", \"27\", \"28\", \"29\", \"30\", \"31\", \"32\", \"33\", \"34\", \"35\", \"36\", \"37\"], \"mode\": \"lines\", \"name\": \"AUC_weighted_max\", \"stepped\": true, \"type\": \"scatter\", \"data\": [0.5960718442201052, 0.5960718442201052, 0.6443424475543059, 0.6443424475543059, 0.6443424475543059, 0.6443424475543059, 0.6443424475543059, 0.6443424475543059, 0.6443424475543059, 0.6443424475543059, 0.6443424475543059, 0.6443424475543059, 0.6443424475543059, 0.6443424475543059, 0.6443424475543059, 0.6443424475543059, 0.6443424475543059, 0.6443424475543059, 0.6443424475543059, 0.6443424475543059, 0.6495500052399312, 0.6495500052399312, 0.6495500052399312, 0.6495500052399312, 0.6495500052399312, 0.6520772064999215, 0.6520772064999215, 0.6520772064999215, 0.6520772064999215, 0.6520772064999215, 0.6520772064999215, 0.6520772064999215, 0.6520772064999215, 0.6520772064999215, 0.6520772064999215, 0.6520772064999215, 0.6536369008489691, 0.6536369008489691]}], \"precision_score_macro\": [{\"categories\": [\"0\", \"1\", \"2\", \"3\", \"4\", \"5\", \"6\", \"7\", \"8\", \"9\", \"10\", \"11\", \"12\", \"13\", \"14\", \"15\", \"16\", \"17\", \"18\", \"19\", \"20\", \"21\", \"22\", \"23\", \"24\", \"25\", \"26\", \"27\", \"28\", \"29\", \"30\", \"31\", \"32\", \"33\", \"34\", \"35\", \"36\", \"37\"], \"mode\": \"markers\", \"name\": \"precision_score_macro\", \"stepped\": false, \"type\": \"scatter\", \"data\": [0.4817173118143992, 0.481714237672874, 0.4817173118143992, 0.5110636987886711, 0.4817173118143992, 0.513133232637839, 0.4817173118143992, 0.5089374136546845, 0.5293493114685168, 0.5071084688962286, 0.5122279077430664, 0.5136110996869975, 0.4817173118143992, 0.5107245719967147, 0.5110229826137542, 0.4817173118143992, 0.5105053530583065, 0.4817173118143992, 0.4817173118143992, 0.5104140188018902, 0.4817173118143992, 0.4817173118143992, 0.4817173118143992, 0.4817173118143992, 0.4817173118143992, 0.4817169276032363, 0.4817173118143992, 0.5146455308075941, 0.4817173118143992, 0.4817173118143992, 0.4817173118143992, 0.4817173118143992, 0.018282688185600807, 0.4817173118143992, 0.4817173118143992, 0.4817173118143992, 0.4817173118143992, 0.4817173118143992]}, {\"categories\": [\"0\", \"1\", \"2\", \"3\", \"4\", \"5\", \"6\", \"7\", \"8\", \"9\", \"10\", \"11\", \"12\", \"13\", \"14\", \"15\", \"16\", \"17\", \"18\", \"19\", \"20\", \"21\", \"22\", \"23\", \"24\", \"25\", \"26\", \"27\", \"28\", \"29\", \"30\", \"31\", \"32\", \"33\", \"34\", \"35\", \"36\", \"37\"], \"mode\": \"lines\", \"name\": \"precision_score_macro_max\", \"stepped\": true, \"type\": \"scatter\", \"data\": [0.4817173118143992, 0.4817173118143992, 0.4817173118143992, 0.5110636987886711, 0.5110636987886711, 0.513133232637839, 0.513133232637839, 0.513133232637839, 0.5293493114685168, 0.5293493114685168, 0.5293493114685168, 0.5293493114685168, 0.5293493114685168, 0.5293493114685168, 0.5293493114685168, 0.5293493114685168, 0.5293493114685168, 0.5293493114685168, 0.5293493114685168, 0.5293493114685168, 0.5293493114685168, 0.5293493114685168, 0.5293493114685168, 0.5293493114685168, 0.5293493114685168, 0.5293493114685168, 0.5293493114685168, 0.5293493114685168, 0.5293493114685168, 0.5293493114685168, 0.5293493114685168, 0.5293493114685168, 0.5293493114685168, 0.5293493114685168, 0.5293493114685168, 0.5293493114685168, 0.5293493114685168, 0.5293493114685168]}], \"AUC_macro\": [{\"categories\": [\"0\", \"1\", \"2\", \"3\", \"4\", \"5\", \"6\", \"7\", \"8\", \"9\", \"10\", \"11\", \"12\", \"13\", \"14\", \"15\", \"16\", \"17\", \"18\", \"19\", \"20\", \"21\", \"22\", \"23\", \"24\", \"25\", \"26\", \"27\", \"28\", \"29\", \"30\", \"31\", \"32\", \"33\", \"34\", \"35\", \"36\", \"37\"], \"mode\": \"markers\", \"name\": \"AUC_macro\", \"stepped\": false, \"type\": \"scatter\", \"data\": [0.5960718442201052, 0.5789350253547483, 0.644342447554306, 0.6140345288900723, 0.6217864304335203, 0.5906537679116644, 0.6439683691178011, 0.585211159198135, 0.567629297182321, 0.5791531280884881, 0.6194254967028547, 0.6260907079723672, 0.6022584730188673, 0.607584129727659, 0.6035409900511508, 0.6024634195139049, 0.6035336315831963, 0.6205535736581388, 0.6413231001739457, 0.5996766034816209, 0.6495500052399312, 0.6321375634871567, 0.6321376010943183, 0.6405901115227841, 0.6417055524717683, 0.6520772064999215, 0.6321377013800825, 0.6340238008204377, 0.6483348175626448, 0.6281643292562156, 0.6491941286696442, 0.6457269238695664, 0.5, 0.6504215762816146, 0.6335565381053312, 0.6495226146905608, 0.6536369008489691, 0.6530563465595214]}, {\"categories\": [\"0\", \"1\", \"2\", \"3\", \"4\", \"5\", \"6\", \"7\", \"8\", \"9\", \"10\", \"11\", \"12\", \"13\", \"14\", \"15\", \"16\", \"17\", \"18\", \"19\", \"20\", \"21\", \"22\", \"23\", \"24\", \"25\", \"26\", \"27\", \"28\", \"29\", \"30\", \"31\", \"32\", \"33\", \"34\", \"35\", \"36\", \"37\"], \"mode\": \"lines\", \"name\": \"AUC_macro_max\", \"stepped\": true, \"type\": \"scatter\", \"data\": [0.5960718442201052, 0.5960718442201052, 0.644342447554306, 0.644342447554306, 0.644342447554306, 0.644342447554306, 0.644342447554306, 0.644342447554306, 0.644342447554306, 0.644342447554306, 0.644342447554306, 0.644342447554306, 0.644342447554306, 0.644342447554306, 0.644342447554306, 0.644342447554306, 0.644342447554306, 0.644342447554306, 0.644342447554306, 0.644342447554306, 0.6495500052399312, 0.6495500052399312, 0.6495500052399312, 0.6495500052399312, 0.6495500052399312, 0.6520772064999215, 0.6520772064999215, 0.6520772064999215, 0.6520772064999215, 0.6520772064999215, 0.6520772064999215, 0.6520772064999215, 0.6520772064999215, 0.6520772064999215, 0.6520772064999215, 0.6520772064999215, 0.6536369008489691, 0.6536369008489691]}], \"average_precision_score_micro\": [{\"categories\": [\"0\", \"1\", \"2\", \"3\", \"4\", \"5\", \"6\", \"7\", \"8\", \"9\", \"10\", \"11\", \"12\", \"13\", \"14\", \"15\", \"16\", \"17\", \"18\", \"19\", \"20\", \"21\", \"22\", \"23\", \"24\", \"25\", \"26\", \"27\", \"28\", \"29\", \"30\", \"31\", \"32\", \"33\", \"34\", \"35\", \"36\", \"37\"], \"mode\": \"markers\", \"name\": \"average_precision_score_micro\", \"stepped\": false, \"type\": \"scatter\", \"data\": [0.9635479134276698, 0.9618140809504248, 0.9694091670220196, 0.5125869817647436, 0.9670463143915591, 0.7826219825609239, 0.9692331379334109, 0.5952514393940258, 0.9571641351539453, 0.701443618813246, 0.6073596985262232, 0.5217379440506588, 0.9645762443349974, 0.6101408145283996, 0.5891146489235709, 0.964453008323982, 0.5810556027880664, 0.9671272098185157, 0.9692688262667003, 0.5816228878934543, 0.9694645017244289, 0.9674101874409242, 0.9674101907297514, 0.9684498369708016, 0.9687981599998413, 0.9696463731679347, 0.9674101647638587, 0.6035050009266256, 0.9694086477236217, 0.9678138723175378, 0.9696342216303996, 0.9689771128332101, 0.48305433856356683, 0.969657966125886, 0.9685602588973873, 0.9696960477689645, 0.9698699356765976, 0.9698443791416943]}, {\"categories\": [\"0\", \"1\", \"2\", \"3\", \"4\", \"5\", \"6\", \"7\", \"8\", \"9\", \"10\", \"11\", \"12\", \"13\", \"14\", \"15\", \"16\", \"17\", \"18\", \"19\", \"20\", \"21\", \"22\", \"23\", \"24\", \"25\", \"26\", \"27\", \"28\", \"29\", \"30\", \"31\", \"32\", \"33\", \"34\", \"35\", \"36\", \"37\"], \"mode\": \"lines\", \"name\": \"average_precision_score_micro_max\", \"stepped\": true, \"type\": \"scatter\", \"data\": [0.9635479134276698, 0.9635479134276698, 0.9694091670220196, 0.9694091670220196, 0.9694091670220196, 0.9694091670220196, 0.9694091670220196, 0.9694091670220196, 0.9694091670220196, 0.9694091670220196, 0.9694091670220196, 0.9694091670220196, 0.9694091670220196, 0.9694091670220196, 0.9694091670220196, 0.9694091670220196, 0.9694091670220196, 0.9694091670220196, 0.9694091670220196, 0.9694091670220196, 0.9694645017244289, 0.9694645017244289, 0.9694645017244289, 0.9694645017244289, 0.9694645017244289, 0.9696463731679347, 0.9696463731679347, 0.9696463731679347, 0.9696463731679347, 0.9696463731679347, 0.9696463731679347, 0.9696463731679347, 0.9696463731679347, 0.969657966125886, 0.969657966125886, 0.9696960477689645, 0.9698699356765976, 0.9698699356765976]}]}, \"metricName\": null, \"primaryMetricName\": \"AUC_weighted\", \"showLegend\": false}, \"run_metrics\": [], \"run_logs\": \"\\nRun is completed.\", \"graph\": {}, \"widget_settings\": {\"childWidgetDisplay\": \"popup\", \"send_telemetry\": false, \"log_level\": \"NOTSET\", \"sdk_version\": \"1.0.76\"}, \"loading\": false}"
     },
     "metadata": {},
     "output_type": "display_data"
    }
   ],
   "source": [
    "# Explore the results of automatic training with a Jupyter widget: https://docs.microsoft.com/en-us/python/api/azureml-widgets/azureml.widgets?view=azure-ml-py\n",
    "from azureml.widgets import RunDetails\n",
    "RunDetails(run).show()"
   ]
  },
  {
   "cell_type": "markdown",
   "metadata": {},
   "source": [
    "### Measure Parent Run Time needed for the whole AutoML process "
   ]
  },
  {
   "cell_type": "code",
   "execution_count": 31,
   "metadata": {},
   "outputs": [
    {
     "name": "stdout",
     "output_type": "stream",
     "text": [
      "Run Timing: --- 5157.0 seconds needed for running the whole Remote AutoML Experiment ---\n"
     ]
    }
   ],
   "source": [
    "import time\n",
    "from datetime import datetime\n",
    "\n",
    "run_details = run.get_details()\n",
    "\n",
    "# Like: 2020-01-12T23:11:56.292703Z\n",
    "end_time_utc_str = run_details['endTimeUtc'].split(\".\")[0]\n",
    "start_time_utc_str = run_details['startTimeUtc'].split(\".\")[0]\n",
    "timestamp_end = time.mktime(datetime.strptime(end_time_utc_str, \"%Y-%m-%dT%H:%M:%S\").timetuple())\n",
    "timestamp_start = time.mktime(datetime.strptime(start_time_utc_str, \"%Y-%m-%dT%H:%M:%S\").timetuple())\n",
    "\n",
    "parent_run_time = timestamp_end - timestamp_start\n",
    "print('Run Timing: --- %s seconds needed for running the whole Remote AutoML Experiment ---' % (parent_run_time))"
   ]
  },
  {
   "cell_type": "markdown",
   "metadata": {},
   "source": [
    "## Retrieve the 'Best' Scikit-Learn Model"
   ]
  },
  {
   "cell_type": "code",
   "execution_count": 32,
   "metadata": {},
   "outputs": [
    {
     "name": "stdout",
     "output_type": "stream",
     "text": [
      "Run(Experiment: SDK_remote_porto_seguro_driver_pred,\n",
      "Id: AutoML_ad93b312-3aeb-427d-bffb-35b9807e6e82_36,\n",
      "Type: azureml.scriptrun,\n",
      "Status: Completed)\n",
      "--------\n",
      "Pipeline(memory=None,\n",
      "     steps=[('datatransformer', DataTransformer(enable_dnn=None, enable_feature_sweeping=None,\n",
      "        feature_sweeping_config=None, feature_sweeping_timeout=None,\n",
      "        featurization_config=None, is_cross_validation=None,\n",
      "        is_onnx_compatible=None, logger=None, observer=None, task=None)), ('pref...666666666666, 0.06666666666666667, 0.06666666666666667, 0.06666666666666667, 0.13333333333333333]))])\n"
     ]
    }
   ],
   "source": [
    "best_run, fitted_model = run.get_output()\n",
    "print(best_run)\n",
    "print('--------')\n",
    "print(fitted_model)"
   ]
  },
  {
   "cell_type": "markdown",
   "metadata": {},
   "source": [
    "## See files associated with the 'Best run'"
   ]
  },
  {
   "cell_type": "code",
   "execution_count": 33,
   "metadata": {},
   "outputs": [
    {
     "name": "stdout",
     "output_type": "stream",
     "text": [
      "['accuracy_table', 'automl_driver.py', 'azureml-logs/55_azureml-execution-tvmps_63bd8296a41f2401572d6eede84e034084bc73063ece64981d86289777effaa8_d.txt', 'azureml-logs/65_job_prep-tvmps_63bd8296a41f2401572d6eede84e034084bc73063ece64981d86289777effaa8_d.txt', 'azureml-logs/70_driver_log.txt', 'azureml-logs/75_job_post-tvmps_63bd8296a41f2401572d6eede84e034084bc73063ece64981d86289777effaa8_d.txt', 'azureml-logs/process_info.json', 'azureml-logs/process_status.json', 'confusion_matrix', 'logs/azureml/153_azureml.log', 'logs/azureml/azureml.log', 'logs/azureml/azureml_automl.log', 'outputs/conda_env_v_1_0_0.yml', 'outputs/env_dependencies.json', 'outputs/model.pkl', 'outputs/scoring_file_v_1_0_0.py', 'pipeline_graph.json']\n"
     ]
    }
   ],
   "source": [
    "print(best_run.get_file_names())\n",
    "\n",
    "# best_run.download_file('azureml-logs/70_driver_log.txt')"
   ]
  },
  {
   "cell_type": "markdown",
   "metadata": {},
   "source": [
    "## Make Predictions"
   ]
  },
  {
   "cell_type": "markdown",
   "metadata": {},
   "source": [
    "### Load Test Dataset from AML Workspace\n",
    "ISSUE: The Test dataset doesn't have any label column..."
   ]
  },
  {
   "cell_type": "code",
   "execution_count": 34,
   "metadata": {},
   "outputs": [],
   "source": [
    "# Commented since the Test Dataset doesn't have a label column\n",
    "# aml_test_dataset = ws.datasets['porto_seguro_safe_driver_prediction_test']\n",
    "\n",
    "# test_df = aml_test_dataset.to_pandas_dataframe()\n",
    "# print(test_df.shape)\n",
    "# test_df.head(5)"
   ]
  },
  {
   "cell_type": "markdown",
   "metadata": {},
   "source": [
    "### Prep Validation or Test Data: Extract X values (feature columns) from test dataset and convert to NumPi array for predicting "
   ]
  },
  {
   "cell_type": "code",
   "execution_count": 35,
   "metadata": {},
   "outputs": [
    {
     "data": {
      "text/html": [
       "<div>\n",
       "<style scoped>\n",
       "    .dataframe tbody tr th:only-of-type {\n",
       "        vertical-align: middle;\n",
       "    }\n",
       "\n",
       "    .dataframe tbody tr th {\n",
       "        vertical-align: top;\n",
       "    }\n",
       "\n",
       "    .dataframe thead th {\n",
       "        text-align: right;\n",
       "    }\n",
       "</style>\n",
       "<table border=\"1\" class=\"dataframe\">\n",
       "  <thead>\n",
       "    <tr style=\"text-align: right;\">\n",
       "      <th></th>\n",
       "      <th>id</th>\n",
       "      <th>ps_ind_01</th>\n",
       "      <th>ps_ind_02_cat</th>\n",
       "      <th>ps_ind_03</th>\n",
       "      <th>ps_ind_04_cat</th>\n",
       "      <th>ps_ind_05_cat</th>\n",
       "      <th>ps_ind_06_bin</th>\n",
       "      <th>ps_ind_07_bin</th>\n",
       "      <th>ps_ind_08_bin</th>\n",
       "      <th>ps_ind_09_bin</th>\n",
       "      <th>...</th>\n",
       "      <th>ps_calc_11</th>\n",
       "      <th>ps_calc_12</th>\n",
       "      <th>ps_calc_13</th>\n",
       "      <th>ps_calc_14</th>\n",
       "      <th>ps_calc_15_bin</th>\n",
       "      <th>ps_calc_16_bin</th>\n",
       "      <th>ps_calc_17_bin</th>\n",
       "      <th>ps_calc_18_bin</th>\n",
       "      <th>ps_calc_19_bin</th>\n",
       "      <th>ps_calc_20_bin</th>\n",
       "    </tr>\n",
       "  </thead>\n",
       "  <tbody>\n",
       "    <tr>\n",
       "      <th>count</th>\n",
       "      <td>119355.00</td>\n",
       "      <td>119355.00</td>\n",
       "      <td>119355.00</td>\n",
       "      <td>119355.00</td>\n",
       "      <td>119355.00</td>\n",
       "      <td>119355.00</td>\n",
       "      <td>119355.00</td>\n",
       "      <td>119355.00</td>\n",
       "      <td>119355.00</td>\n",
       "      <td>119355.00</td>\n",
       "      <td>...</td>\n",
       "      <td>119355.00</td>\n",
       "      <td>119355.00</td>\n",
       "      <td>119355.00</td>\n",
       "      <td>119355.00</td>\n",
       "      <td>119355.00</td>\n",
       "      <td>119355.00</td>\n",
       "      <td>119355.00</td>\n",
       "      <td>119355.00</td>\n",
       "      <td>119355.00</td>\n",
       "      <td>119355.00</td>\n",
       "    </tr>\n",
       "    <tr>\n",
       "      <th>mean</th>\n",
       "      <td>744170.72</td>\n",
       "      <td>1.90</td>\n",
       "      <td>1.36</td>\n",
       "      <td>4.42</td>\n",
       "      <td>0.42</td>\n",
       "      <td>0.40</td>\n",
       "      <td>0.39</td>\n",
       "      <td>0.26</td>\n",
       "      <td>0.16</td>\n",
       "      <td>0.19</td>\n",
       "      <td>...</td>\n",
       "      <td>5.44</td>\n",
       "      <td>1.44</td>\n",
       "      <td>2.88</td>\n",
       "      <td>7.55</td>\n",
       "      <td>0.12</td>\n",
       "      <td>0.63</td>\n",
       "      <td>0.56</td>\n",
       "      <td>0.29</td>\n",
       "      <td>0.35</td>\n",
       "      <td>0.15</td>\n",
       "    </tr>\n",
       "    <tr>\n",
       "      <th>std</th>\n",
       "      <td>429025.37</td>\n",
       "      <td>1.99</td>\n",
       "      <td>0.66</td>\n",
       "      <td>2.70</td>\n",
       "      <td>0.49</td>\n",
       "      <td>1.35</td>\n",
       "      <td>0.49</td>\n",
       "      <td>0.44</td>\n",
       "      <td>0.37</td>\n",
       "      <td>0.39</td>\n",
       "      <td>...</td>\n",
       "      <td>2.34</td>\n",
       "      <td>1.20</td>\n",
       "      <td>1.70</td>\n",
       "      <td>2.75</td>\n",
       "      <td>0.33</td>\n",
       "      <td>0.48</td>\n",
       "      <td>0.50</td>\n",
       "      <td>0.45</td>\n",
       "      <td>0.48</td>\n",
       "      <td>0.36</td>\n",
       "    </tr>\n",
       "    <tr>\n",
       "      <th>min</th>\n",
       "      <td>9.00</td>\n",
       "      <td>0.00</td>\n",
       "      <td>-1.00</td>\n",
       "      <td>0.00</td>\n",
       "      <td>-1.00</td>\n",
       "      <td>-1.00</td>\n",
       "      <td>0.00</td>\n",
       "      <td>0.00</td>\n",
       "      <td>0.00</td>\n",
       "      <td>0.00</td>\n",
       "      <td>...</td>\n",
       "      <td>0.00</td>\n",
       "      <td>0.00</td>\n",
       "      <td>0.00</td>\n",
       "      <td>0.00</td>\n",
       "      <td>0.00</td>\n",
       "      <td>0.00</td>\n",
       "      <td>0.00</td>\n",
       "      <td>0.00</td>\n",
       "      <td>0.00</td>\n",
       "      <td>0.00</td>\n",
       "    </tr>\n",
       "    <tr>\n",
       "      <th>25%</th>\n",
       "      <td>372705.50</td>\n",
       "      <td>0.00</td>\n",
       "      <td>1.00</td>\n",
       "      <td>2.00</td>\n",
       "      <td>0.00</td>\n",
       "      <td>0.00</td>\n",
       "      <td>0.00</td>\n",
       "      <td>0.00</td>\n",
       "      <td>0.00</td>\n",
       "      <td>0.00</td>\n",
       "      <td>...</td>\n",
       "      <td>4.00</td>\n",
       "      <td>1.00</td>\n",
       "      <td>2.00</td>\n",
       "      <td>6.00</td>\n",
       "      <td>0.00</td>\n",
       "      <td>0.00</td>\n",
       "      <td>0.00</td>\n",
       "      <td>0.00</td>\n",
       "      <td>0.00</td>\n",
       "      <td>0.00</td>\n",
       "    </tr>\n",
       "    <tr>\n",
       "      <th>50%</th>\n",
       "      <td>743546.00</td>\n",
       "      <td>1.00</td>\n",
       "      <td>1.00</td>\n",
       "      <td>4.00</td>\n",
       "      <td>0.00</td>\n",
       "      <td>0.00</td>\n",
       "      <td>0.00</td>\n",
       "      <td>0.00</td>\n",
       "      <td>0.00</td>\n",
       "      <td>0.00</td>\n",
       "      <td>...</td>\n",
       "      <td>5.00</td>\n",
       "      <td>1.00</td>\n",
       "      <td>3.00</td>\n",
       "      <td>7.00</td>\n",
       "      <td>0.00</td>\n",
       "      <td>1.00</td>\n",
       "      <td>1.00</td>\n",
       "      <td>0.00</td>\n",
       "      <td>0.00</td>\n",
       "      <td>0.00</td>\n",
       "    </tr>\n",
       "    <tr>\n",
       "      <th>75%</th>\n",
       "      <td>1114391.00</td>\n",
       "      <td>3.00</td>\n",
       "      <td>2.00</td>\n",
       "      <td>6.00</td>\n",
       "      <td>1.00</td>\n",
       "      <td>0.00</td>\n",
       "      <td>1.00</td>\n",
       "      <td>1.00</td>\n",
       "      <td>0.00</td>\n",
       "      <td>0.00</td>\n",
       "      <td>...</td>\n",
       "      <td>7.00</td>\n",
       "      <td>2.00</td>\n",
       "      <td>4.00</td>\n",
       "      <td>9.00</td>\n",
       "      <td>0.00</td>\n",
       "      <td>1.00</td>\n",
       "      <td>1.00</td>\n",
       "      <td>1.00</td>\n",
       "      <td>1.00</td>\n",
       "      <td>0.00</td>\n",
       "    </tr>\n",
       "    <tr>\n",
       "      <th>max</th>\n",
       "      <td>1488021.00</td>\n",
       "      <td>7.00</td>\n",
       "      <td>4.00</td>\n",
       "      <td>11.00</td>\n",
       "      <td>1.00</td>\n",
       "      <td>6.00</td>\n",
       "      <td>1.00</td>\n",
       "      <td>1.00</td>\n",
       "      <td>1.00</td>\n",
       "      <td>1.00</td>\n",
       "      <td>...</td>\n",
       "      <td>19.00</td>\n",
       "      <td>10.00</td>\n",
       "      <td>12.00</td>\n",
       "      <td>22.00</td>\n",
       "      <td>1.00</td>\n",
       "      <td>1.00</td>\n",
       "      <td>1.00</td>\n",
       "      <td>1.00</td>\n",
       "      <td>1.00</td>\n",
       "      <td>1.00</td>\n",
       "    </tr>\n",
       "  </tbody>\n",
       "</table>\n",
       "<p>8 rows × 58 columns</p>\n",
       "</div>"
      ],
      "text/plain": [
       "              id  ps_ind_01  ps_ind_02_cat  ps_ind_03  ps_ind_04_cat  \\\n",
       "count  119355.00  119355.00      119355.00  119355.00      119355.00   \n",
       "mean   744170.72       1.90           1.36       4.42           0.42   \n",
       "std    429025.37       1.99           0.66       2.70           0.49   \n",
       "min         9.00       0.00          -1.00       0.00          -1.00   \n",
       "25%    372705.50       0.00           1.00       2.00           0.00   \n",
       "50%    743546.00       1.00           1.00       4.00           0.00   \n",
       "75%   1114391.00       3.00           2.00       6.00           1.00   \n",
       "max   1488021.00       7.00           4.00      11.00           1.00   \n",
       "\n",
       "       ps_ind_05_cat  ps_ind_06_bin  ps_ind_07_bin  ps_ind_08_bin  \\\n",
       "count      119355.00      119355.00      119355.00      119355.00   \n",
       "mean            0.40           0.39           0.26           0.16   \n",
       "std             1.35           0.49           0.44           0.37   \n",
       "min            -1.00           0.00           0.00           0.00   \n",
       "25%             0.00           0.00           0.00           0.00   \n",
       "50%             0.00           0.00           0.00           0.00   \n",
       "75%             0.00           1.00           1.00           0.00   \n",
       "max             6.00           1.00           1.00           1.00   \n",
       "\n",
       "       ps_ind_09_bin       ...        ps_calc_11  ps_calc_12  ps_calc_13  \\\n",
       "count      119355.00       ...         119355.00   119355.00   119355.00   \n",
       "mean            0.19       ...              5.44        1.44        2.88   \n",
       "std             0.39       ...              2.34        1.20        1.70   \n",
       "min             0.00       ...              0.00        0.00        0.00   \n",
       "25%             0.00       ...              4.00        1.00        2.00   \n",
       "50%             0.00       ...              5.00        1.00        3.00   \n",
       "75%             0.00       ...              7.00        2.00        4.00   \n",
       "max             1.00       ...             19.00       10.00       12.00   \n",
       "\n",
       "       ps_calc_14  ps_calc_15_bin  ps_calc_16_bin  ps_calc_17_bin  \\\n",
       "count   119355.00       119355.00       119355.00       119355.00   \n",
       "mean         7.55            0.12            0.63            0.56   \n",
       "std          2.75            0.33            0.48            0.50   \n",
       "min          0.00            0.00            0.00            0.00   \n",
       "25%          6.00            0.00            0.00            0.00   \n",
       "50%          7.00            0.00            1.00            1.00   \n",
       "75%          9.00            0.00            1.00            1.00   \n",
       "max         22.00            1.00            1.00            1.00   \n",
       "\n",
       "       ps_calc_18_bin  ps_calc_19_bin  ps_calc_20_bin  \n",
       "count       119355.00       119355.00       119355.00  \n",
       "mean             0.29            0.35            0.15  \n",
       "std              0.45            0.48            0.36  \n",
       "min              0.00            0.00            0.00  \n",
       "25%              0.00            0.00            0.00  \n",
       "50%              0.00            0.00            0.00  \n",
       "75%              1.00            1.00            0.00  \n",
       "max              1.00            1.00            1.00  \n",
       "\n",
       "[8 rows x 58 columns]"
      ]
     },
     "execution_count": 35,
     "metadata": {},
     "output_type": "execute_result"
    }
   ],
   "source": [
    "import pandas as pd\n",
    "\n",
    "#Remove Label/y column\n",
    "if 'target' in validation_df.columns:\n",
    "    y_validation_df = validation_df.pop('target')\n",
    "\n",
    "x_validation_df = validation_df\n",
    "\n",
    "x_validation_df.describe()"
   ]
  },
  {
   "cell_type": "code",
   "execution_count": 36,
   "metadata": {},
   "outputs": [
    {
     "data": {
      "text/plain": [
       "count   119355.00\n",
       "mean         0.04\n",
       "std          0.19\n",
       "min          0.00\n",
       "25%          0.00\n",
       "50%          0.00\n",
       "75%          0.00\n",
       "max          1.00\n",
       "Name: target, dtype: float64"
      ]
     },
     "execution_count": 36,
     "metadata": {},
     "output_type": "execute_result"
    }
   ],
   "source": [
    "y_validation_df.describe()"
   ]
  },
  {
   "cell_type": "markdown",
   "metadata": {},
   "source": [
    "### Load model in memory"
   ]
  },
  {
   "cell_type": "code",
   "execution_count": 37,
   "metadata": {},
   "outputs": [
    {
     "name": "stdout",
     "output_type": "stream",
     "text": [
      "Pipeline(memory=None,\n",
      "     steps=[('datatransformer', DataTransformer(enable_dnn=None, enable_feature_sweeping=None,\n",
      "        feature_sweeping_config=None, feature_sweeping_timeout=None,\n",
      "        featurization_config=None, is_cross_validation=None,\n",
      "        is_onnx_compatible=None, logger=None, observer=None, task=None)), ('pref...666666666666, 0.06666666666666667, 0.06666666666666667, 0.06666666666666667, 0.13333333333333333]))])\n"
     ]
    }
   ],
   "source": [
    "# Load the model into memory\n",
    "import joblib\n",
    "fitted_model = joblib.load('model.pkl')\n",
    "print(fitted_model)"
   ]
  },
  {
   "cell_type": "markdown",
   "metadata": {},
   "source": [
    "### Make predictions in bulk"
   ]
  },
  {
   "cell_type": "code",
   "execution_count": 38,
   "metadata": {},
   "outputs": [
    {
     "name": "stdout",
     "output_type": "stream",
     "text": [
      "10 predictions: \n",
      "[0 0 0 0 0 0 0 0 0 0]\n"
     ]
    }
   ],
   "source": [
    "# Try the best model making predictions with the test dataset\n",
    "y_predictions = fitted_model.predict(x_validation_df)\n",
    "\n",
    "print('10 predictions: ')\n",
    "print(y_predictions[:10])"
   ]
  },
  {
   "cell_type": "markdown",
   "metadata": {},
   "source": [
    "## Evaluate Model\n",
    "\n",
    "Evaluating performance is an essential task in machine learning. In this case, because this is a classification problem, the data scientist elected to use an AUC - ROC Curve. When we need to check or visualize the performance of the multi - class classification problem, we use AUC (Area Under The Curve) ROC (Receiver Operating Characteristics) curve. It is one of the most important evaluation metrics for checking any classification model’s performance.\n",
    "\n",
    "<img src=\"https://www.researchgate.net/profile/Oxana_Trifonova/publication/276079439/figure/fig2/AS:614187332034565@1523445079168/An-example-of-ROC-curves-with-good-AUC-09-and-satisfactory-AUC-065-parameters.png\"\n",
    "     alt=\"Markdown Monster icon\"\n",
    "     style=\"float: left; margin-right: 12px; width: 320px; height: 239px;\" />"
   ]
  },
  {
   "cell_type": "markdown",
   "metadata": {},
   "source": [
    "### Calculate the Accuracy with Validation or Test Dataset"
   ]
  },
  {
   "cell_type": "code",
   "execution_count": 39,
   "metadata": {},
   "outputs": [
    {
     "name": "stdout",
     "output_type": "stream",
     "text": [
      "Accuracy with Scikit-Learn model:\n",
      "0.9640316702274727\n"
     ]
    }
   ],
   "source": [
    "from sklearn.metrics import accuracy_score\n",
    "\n",
    "print('Accuracy with Scikit-Learn model:')\n",
    "print(accuracy_score(y_validation_df, y_predictions))\n"
   ]
  },
  {
   "cell_type": "code",
   "execution_count": 40,
   "metadata": {},
   "outputs": [
    {
     "name": "stdout",
     "output_type": "stream",
     "text": [
      "AUC (Area Under the Curve) with Scikit-Learn model:\n"
     ]
    },
    {
     "data": {
      "text/plain": [
       "0.5"
      ]
     },
     "execution_count": 40,
     "metadata": {},
     "output_type": "execute_result"
    }
   ],
   "source": [
    "fpr, tpr, thresholds = metrics.roc_curve(y_validation_df, y_predictions)\n",
    "print('AUC (Area Under the Curve) with Scikit-Learn model:')\n",
    "metrics.auc(fpr, tpr)\n",
    "\n",
    "# AUC with plain LightGBM was: 0.6374553321494826 "
   ]
  },
  {
   "cell_type": "markdown",
   "metadata": {},
   "source": [
    "## Register Model in AML Model Registry"
   ]
  },
  {
   "cell_type": "code",
   "execution_count": null,
   "metadata": {},
   "outputs": [],
   "source": [
    "# TBD"
   ]
  },
  {
   "cell_type": "code",
   "execution_count": null,
   "metadata": {},
   "outputs": [],
   "source": []
  }
 ],
 "metadata": {
  "kernelspec": {
   "display_name": "Python 3",
   "language": "python",
   "name": "python3"
  },
  "language_info": {
   "codemirror_mode": {
    "name": "ipython",
    "version": 3
   },
   "file_extension": ".py",
   "mimetype": "text/x-python",
   "name": "python",
   "nbconvert_exporter": "python",
   "pygments_lexer": "ipython3",
   "version": "3.6.9"
  }
 },
 "nbformat": 4,
 "nbformat_minor": 4
}
